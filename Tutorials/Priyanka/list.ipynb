{
 "cells": [
  {
   "cell_type": "code",
   "execution_count": 12,
   "id": "ec961ce1",
   "metadata": {},
   "outputs": [
    {
     "data": {
      "text/plain": [
       "[25, 58, 65, 22]"
      ]
     },
     "execution_count": 12,
     "metadata": {},
     "output_type": "execute_result"
    }
   ],
   "source": [
    "nums = [25,58,65,22]\n",
    "nums"
   ]
  },
  {
   "cell_type": "code",
   "execution_count": 18,
   "id": "3aac4c11",
   "metadata": {},
   "outputs": [
    {
     "data": {
      "text/plain": [
       "[65, 22]"
      ]
     },
     "execution_count": 18,
     "metadata": {},
     "output_type": "execute_result"
    }
   ],
   "source": [
    "nums[2]\n",
    "nums[2:]"
   ]
  },
  {
   "cell_type": "code",
   "execution_count": 20,
   "id": "6504c7e2",
   "metadata": {},
   "outputs": [
    {
     "data": {
      "text/plain": [
       "['perry', 'john', 'novel']"
      ]
     },
     "execution_count": 20,
     "metadata": {},
     "output_type": "execute_result"
    }
   ],
   "source": [
    "names = [\"perry\",\"john\",\"novel\"]\n",
    "names"
   ]
  },
  {
   "cell_type": "code",
   "execution_count": 21,
   "id": "0d351a12",
   "metadata": {},
   "outputs": [
    {
     "data": {
      "text/plain": [
       "[[25, 58, 65, 22], ['perry', 'john', 'novel']]"
      ]
     },
     "execution_count": 21,
     "metadata": {},
     "output_type": "execute_result"
    }
   ],
   "source": [
    "mix = [nums,names]\n",
    "mix\n"
   ]
  },
  {
   "cell_type": "code",
   "execution_count": 42,
   "id": "38490ab9",
   "metadata": {},
   "outputs": [
    {
     "data": {
      "text/plain": [
       "258"
      ]
     },
     "execution_count": 42,
     "metadata": {},
     "output_type": "execute_result"
    }
   ],
   "source": [
    "nums = [25,87,63,14]\n",
    "nums\n",
    "nums.append(45)\n",
    "nums\n",
    "nums.insert(2,77)\n",
    "nums\n",
    "nums.remove(14)\n",
    "nums\n",
    "nums.pop(1)\n",
    "nums\n",
    "nums.pop()\n",
    "nums\n",
    "del nums[2:]\n",
    "nums\n",
    "nums.extend([55,69,32])\n",
    "nums\n",
    "nums.sort()\n",
    "nums\n",
    "min(nums)\n",
    "max(nums)\n",
    "sum(nums)"
   ]
  },
  {
   "cell_type": "code",
   "execution_count": 43,
   "id": "d4b757ec",
   "metadata": {},
   "outputs": [
    {
     "name": "stdout",
     "output_type": "stream",
     "text": [
      "['apple', 'banana', 'cherry']\n"
     ]
    }
   ],
   "source": [
    "thislist = [\"apple\", \"banana\", \"cherry\"]\n",
    "mylist = thislist.copy()\n",
    "print(mylist)"
   ]
  },
  {
   "cell_type": "code",
   "execution_count": 44,
   "id": "018bde88",
   "metadata": {},
   "outputs": [
    {
     "name": "stdout",
     "output_type": "stream",
     "text": [
      "['apple', 'banana', 'cherry']\n"
     ]
    }
   ],
   "source": [
    "thislist = [\"apple\", \"banana\", \"cherry\"]\n",
    "mylist = list(thislist)\n",
    "print(mylist)\n"
   ]
  },
  {
   "cell_type": "code",
   "execution_count": 46,
   "id": "883f3260",
   "metadata": {},
   "outputs": [
    {
     "name": "stdout",
     "output_type": "stream",
     "text": [
      "['a', 'b', 'c', 1, 2, 3]\n",
      "['a', 'b', 'c', 1, 2, 3]\n"
     ]
    }
   ],
   "source": [
    "list1 = [\"a\", \"b\" , \"c\"]\n",
    "list2 = [1, 2, 3]\n",
    "\n",
    "list1.extend(list2)\n",
    "print(list1)\n",
    "\n",
    "list1 = [\"a\", \"b\", \"c\"]\n",
    "list2 = [1, 2, 3]\n",
    "\n",
    "list3 = list1 + list2\n",
    "print(list3)\n",
    "\n",
    "\n"
   ]
  },
  {
   "cell_type": "code",
   "execution_count": null,
   "id": "4c3768bb",
   "metadata": {},
   "outputs": [],
   "source": []
  }
 ],
 "metadata": {
  "kernelspec": {
   "display_name": "Python 3 (ipykernel)",
   "language": "python",
   "name": "python3"
  },
  "language_info": {
   "codemirror_mode": {
    "name": "ipython",
    "version": 3
   },
   "file_extension": ".py",
   "mimetype": "text/x-python",
   "name": "python",
   "nbconvert_exporter": "python",
   "pygments_lexer": "ipython3",
   "version": "3.9.7"
  }
 },
 "nbformat": 4,
 "nbformat_minor": 5
}
