{
 "cells": [
  {
   "cell_type": "code",
   "execution_count": 1,
   "id": "87f0970f",
   "metadata": {
    "ExecuteTime": {
     "end_time": "2022-06-06T06:17:51.246097Z",
     "start_time": "2022-06-06T06:17:51.241055Z"
    }
   },
   "outputs": [],
   "source": [
    "import os "
   ]
  },
  {
   "cell_type": "code",
   "execution_count": 2,
   "id": "cc6f0360",
   "metadata": {
    "ExecuteTime": {
     "end_time": "2022-06-06T06:18:02.469782Z",
     "start_time": "2022-06-06T06:18:02.421285Z"
    }
   },
   "outputs": [
    {
     "data": {
      "text/plain": [
       "'C:\\\\Python_Projects\\\\Tutorials'"
      ]
     },
     "execution_count": 2,
     "metadata": {},
     "output_type": "execute_result"
    }
   ],
   "source": [
    "os.getcwd()"
   ]
  },
  {
   "cell_type": "code",
   "execution_count": 3,
   "id": "85f3d024",
   "metadata": {
    "ExecuteTime": {
     "end_time": "2022-06-06T06:18:17.749127Z",
     "start_time": "2022-06-06T06:18:17.737131Z"
    }
   },
   "outputs": [
    {
     "data": {
      "text/plain": [
       "['.ipynb_checkpoints',\n",
       " 'Array.ipynb',\n",
       " 'basic codes .ipynb',\n",
       " 'Booleans.ipynb',\n",
       " 'Comments.ipynb',\n",
       " 'Datatypes.ipynb',\n",
       " 'environment.csv',\n",
       " 'friends.csv',\n",
       " 'friends1.csv',\n",
       " 'helloworld.py',\n",
       " 'IfElse.ipynb',\n",
       " 'Indentation.ipynb',\n",
       " 'list.ipynb',\n",
       " 'nba.csv',\n",
       " 'Numpy pract.ipynb',\n",
       " 'Operators.ipynb',\n",
       " 'OS library.ipynb',\n",
       " 'Panda pract.ipynb',\n",
       " 'Patterns.ipynb',\n",
       " 'Practice1.ipynb',\n",
       " 'Practice2.ipynb',\n",
       " 'Practice3.ipynb',\n",
       " 'Practicee.ipynb',\n",
       " 'sample.csv',\n",
       " 'Strings.ipynb',\n",
       " 'tuples.ipynb',\n",
       " 'TupleSet.ipynb',\n",
       " 'Untitled.ipynb',\n",
       " 'Untitled1.ipynb',\n",
       " 'Untitled2.ipynb',\n",
       " 'Untitled3.ipynb',\n",
       " 'Variable.ipynb',\n",
       " 'While.ipynb']"
      ]
     },
     "execution_count": 3,
     "metadata": {},
     "output_type": "execute_result"
    }
   ],
   "source": [
    "os.listdir()"
   ]
  },
  {
   "cell_type": "code",
   "execution_count": 4,
   "id": "97a01854",
   "metadata": {
    "ExecuteTime": {
     "end_time": "2022-06-06T06:19:21.140119Z",
     "start_time": "2022-06-06T06:19:21.133573Z"
    }
   },
   "outputs": [],
   "source": [
    "os.chdir('C:\\\\Python_Projects')"
   ]
  },
  {
   "cell_type": "code",
   "execution_count": 5,
   "id": "b81d51d9",
   "metadata": {
    "ExecuteTime": {
     "end_time": "2022-06-06T06:19:29.306705Z",
     "start_time": "2022-06-06T06:19:29.299630Z"
    }
   },
   "outputs": [
    {
     "data": {
      "text/plain": [
       "'C:\\\\Python_Projects'"
      ]
     },
     "execution_count": 5,
     "metadata": {},
     "output_type": "execute_result"
    }
   ],
   "source": [
    "os.getcwd()"
   ]
  },
  {
   "cell_type": "code",
   "execution_count": 7,
   "id": "5cb1bfc9",
   "metadata": {
    "ExecuteTime": {
     "end_time": "2022-06-06T06:23:24.298010Z",
     "start_time": "2022-06-06T06:23:24.290461Z"
    }
   },
   "outputs": [
    {
     "name": "stdout",
     "output_type": "stream",
     "text": [
      "['Tutorials']\n"
     ]
    }
   ],
   "source": [
    "print(os.listdir())"
   ]
  },
  {
   "cell_type": "code",
   "execution_count": 16,
   "id": "5ece988c",
   "metadata": {
    "ExecuteTime": {
     "end_time": "2022-06-06T06:36:24.208442Z",
     "start_time": "2022-06-06T06:36:24.202299Z"
    }
   },
   "outputs": [],
   "source": [
    "os.chdir(r\"E:\\RBI Preps\")"
   ]
  },
  {
   "cell_type": "code",
   "execution_count": 17,
   "id": "00914b53",
   "metadata": {
    "ExecuteTime": {
     "end_time": "2022-06-06T06:36:27.149330Z",
     "start_time": "2022-06-06T06:36:27.143378Z"
    }
   },
   "outputs": [
    {
     "data": {
      "text/plain": [
       "'E:\\\\RBI Preps'"
      ]
     },
     "execution_count": 17,
     "metadata": {},
     "output_type": "execute_result"
    }
   ],
   "source": [
    "os.getcwd()"
   ]
  },
  {
   "cell_type": "code",
   "execution_count": 18,
   "id": "62c15a26",
   "metadata": {
    "ExecuteTime": {
     "end_time": "2022-06-06T06:36:29.920207Z",
     "start_time": "2022-06-06T06:36:29.912663Z"
    }
   },
   "outputs": [
    {
     "data": {
      "text/plain": [
       "['11th ncert Economics',\n",
       " 'Ace Reasoning.pdf',\n",
       " 'ECO Lectures',\n",
       " 'Edutap Economy material.pdf',\n",
       " 'Indian Economy- By Ramesh Singh.pdf',\n",
       " 'Inequalities.pdf',\n",
       " 'Question paper ebook.pdf',\n",
       " 'RBI VISION 2019-2021.PDF',\n",
       " 'Reasoning puzzle.pdf',\n",
       " 'strategy.docx',\n",
       " 'The Indian Financial system-By Bharathi V. Pathak.pdf']"
      ]
     },
     "execution_count": 18,
     "metadata": {},
     "output_type": "execute_result"
    }
   ],
   "source": [
    "os.listdir()"
   ]
  },
  {
   "cell_type": "code",
   "execution_count": 19,
   "id": "f19966ae",
   "metadata": {
    "ExecuteTime": {
     "end_time": "2022-06-06T06:36:41.499009Z",
     "start_time": "2022-06-06T06:36:41.491202Z"
    }
   },
   "outputs": [
    {
     "name": "stdout",
     "output_type": "stream",
     "text": [
      "E:\\RBI Preps\n",
      "E:\\RBI Preps\\11th ncert Economics\n",
      "E:\\RBI Preps\\ECO Lectures\n"
     ]
    }
   ],
   "source": [
    "for root, directory, file in os.walk(os.getcwd()):\n",
    "    print(root)"
   ]
  },
  {
   "cell_type": "code",
   "execution_count": 20,
   "id": "7c90ec9e",
   "metadata": {
    "ExecuteTime": {
     "end_time": "2022-06-06T06:40:23.018117Z",
     "start_time": "2022-06-06T06:40:23.008307Z"
    }
   },
   "outputs": [
    {
     "name": "stdout",
     "output_type": "stream",
     "text": [
      "['11th ncert Economics', 'ECO Lectures']\n",
      "[]\n",
      "[]\n"
     ]
    }
   ],
   "source": [
    "for root, directory, file in os.walk(os.getcwd()):\n",
    "    print(directory)"
   ]
  },
  {
   "cell_type": "code",
   "execution_count": 22,
   "id": "aaa14407",
   "metadata": {
    "ExecuteTime": {
     "end_time": "2022-06-06T06:41:34.509177Z",
     "start_time": "2022-06-06T06:41:34.501852Z"
    }
   },
   "outputs": [
    {
     "name": "stdout",
     "output_type": "stream",
     "text": [
      "['11th ncert Economics', 'ECO Lectures']\n"
     ]
    }
   ],
   "source": [
    "for root, directory, file in os.walk(os.getcwd()):\n",
    "    if len(directory) !=0:\n",
    "        print(directory)"
   ]
  },
  {
   "cell_type": "code",
   "execution_count": 23,
   "id": "0cbab243",
   "metadata": {
    "ExecuteTime": {
     "end_time": "2022-06-06T06:42:42.840568Z",
     "start_time": "2022-06-06T06:42:42.830330Z"
    }
   },
   "outputs": [
    {
     "name": "stdout",
     "output_type": "stream",
     "text": [
      "['Ace Reasoning.pdf', 'Edutap Economy material.pdf', 'Indian Economy- By Ramesh Singh.pdf', 'Inequalities.pdf', 'Question paper ebook.pdf', 'RBI VISION 2019-2021.PDF', 'Reasoning puzzle.pdf', 'strategy.docx', 'The Indian Financial system-By Bharathi V. Pathak.pdf']\n",
      "['Ch 1.pdf', 'Ch 10.pdf', 'Ch 2.pdf', 'Ch 3.pdf', 'Ch 4.pdf', 'Ch 5.pdf', 'Ch 6.pdf', 'Ch 7.pdf', 'Ch 8.pdf', 'Ch 9.pdf']\n",
      "['Lecture 1.mp4', 'Lecture 2.mp4', 'Lecture 3.mp4', 'Lecture 4 part 1.mp4', 'Lecture 4 part2.mp4']\n"
     ]
    }
   ],
   "source": [
    "for root, directory, file in os.walk(os.getcwd()):\n",
    "    print(file)"
   ]
  },
  {
   "cell_type": "code",
   "execution_count": 24,
   "id": "0ecff906",
   "metadata": {
    "ExecuteTime": {
     "end_time": "2022-06-06T06:46:15.705445Z",
     "start_time": "2022-06-06T06:46:15.690484Z"
    }
   },
   "outputs": [
    {
     "name": "stdout",
     "output_type": "stream",
     "text": [
      "Ace Reasoning.pdf\n",
      "Edutap Economy material.pdf\n",
      "Indian Economy- By Ramesh Singh.pdf\n",
      "Inequalities.pdf\n",
      "Question paper ebook.pdf\n",
      "Reasoning puzzle.pdf\n",
      "The Indian Financial system-By Bharathi V. Pathak.pdf\n",
      "Ch 1.pdf\n",
      "Ch 10.pdf\n",
      "Ch 2.pdf\n",
      "Ch 3.pdf\n",
      "Ch 4.pdf\n",
      "Ch 5.pdf\n",
      "Ch 6.pdf\n",
      "Ch 7.pdf\n",
      "Ch 8.pdf\n",
      "Ch 9.pdf\n"
     ]
    }
   ],
   "source": [
    "for root, directory, file in os.walk(os.getcwd()):\n",
    "    for f in file:\n",
    "        if \".pdf\" in f:\n",
    "            print(f)"
   ]
  },
  {
   "cell_type": "code",
   "execution_count": 2,
   "id": "1b53dff0",
   "metadata": {
    "ExecuteTime": {
     "end_time": "2022-06-06T06:49:26.778027Z",
     "start_time": "2022-06-06T06:49:26.765244Z"
    }
   },
   "outputs": [
    {
     "name": "stdout",
     "output_type": "stream",
     "text": [
      "Array.ipynb\n",
      "Array-checkpoint.ipynb\n"
     ]
    }
   ],
   "source": [
    "import os \n",
    "for root, directory, file in os.walk(os.getcwd()):\n",
    "    for f in file:\n",
    "        if f[0]==\"A\" in f:\n",
    "            print(f)"
   ]
  },
  {
   "cell_type": "code",
   "execution_count": 3,
   "id": "87d2984b",
   "metadata": {
    "ExecuteTime": {
     "end_time": "2022-06-06T06:51:50.967005Z",
     "start_time": "2022-06-06T06:51:50.950595Z"
    }
   },
   "outputs": [
    {
     "name": "stdout",
     "output_type": "stream",
     "text": [
      "C:\\Python_Projects\\Tutorials\\Array.ipynb\n",
      "C:\\Python_Projects\\Tutorials\\basic codes .ipynb\n",
      "C:\\Python_Projects\\Tutorials\\Booleans.ipynb\n",
      "C:\\Python_Projects\\Tutorials\\Comments.ipynb\n",
      "C:\\Python_Projects\\Tutorials\\Datatypes.ipynb\n",
      "C:\\Python_Projects\\Tutorials\\environment.csv\n",
      "C:\\Python_Projects\\Tutorials\\friends.csv\n",
      "C:\\Python_Projects\\Tutorials\\friends1.csv\n",
      "C:\\Python_Projects\\Tutorials\\helloworld.py\n",
      "C:\\Python_Projects\\Tutorials\\IfElse.ipynb\n",
      "C:\\Python_Projects\\Tutorials\\Indentation.ipynb\n",
      "C:\\Python_Projects\\Tutorials\\list.ipynb\n",
      "C:\\Python_Projects\\Tutorials\\nba.csv\n",
      "C:\\Python_Projects\\Tutorials\\Numpy pract.ipynb\n",
      "C:\\Python_Projects\\Tutorials\\Operators.ipynb\n",
      "C:\\Python_Projects\\Tutorials\\OS library.ipynb\n",
      "C:\\Python_Projects\\Tutorials\\Panda pract.ipynb\n",
      "C:\\Python_Projects\\Tutorials\\Patterns.ipynb\n",
      "C:\\Python_Projects\\Tutorials\\Practice1.ipynb\n",
      "C:\\Python_Projects\\Tutorials\\Practice2.ipynb\n",
      "C:\\Python_Projects\\Tutorials\\Practice3.ipynb\n",
      "C:\\Python_Projects\\Tutorials\\Practicee.ipynb\n",
      "C:\\Python_Projects\\Tutorials\\sample.csv\n",
      "C:\\Python_Projects\\Tutorials\\Strings.ipynb\n",
      "C:\\Python_Projects\\Tutorials\\tuples.ipynb\n",
      "C:\\Python_Projects\\Tutorials\\TupleSet.ipynb\n",
      "C:\\Python_Projects\\Tutorials\\Untitled.ipynb\n",
      "C:\\Python_Projects\\Tutorials\\Untitled1.ipynb\n",
      "C:\\Python_Projects\\Tutorials\\Untitled2.ipynb\n",
      "C:\\Python_Projects\\Tutorials\\Untitled3.ipynb\n",
      "C:\\Python_Projects\\Tutorials\\Variable.ipynb\n",
      "C:\\Python_Projects\\Tutorials\\While.ipynb\n",
      "C:\\Python_Projects\\Tutorials\\.ipynb_checkpoints\\Array-checkpoint.ipynb\n",
      "C:\\Python_Projects\\Tutorials\\.ipynb_checkpoints\\basic codes -checkpoint.ipynb\n",
      "C:\\Python_Projects\\Tutorials\\.ipynb_checkpoints\\Booleans-checkpoint.ipynb\n",
      "C:\\Python_Projects\\Tutorials\\.ipynb_checkpoints\\Comments-checkpoint.ipynb\n",
      "C:\\Python_Projects\\Tutorials\\.ipynb_checkpoints\\Datatypes-checkpoint.ipynb\n",
      "C:\\Python_Projects\\Tutorials\\.ipynb_checkpoints\\IfElse-checkpoint.ipynb\n",
      "C:\\Python_Projects\\Tutorials\\.ipynb_checkpoints\\Indentation-checkpoint.ipynb\n",
      "C:\\Python_Projects\\Tutorials\\.ipynb_checkpoints\\list-checkpoint.ipynb\n",
      "C:\\Python_Projects\\Tutorials\\.ipynb_checkpoints\\Numpy pract-checkpoint.ipynb\n",
      "C:\\Python_Projects\\Tutorials\\.ipynb_checkpoints\\Operators-checkpoint.ipynb\n",
      "C:\\Python_Projects\\Tutorials\\.ipynb_checkpoints\\OS library-checkpoint.ipynb\n",
      "C:\\Python_Projects\\Tutorials\\.ipynb_checkpoints\\Panda pract-checkpoint.ipynb\n",
      "C:\\Python_Projects\\Tutorials\\.ipynb_checkpoints\\Patterns-checkpoint.ipynb\n",
      "C:\\Python_Projects\\Tutorials\\.ipynb_checkpoints\\Practice1-checkpoint.ipynb\n",
      "C:\\Python_Projects\\Tutorials\\.ipynb_checkpoints\\Practice2-checkpoint.ipynb\n",
      "C:\\Python_Projects\\Tutorials\\.ipynb_checkpoints\\Practice3-checkpoint.ipynb\n",
      "C:\\Python_Projects\\Tutorials\\.ipynb_checkpoints\\Practicee-checkpoint.ipynb\n",
      "C:\\Python_Projects\\Tutorials\\.ipynb_checkpoints\\Strings-checkpoint.ipynb\n",
      "C:\\Python_Projects\\Tutorials\\.ipynb_checkpoints\\tuples-checkpoint.ipynb\n",
      "C:\\Python_Projects\\Tutorials\\.ipynb_checkpoints\\TupleSet-checkpoint.ipynb\n",
      "C:\\Python_Projects\\Tutorials\\.ipynb_checkpoints\\Untitled-checkpoint.ipynb\n",
      "C:\\Python_Projects\\Tutorials\\.ipynb_checkpoints\\Untitled1-checkpoint.ipynb\n",
      "C:\\Python_Projects\\Tutorials\\.ipynb_checkpoints\\Untitled2-checkpoint.ipynb\n",
      "C:\\Python_Projects\\Tutorials\\.ipynb_checkpoints\\Untitled3-checkpoint.ipynb\n",
      "C:\\Python_Projects\\Tutorials\\.ipynb_checkpoints\\Variable-checkpoint.ipynb\n",
      "C:\\Python_Projects\\Tutorials\\.ipynb_checkpoints\\While-checkpoint.ipynb\n"
     ]
    }
   ],
   "source": [
    "for root, directory, file in os.walk(os.getcwd()):\n",
    "    for f in file:\n",
    "        print(root + \"\\\\\" + f)"
   ]
  },
  {
   "cell_type": "code",
   "execution_count": 6,
   "id": "a4b0fb3b",
   "metadata": {
    "ExecuteTime": {
     "end_time": "2022-06-06T06:55:26.573670Z",
     "start_time": "2022-06-06T06:55:26.568158Z"
    }
   },
   "outputs": [],
   "source": [
    "os.chdir(\"E:\\RBI Preps\")"
   ]
  },
  {
   "cell_type": "code",
   "execution_count": 7,
   "id": "a09d769f",
   "metadata": {
    "ExecuteTime": {
     "end_time": "2022-06-06T06:55:34.666044Z",
     "start_time": "2022-06-06T06:55:34.649575Z"
    }
   },
   "outputs": [
    {
     "data": {
      "text/plain": [
       "'E:\\\\RBI Preps'"
      ]
     },
     "execution_count": 7,
     "metadata": {},
     "output_type": "execute_result"
    }
   ],
   "source": [
    "os.getcwd()"
   ]
  },
  {
   "cell_type": "code",
   "execution_count": 8,
   "id": "d6ffb36b",
   "metadata": {
    "ExecuteTime": {
     "end_time": "2022-06-06T06:55:55.854344Z",
     "start_time": "2022-06-06T06:55:55.848915Z"
    }
   },
   "outputs": [],
   "source": [
    "os.mkdir(\"perry\")"
   ]
  },
  {
   "cell_type": "code",
   "execution_count": 9,
   "id": "25220c8b",
   "metadata": {
    "ExecuteTime": {
     "end_time": "2022-06-06T06:56:54.058965Z",
     "start_time": "2022-06-06T06:56:54.048968Z"
    }
   },
   "outputs": [
    {
     "data": {
      "text/plain": [
       "['11th ncert Economics',\n",
       " 'Ace Reasoning.pdf',\n",
       " 'ECO Lectures',\n",
       " 'Edutap Economy material.pdf',\n",
       " 'Indian Economy- By Ramesh Singh.pdf',\n",
       " 'Inequalities.pdf',\n",
       " 'perry',\n",
       " 'Question paper ebook.pdf',\n",
       " 'RBI VISION 2019-2021.PDF',\n",
       " 'Reasoning puzzle.pdf',\n",
       " 'strategy.docx',\n",
       " 'The Indian Financial system-By Bharathi V. Pathak.pdf']"
      ]
     },
     "execution_count": 9,
     "metadata": {},
     "output_type": "execute_result"
    }
   ],
   "source": [
    "os.listdir()"
   ]
  },
  {
   "cell_type": "code",
   "execution_count": 10,
   "id": "f4df1da5",
   "metadata": {
    "ExecuteTime": {
     "end_time": "2022-06-06T06:57:08.861469Z",
     "start_time": "2022-06-06T06:57:08.855484Z"
    }
   },
   "outputs": [],
   "source": [
    "os.rmdir(\"perry\")"
   ]
  },
  {
   "cell_type": "code",
   "execution_count": 12,
   "id": "4fcc182f",
   "metadata": {
    "ExecuteTime": {
     "end_time": "2022-06-06T06:57:23.426166Z",
     "start_time": "2022-06-06T06:57:23.417047Z"
    }
   },
   "outputs": [
    {
     "data": {
      "text/plain": [
       "['11th ncert Economics',\n",
       " 'Ace Reasoning.pdf',\n",
       " 'ECO Lectures',\n",
       " 'Edutap Economy material.pdf',\n",
       " 'Indian Economy- By Ramesh Singh.pdf',\n",
       " 'Inequalities.pdf',\n",
       " 'Question paper ebook.pdf',\n",
       " 'RBI VISION 2019-2021.PDF',\n",
       " 'Reasoning puzzle.pdf',\n",
       " 'strategy.docx',\n",
       " 'The Indian Financial system-By Bharathi V. Pathak.pdf']"
      ]
     },
     "execution_count": 12,
     "metadata": {},
     "output_type": "execute_result"
    }
   ],
   "source": [
    "os.listdir()"
   ]
  },
  {
   "cell_type": "code",
   "execution_count": 13,
   "id": "66a2e847",
   "metadata": {
    "ExecuteTime": {
     "end_time": "2022-06-06T07:03:36.253043Z",
     "start_time": "2022-06-06T07:03:36.243553Z"
    }
   },
   "outputs": [
    {
     "data": {
      "text/plain": [
       "1296767"
      ]
     },
     "execution_count": 13,
     "metadata": {},
     "output_type": "execute_result"
    }
   ],
   "source": [
    "os.stat(\"Inequalities.pdf\").st_size"
   ]
  },
  {
   "cell_type": "code",
   "execution_count": 15,
   "id": "373afbd0",
   "metadata": {
    "ExecuteTime": {
     "end_time": "2022-06-06T07:04:03.978109Z",
     "start_time": "2022-06-06T07:04:03.971063Z"
    }
   },
   "outputs": [
    {
     "data": {
      "text/plain": [
       "1266.3740234375"
      ]
     },
     "execution_count": 15,
     "metadata": {},
     "output_type": "execute_result"
    }
   ],
   "source": [
    "os.stat(\"Inequalities.pdf\").st_size /1024"
   ]
  },
  {
   "cell_type": "code",
   "execution_count": 16,
   "id": "0489bac9",
   "metadata": {
    "ExecuteTime": {
     "end_time": "2022-06-06T07:05:45.382317Z",
     "start_time": "2022-06-06T07:05:45.067106Z"
    }
   },
   "outputs": [],
   "source": [
    "os.rename(\"Inequalities.pdf\",\"IQ.pdf\")"
   ]
  },
  {
   "cell_type": "code",
   "execution_count": 17,
   "id": "848391f3",
   "metadata": {
    "ExecuteTime": {
     "end_time": "2022-06-06T07:05:55.062456Z",
     "start_time": "2022-06-06T07:05:55.052484Z"
    }
   },
   "outputs": [
    {
     "data": {
      "text/plain": [
       "['11th ncert Economics',\n",
       " 'Ace Reasoning.pdf',\n",
       " 'ECO Lectures',\n",
       " 'Edutap Economy material.pdf',\n",
       " 'Indian Economy- By Ramesh Singh.pdf',\n",
       " 'IQ.pdf',\n",
       " 'Question paper ebook.pdf',\n",
       " 'RBI VISION 2019-2021.PDF',\n",
       " 'Reasoning puzzle.pdf',\n",
       " 'strategy.docx',\n",
       " 'The Indian Financial system-By Bharathi V. Pathak.pdf']"
      ]
     },
     "execution_count": 17,
     "metadata": {},
     "output_type": "execute_result"
    }
   ],
   "source": [
    "os.listdir()"
   ]
  },
  {
   "cell_type": "code",
   "execution_count": 18,
   "id": "b1c00da4",
   "metadata": {
    "ExecuteTime": {
     "end_time": "2022-06-06T07:08:36.598437Z",
     "start_time": "2022-06-06T07:08:36.592942Z"
    }
   },
   "outputs": [
    {
     "data": {
      "text/plain": [
       "'C:\\\\Users\\\\Priyanka\\\\Desktop'"
      ]
     },
     "execution_count": 18,
     "metadata": {},
     "output_type": "execute_result"
    }
   ],
   "source": [
    "os.environ[\"UserProfile\"] + \"\\Desktop\""
   ]
  },
  {
   "cell_type": "code",
   "execution_count": 19,
   "id": "dcedbd45",
   "metadata": {
    "ExecuteTime": {
     "end_time": "2022-06-06T07:08:57.728429Z",
     "start_time": "2022-06-06T07:08:57.723185Z"
    }
   },
   "outputs": [],
   "source": [
    "os.mkdir(\"aaa\")"
   ]
  },
  {
   "cell_type": "code",
   "execution_count": 20,
   "id": "4743c45d",
   "metadata": {
    "ExecuteTime": {
     "end_time": "2022-06-06T07:09:31.603202Z",
     "start_time": "2022-06-06T07:09:31.595840Z"
    }
   },
   "outputs": [
    {
     "data": {
      "text/plain": [
       "'E:\\\\RBI Preps'"
      ]
     },
     "execution_count": 20,
     "metadata": {},
     "output_type": "execute_result"
    }
   ],
   "source": [
    "os.getcwd()"
   ]
  },
  {
   "cell_type": "code",
   "execution_count": 34,
   "id": "549dba11",
   "metadata": {
    "ExecuteTime": {
     "end_time": "2022-06-06T07:49:02.049556Z",
     "start_time": "2022-06-06T07:49:02.042569Z"
    }
   },
   "outputs": [],
   "source": [
    "Students = [\"Ishu1\",\"Priyu2\",\"Jids3\",\"Bhakti4\", \"Aastha5\"]\n",
    "xyz = [\"Ishu1\",\"Aastha\"]\n",
    "for s in Students:\n",
    "    if s in xyz:\n",
    "        os.mkdir(s)"
   ]
  },
  {
   "cell_type": "code",
   "execution_count": 35,
   "id": "4f63f9db",
   "metadata": {
    "ExecuteTime": {
     "end_time": "2022-06-06T10:03:24.978467Z",
     "start_time": "2022-06-06T10:03:24.959794Z"
    }
   },
   "outputs": [
    {
     "ename": "FileExistsError",
     "evalue": "[WinError 183] Cannot create a file when that file already exists: 'Ishu1'",
     "output_type": "error",
     "traceback": [
      "\u001b[1;31m---------------------------------------------------------------------------\u001b[0m",
      "\u001b[1;31mFileExistsError\u001b[0m                           Traceback (most recent call last)",
      "\u001b[1;32m~\\AppData\\Local\\Temp/ipykernel_4332/356391009.py\u001b[0m in \u001b[0;36m<module>\u001b[1;34m\u001b[0m\n\u001b[0;32m      1\u001b[0m \u001b[0mStudents\u001b[0m \u001b[1;33m=\u001b[0m \u001b[1;33m[\u001b[0m\u001b[1;34m\"Ishu1\"\u001b[0m\u001b[1;33m,\u001b[0m\u001b[1;34m\"Priyu2\"\u001b[0m\u001b[1;33m,\u001b[0m\u001b[1;34m\"Jids3\"\u001b[0m\u001b[1;33m,\u001b[0m\u001b[1;34m\"Bhakti4\"\u001b[0m\u001b[1;33m,\u001b[0m \u001b[1;34m\"Aastha5\"\u001b[0m\u001b[1;33m]\u001b[0m\u001b[1;33m\u001b[0m\u001b[1;33m\u001b[0m\u001b[0m\n\u001b[0;32m      2\u001b[0m \u001b[1;32mfor\u001b[0m \u001b[0ms\u001b[0m \u001b[1;32min\u001b[0m \u001b[0mStudents\u001b[0m\u001b[1;33m:\u001b[0m\u001b[1;33m\u001b[0m\u001b[1;33m\u001b[0m\u001b[0m\n\u001b[1;32m----> 3\u001b[1;33m      \u001b[0mos\u001b[0m\u001b[1;33m.\u001b[0m\u001b[0mmkdir\u001b[0m\u001b[1;33m(\u001b[0m\u001b[0ms\u001b[0m\u001b[1;33m)\u001b[0m\u001b[1;33m\u001b[0m\u001b[1;33m\u001b[0m\u001b[0m\n\u001b[0m",
      "\u001b[1;31mFileExistsError\u001b[0m: [WinError 183] Cannot create a file when that file already exists: 'Ishu1'"
     ]
    }
   ],
   "source": [
    "Students = [\"Ishu1\",\"Priyu2\",\"Jids3\",\"Bhakti4\", \"Aastha5\"]\n",
    "for s in Students:\n",
    "     os.mkdir(s)"
   ]
  },
  {
   "cell_type": "code",
   "execution_count": 37,
   "id": "978a432c",
   "metadata": {
    "ExecuteTime": {
     "end_time": "2022-06-06T10:04:02.305275Z",
     "start_time": "2022-06-06T10:04:02.300020Z"
    }
   },
   "outputs": [],
   "source": [
    "os.rmdir(\"Ishu1\")"
   ]
  },
  {
   "cell_type": "code",
   "execution_count": null,
   "id": "3a51b969",
   "metadata": {},
   "outputs": [],
   "source": []
  }
 ],
 "metadata": {
  "kernelspec": {
   "display_name": "Python 3 (ipykernel)",
   "language": "python",
   "name": "python3"
  },
  "language_info": {
   "codemirror_mode": {
    "name": "ipython",
    "version": 3
   },
   "file_extension": ".py",
   "mimetype": "text/x-python",
   "name": "python",
   "nbconvert_exporter": "python",
   "pygments_lexer": "ipython3",
   "version": "3.9.7"
  },
  "toc": {
   "base_numbering": 1,
   "nav_menu": {},
   "number_sections": true,
   "sideBar": true,
   "skip_h1_title": false,
   "title_cell": "Table of Contents",
   "title_sidebar": "Contents",
   "toc_cell": false,
   "toc_position": {},
   "toc_section_display": true,
   "toc_window_display": false
  },
  "varInspector": {
   "cols": {
    "lenName": 16,
    "lenType": 16,
    "lenVar": 40
   },
   "kernels_config": {
    "python": {
     "delete_cmd_postfix": "",
     "delete_cmd_prefix": "del ",
     "library": "var_list.py",
     "varRefreshCmd": "print(var_dic_list())"
    },
    "r": {
     "delete_cmd_postfix": ") ",
     "delete_cmd_prefix": "rm(",
     "library": "var_list.r",
     "varRefreshCmd": "cat(var_dic_list()) "
    }
   },
   "types_to_exclude": [
    "module",
    "function",
    "builtin_function_or_method",
    "instance",
    "_Feature"
   ],
   "window_display": false
  }
 },
 "nbformat": 4,
 "nbformat_minor": 5
}
