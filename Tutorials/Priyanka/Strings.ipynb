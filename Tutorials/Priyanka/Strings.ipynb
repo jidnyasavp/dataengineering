{
 "cells": [
  {
   "cell_type": "code",
   "execution_count": 1,
   "id": "65005c6d",
   "metadata": {},
   "outputs": [
    {
     "name": "stdout",
     "output_type": "stream",
     "text": [
      "Hello\n"
     ]
    }
   ],
   "source": [
    "a = \"Hello\"  #assigning str o a variable\n",
    "print(a)\n"
   ]
  },
  {
   "cell_type": "code",
   "execution_count": 4,
   "id": "d9bea3ed",
   "metadata": {},
   "outputs": [
    {
     "name": "stdout",
     "output_type": "stream",
     "text": [
      "hsjdd nkdffkjw dfj sdfnsad fdfjfh fdfasm fjw sdffklawehf ssdkaknf ssdfnaf     \n",
      "sddffnddf anjfdnsdf jaddf,fsdf sdnndf\n",
      "fsajddfjs\n"
     ]
    }
   ],
   "source": [
    "a = \"\"\"hsjdd nkdffkjw dfj sdfnsad fdfjfh fdfasm fjw sdffklawehf ssdkaknf ssdfnaf     \n",
    "sddffnddf anjfdnsdf jaddf,fsdf sdnndf\n",
    "fsajddfjs\"\"\"         #multiline string\n",
    "print(a)"
   ]
  },
  {
   "cell_type": "code",
   "execution_count": 5,
   "id": "cb883cdd",
   "metadata": {},
   "outputs": [
    {
     "name": "stdout",
     "output_type": "stream",
     "text": [
      "e\n"
     ]
    }
   ],
   "source": [
    "a = \"perry\"\n",
    "print(a[1])"
   ]
  },
  {
   "cell_type": "code",
   "execution_count": 9,
   "id": "b8ecc4b0",
   "metadata": {},
   "outputs": [
    {
     "name": "stdout",
     "output_type": "stream",
     "text": [
      "10\n",
      "13\n"
     ]
    }
   ],
   "source": [
    "a = \"HelloWorld\"\n",
    "print(len(a))\n",
    "a = \"Hello, World!\"\n",
    "print(len(a))"
   ]
  },
  {
   "cell_type": "code",
   "execution_count": 15,
   "id": "66bd9a3d",
   "metadata": {},
   "outputs": [
    {
     "name": "stdout",
     "output_type": "stream",
     "text": [
      "False\n"
     ]
    }
   ],
   "source": [
    "book = 'can\\'t hurt me'    #check string using 'in'\n",
    "print(\"free\" in book)"
   ]
  },
  {
   "cell_type": "code",
   "execution_count": 14,
   "id": "564b6cbd",
   "metadata": {},
   "outputs": [
    {
     "name": "stdout",
     "output_type": "stream",
     "text": [
      "True\n"
     ]
    }
   ],
   "source": [
    "book = 'can\\'t hurt me'    #check string using 'not in'\n",
    "print(\"free\" not in book)"
   ]
  },
  {
   "cell_type": "code",
   "execution_count": 22,
   "id": "d54d321f",
   "metadata": {},
   "outputs": [
    {
     "name": "stdout",
     "output_type": "stream",
     "text": [
      "yes \n"
     ]
    }
   ],
   "source": [
    "book = 'can\\'t hurt me' \n",
    "if \"me\" in book:               #check string using 'if'\n",
    "    print(\"yes \")"
   ]
  },
  {
   "cell_type": "code",
   "execution_count": 23,
   "id": "bb8fcfc2",
   "metadata": {},
   "outputs": [
    {
     "name": "stdout",
     "output_type": "stream",
     "text": [
      "no \n"
     ]
    }
   ],
   "source": [
    "book = 'can\\'t hurt me' \n",
    "if \"free\" not in book:               #check string using 'if not'\n",
    "    print(\"no \")"
   ]
  },
  {
   "cell_type": "code",
   "execution_count": 30,
   "id": "989fd3ff",
   "metadata": {},
   "outputs": [
    {
     "name": "stdout",
     "output_type": "stream",
     "text": [
      "llo\n",
      "Hello\n",
      "llo, World!\n",
      "orl\n"
     ]
    }
   ],
   "source": [
    "b = \"Hello, World!\"                  #slicing str\n",
    "print(b[2:5])\n",
    "print(b[:5])\n",
    "print(b[2:])\n",
    "print(b[-5:-2])"
   ]
  },
  {
   "cell_type": "code",
   "execution_count": 53,
   "id": "48dafecb",
   "metadata": {},
   "outputs": [
    {
     "name": "stdout",
     "output_type": "stream",
     "text": [
      "HELLO WORLD\n",
      "hello world\n",
      "hello world\n",
      "hBllo world\n",
      "['hello world']\n"
     ]
    }
   ],
   "source": [
    "a = 'hello world'\n",
    "print(a.upper())\n",
    "print(a.lower())\n",
    "print(a.strip())\n",
    "print(a.replace(\"e\",\"B\"))\n",
    "print(a.split(\",\"))"
   ]
  },
  {
   "cell_type": "code",
   "execution_count": 55,
   "id": "d8e8d6b8",
   "metadata": {},
   "outputs": [
    {
     "name": "stdout",
     "output_type": "stream",
     "text": [
      "helloworld\n",
      "hello world\n"
     ]
    }
   ],
   "source": [
    "a = \"hello\"\n",
    "b = \"world\"\n",
    "c = a + b\n",
    "d = a + \" \" + b\n",
    "print(c)\n",
    "print(d)"
   ]
  },
  {
   "cell_type": "code",
   "execution_count": 64,
   "id": "d5620ac4",
   "metadata": {},
   "outputs": [
    {
     "name": "stdout",
     "output_type": "stream",
     "text": [
      "My name is Perry and i am 20\n",
      "I want to pay 49.95 dollars for 3 pieces of item 567.\n"
     ]
    }
   ],
   "source": [
    "a = 20\n",
    "b = \"My name is Perry and i am {}\"                 #using format func to combine str and variable\n",
    "print(b.format(a))\n",
    "\n",
    "quantity = 3\n",
    "itemno = 567\n",
    "price = 49.95\n",
    "myorder = \"I want to pay {2} dollars for {0} pieces of item {1}.\"\n",
    "print(myorder.format(quantity, itemno, price))\n",
    "\n"
   ]
  },
  {
   "cell_type": "code",
   "execution_count": 77,
   "id": "cdd424ac",
   "metadata": {},
   "outputs": [
    {
     "name": "stdout",
     "output_type": "stream",
     "text": [
      "can't hurt me\n",
      " John the \"best\" \n",
      "this is a text\\\n"
     ]
    }
   ],
   "source": [
    "txt = 'can\\'t hurt me'\n",
    "print(txt)\n",
    "a =\" John the \\\"best\\\" \"\n",
    "print(a)\n",
    "b = \"this is a text\\\\\"\n",
    "print(b)"
   ]
  },
  {
   "cell_type": "code",
   "execution_count": null,
   "id": "70102206",
   "metadata": {},
   "outputs": [],
   "source": []
  },
  {
   "cell_type": "code",
   "execution_count": null,
   "id": "2bc121f1",
   "metadata": {},
   "outputs": [],
   "source": []
  },
  {
   "cell_type": "code",
   "execution_count": null,
   "id": "4407714e",
   "metadata": {},
   "outputs": [],
   "source": []
  }
 ],
 "metadata": {
  "kernelspec": {
   "display_name": "Python 3 (ipykernel)",
   "language": "python",
   "name": "python3"
  },
  "language_info": {
   "codemirror_mode": {
    "name": "ipython",
    "version": 3
   },
   "file_extension": ".py",
   "mimetype": "text/x-python",
   "name": "python",
   "nbconvert_exporter": "python",
   "pygments_lexer": "ipython3",
   "version": "3.9.7"
  }
 },
 "nbformat": 4,
 "nbformat_minor": 5
}
