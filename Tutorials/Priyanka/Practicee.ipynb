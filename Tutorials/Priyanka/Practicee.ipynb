{
 "cells": [
  {
   "cell_type": "code",
   "execution_count": 1,
   "id": "a7091d0b",
   "metadata": {
    "ExecuteTime": {
     "end_time": "2022-05-27T11:24:18.003769Z",
     "start_time": "2022-05-27T11:24:17.988192Z"
    }
   },
   "outputs": [
    {
     "data": {
      "text/plain": [
       "[14, 97, 66, 78, 16]"
      ]
     },
     "execution_count": 1,
     "metadata": {},
     "output_type": "execute_result"
    }
   ],
   "source": [
    "nums = [14,97,66,78,16]\n",
    "nums\n"
   ]
  },
  {
   "cell_type": "code",
   "execution_count": 2,
   "id": "b6710731",
   "metadata": {
    "ExecuteTime": {
     "end_time": "2022-05-27T11:24:29.683262Z",
     "start_time": "2022-05-27T11:24:29.679105Z"
    }
   },
   "outputs": [],
   "source": [
    "nums.append(55)"
   ]
  },
  {
   "cell_type": "code",
   "execution_count": 3,
   "id": "08e66f34",
   "metadata": {
    "ExecuteTime": {
     "end_time": "2022-05-27T11:24:32.074768Z",
     "start_time": "2022-05-27T11:24:32.069565Z"
    }
   },
   "outputs": [
    {
     "data": {
      "text/plain": [
       "[14, 97, 66, 78, 16, 55]"
      ]
     },
     "execution_count": 3,
     "metadata": {},
     "output_type": "execute_result"
    }
   ],
   "source": [
    "nums"
   ]
  },
  {
   "cell_type": "code",
   "execution_count": 4,
   "id": "08f339fc",
   "metadata": {
    "ExecuteTime": {
     "end_time": "2022-05-27T11:24:44.682464Z",
     "start_time": "2022-05-27T11:24:44.677529Z"
    }
   },
   "outputs": [],
   "source": [
    "nums.insert(2,44)"
   ]
  },
  {
   "cell_type": "code",
   "execution_count": 5,
   "id": "cf7302db",
   "metadata": {
    "ExecuteTime": {
     "end_time": "2022-05-27T11:24:46.931577Z",
     "start_time": "2022-05-27T11:24:46.925280Z"
    }
   },
   "outputs": [
    {
     "data": {
      "text/plain": [
       "[14, 97, 44, 66, 78, 16, 55]"
      ]
     },
     "execution_count": 5,
     "metadata": {},
     "output_type": "execute_result"
    }
   ],
   "source": [
    "nums"
   ]
  },
  {
   "cell_type": "code",
   "execution_count": 6,
   "id": "fbb7de13",
   "metadata": {
    "ExecuteTime": {
     "end_time": "2022-05-27T11:25:00.936734Z",
     "start_time": "2022-05-27T11:25:00.933009Z"
    }
   },
   "outputs": [],
   "source": [
    "nums.remove(16)"
   ]
  },
  {
   "cell_type": "code",
   "execution_count": 7,
   "id": "140dbb65",
   "metadata": {
    "ExecuteTime": {
     "end_time": "2022-05-27T11:25:03.653799Z",
     "start_time": "2022-05-27T11:25:03.648069Z"
    }
   },
   "outputs": [
    {
     "data": {
      "text/plain": [
       "[14, 97, 44, 66, 78, 55]"
      ]
     },
     "execution_count": 7,
     "metadata": {},
     "output_type": "execute_result"
    }
   ],
   "source": [
    "nums"
   ]
  },
  {
   "cell_type": "code",
   "execution_count": 8,
   "id": "01246b4b",
   "metadata": {
    "ExecuteTime": {
     "end_time": "2022-05-27T11:26:50.695193Z",
     "start_time": "2022-05-27T11:26:50.683017Z"
    }
   },
   "outputs": [
    {
     "data": {
      "text/plain": [
       "55"
      ]
     },
     "execution_count": 8,
     "metadata": {},
     "output_type": "execute_result"
    }
   ],
   "source": [
    "nums.pop()"
   ]
  },
  {
   "cell_type": "code",
   "execution_count": 9,
   "id": "8fd39022",
   "metadata": {
    "ExecuteTime": {
     "end_time": "2022-05-27T11:26:54.240614Z",
     "start_time": "2022-05-27T11:26:54.233028Z"
    }
   },
   "outputs": [
    {
     "data": {
      "text/plain": [
       "[14, 97, 44, 66, 78]"
      ]
     },
     "execution_count": 9,
     "metadata": {},
     "output_type": "execute_result"
    }
   ],
   "source": [
    "nums"
   ]
  },
  {
   "cell_type": "code",
   "execution_count": 12,
   "id": "8852b105",
   "metadata": {
    "ExecuteTime": {
     "end_time": "2022-05-27T11:27:18.502647Z",
     "start_time": "2022-05-27T11:27:18.494585Z"
    }
   },
   "outputs": [
    {
     "data": {
      "text/plain": [
       "44"
      ]
     },
     "execution_count": 12,
     "metadata": {},
     "output_type": "execute_result"
    }
   ],
   "source": [
    "nums.pop(2)"
   ]
  },
  {
   "cell_type": "code",
   "execution_count": 13,
   "id": "be089077",
   "metadata": {
    "ExecuteTime": {
     "end_time": "2022-05-27T11:27:23.765069Z",
     "start_time": "2022-05-27T11:27:23.755826Z"
    }
   },
   "outputs": [
    {
     "data": {
      "text/plain": [
       "[14, 97, 66, 78]"
      ]
     },
     "execution_count": 13,
     "metadata": {},
     "output_type": "execute_result"
    }
   ],
   "source": [
    "nums"
   ]
  },
  {
   "cell_type": "code",
   "execution_count": 14,
   "id": "04b40651",
   "metadata": {
    "ExecuteTime": {
     "end_time": "2022-05-27T11:27:40.674501Z",
     "start_time": "2022-05-27T11:27:40.669474Z"
    }
   },
   "outputs": [],
   "source": [
    "del nums[2:]"
   ]
  },
  {
   "cell_type": "code",
   "execution_count": 15,
   "id": "02cd31e2",
   "metadata": {
    "ExecuteTime": {
     "end_time": "2022-05-27T11:27:44.669003Z",
     "start_time": "2022-05-27T11:27:44.660646Z"
    }
   },
   "outputs": [
    {
     "data": {
      "text/plain": [
       "[14, 97]"
      ]
     },
     "execution_count": 15,
     "metadata": {},
     "output_type": "execute_result"
    }
   ],
   "source": [
    "nums\n"
   ]
  },
  {
   "cell_type": "code",
   "execution_count": 18,
   "id": "b1124b2d",
   "metadata": {
    "ExecuteTime": {
     "end_time": "2022-05-27T11:40:05.249438Z",
     "start_time": "2022-05-27T11:40:05.243554Z"
    }
   },
   "outputs": [
    {
     "name": "stdout",
     "output_type": "stream",
     "text": [
      "<class 'str'>\n"
     ]
    }
   ],
   "source": [
    "x = \"5.2\"\n",
    "print(type(x))"
   ]
  },
  {
   "cell_type": "code",
   "execution_count": 21,
   "id": "030920b5",
   "metadata": {
    "ExecuteTime": {
     "end_time": "2022-05-27T16:59:18.249754Z",
     "start_time": "2022-05-27T16:59:18.241309Z"
    }
   },
   "outputs": [
    {
     "name": "stdout",
     "output_type": "stream",
     "text": [
      "a\n",
      "p\n",
      "p\n",
      "l\n",
      "e\n"
     ]
    }
   ],
   "source": [
    "for x in \"apple\":\n",
    "    print(x)"
   ]
  },
  {
   "cell_type": "code",
   "execution_count": null,
   "id": "a15fce89",
   "metadata": {
    "ExecuteTime": {
     "start_time": "2022-05-27T17:27:41.498Z"
    }
   },
   "outputs": [],
   "source": []
  },
  {
   "cell_type": "code",
   "execution_count": null,
   "id": "377050eb",
   "metadata": {
    "ExecuteTime": {
     "start_time": "2022-05-27T17:27:50.831Z"
    }
   },
   "outputs": [],
   "source": [
    "chk=5\n",
    "chk"
   ]
  },
  {
   "cell_type": "code",
   "execution_count": 1,
   "id": "36bdb21e",
   "metadata": {
    "ExecuteTime": {
     "end_time": "2022-05-27T17:27:36.890555Z",
     "start_time": "2022-05-27T17:27:36.841162Z"
    }
   },
   "outputs": [
    {
     "name": "stdout",
     "output_type": "stream",
     "text": [
      "hello\n"
     ]
    }
   ],
   "source": [
    "print('hello')"
   ]
  },
  {
   "cell_type": "code",
   "execution_count": 4,
   "id": "534a9a10",
   "metadata": {
    "ExecuteTime": {
     "end_time": "2022-05-27T17:52:06.751356Z",
     "start_time": "2022-05-27T17:52:06.744890Z"
    }
   },
   "outputs": [
    {
     "name": "stdout",
     "output_type": "stream",
     "text": [
      "age is 77\n"
     ]
    }
   ],
   "source": [
    "a = 77\n",
    "b = \"age is \"\n",
    "print(f\"age is {a}\")"
   ]
  },
  {
   "cell_type": "code",
   "execution_count": 5,
   "id": "58a3da0c",
   "metadata": {
    "ExecuteTime": {
     "end_time": "2022-05-27T18:03:10.677416Z",
     "start_time": "2022-05-27T18:03:06.251578Z"
    }
   },
   "outputs": [
    {
     "name": "stdout",
     "output_type": "stream",
     "text": [
      "Enter table number4\n",
      "upto what number table should be printed10\n",
      "4 x 1 = 4\n",
      "4 x 2 = 8\n",
      "4 x 3 = 12\n",
      "4 x 4 = 16\n",
      "4 x 5 = 20\n",
      "4 x 6 = 24\n",
      "4 x 7 = 28\n",
      "4 x 8 = 32\n",
      "4 x 9 = 36\n",
      "4 x 10 = 40\n"
     ]
    }
   ],
   "source": [
    "a = int(input(\"Enter table number\"))\n",
    "b = int(input(\"upto what number table should be printed\"))\n",
    "for b in range(1,11):\n",
    "    \n",
    "    print(f'{a} x {b} = {a*b}')\n",
    " "
   ]
  },
  {
   "cell_type": "code",
   "execution_count": 17,
   "id": "48f1efab",
   "metadata": {
    "ExecuteTime": {
     "end_time": "2022-05-30T13:31:27.203949Z",
     "start_time": "2022-05-30T13:31:27.198961Z"
    }
   },
   "outputs": [
    {
     "name": "stdout",
     "output_type": "stream",
     "text": [
      "James Bo\n"
     ]
    }
   ],
   "source": [
    "var= \"James Bond\"\n",
    "print(var[:-2])"
   ]
  },
  {
   "cell_type": "code",
   "execution_count": 18,
   "id": "eefa9a6c",
   "metadata": {
    "ExecuteTime": {
     "end_time": "2022-05-30T13:32:25.618184Z",
     "start_time": "2022-05-30T13:32:25.613201Z"
    }
   },
   "outputs": [
    {
     "name": "stdout",
     "output_type": "stream",
     "text": [
      "yn\n"
     ]
    }
   ],
   "source": [
    "str = \"pynative\"\n",
    "print (str[1:3])"
   ]
  },
  {
   "cell_type": "code",
   "execution_count": 19,
   "id": "4e308cf7",
   "metadata": {
    "ExecuteTime": {
     "end_time": "2022-05-30T13:33:16.953968Z",
     "start_time": "2022-05-30T13:33:16.945989Z"
    }
   },
   "outputs": [
    {
     "name": "stdout",
     "output_type": "stream",
     "text": [
      "30\n"
     ]
    }
   ],
   "source": [
    "def calculate (num1, num2=4):\n",
    "  res = num1 * num2\n",
    "  print(res)\n",
    "\n",
    "calculate(5, 6)"
   ]
  },
  {
   "cell_type": "code",
   "execution_count": 20,
   "id": "7766c411",
   "metadata": {
    "ExecuteTime": {
     "end_time": "2022-05-30T13:39:09.016166Z",
     "start_time": "2022-05-30T13:39:09.011215Z"
    }
   },
   "outputs": [
    {
     "name": "stdout",
     "output_type": "stream",
     "text": [
      "JamesJamesJamesJamesJamesJames\n"
     ]
    }
   ],
   "source": [
    "var = \"James\" * 2  * 3\n",
    "print(var)"
   ]
  },
  {
   "cell_type": "code",
   "execution_count": 24,
   "id": "0f81d0d4",
   "metadata": {
    "ExecuteTime": {
     "end_time": "2022-05-30T13:40:42.282175Z",
     "start_time": "2022-05-30T13:40:42.276193Z"
    }
   },
   "outputs": [
    {
     "name": "stdout",
     "output_type": "stream",
     "text": [
      "['Jon', 'Kelly', 'Jessa', 'Scott']\n"
     ]
    }
   ],
   "source": [
    "sampleList = [\"Jon\", \"Kelly\", \"Jessa\"]\n",
    "sampleList.append(\"Scott\")\n",
    "print(sampleList)"
   ]
  },
  {
   "cell_type": "code",
   "execution_count": 25,
   "id": "c2bb3c49",
   "metadata": {
    "ExecuteTime": {
     "end_time": "2022-05-30T13:41:35.515529Z",
     "start_time": "2022-05-30T13:41:35.503562Z"
    }
   },
   "outputs": [
    {
     "ename": "TypeError",
     "evalue": "set.add() takes exactly one argument (2 given)",
     "output_type": "error",
     "traceback": [
      "\u001b[1;31m---------------------------------------------------------------------------\u001b[0m",
      "\u001b[1;31mTypeError\u001b[0m                                 Traceback (most recent call last)",
      "\u001b[1;32m~\\AppData\\Local\\Temp/ipykernel_22112/515878232.py\u001b[0m in \u001b[0;36m<module>\u001b[1;34m\u001b[0m\n\u001b[0;32m      1\u001b[0m \u001b[0msampleSet\u001b[0m \u001b[1;33m=\u001b[0m \u001b[1;33m{\u001b[0m\u001b[1;34m\"Jodi\"\u001b[0m\u001b[1;33m,\u001b[0m \u001b[1;34m\"Eric\"\u001b[0m\u001b[1;33m,\u001b[0m \u001b[1;34m\"Garry\"\u001b[0m\u001b[1;33m}\u001b[0m\u001b[1;33m\u001b[0m\u001b[1;33m\u001b[0m\u001b[0m\n\u001b[1;32m----> 2\u001b[1;33m \u001b[0msampleSet\u001b[0m\u001b[1;33m.\u001b[0m\u001b[0madd\u001b[0m\u001b[1;33m(\u001b[0m\u001b[1;36m1\u001b[0m\u001b[1;33m,\u001b[0m \u001b[1;34m\"Vicki\"\u001b[0m\u001b[1;33m)\u001b[0m\u001b[1;33m\u001b[0m\u001b[1;33m\u001b[0m\u001b[0m\n\u001b[0m\u001b[0;32m      3\u001b[0m \u001b[0mprint\u001b[0m\u001b[1;33m(\u001b[0m\u001b[0msampleSet\u001b[0m\u001b[1;33m)\u001b[0m\u001b[1;33m\u001b[0m\u001b[1;33m\u001b[0m\u001b[0m\n",
      "\u001b[1;31mTypeError\u001b[0m: set.add() takes exactly one argument (2 given)"
     ]
    }
   ],
   "source": [
    "sampleSet = {\"Jodi\", \"Eric\", \"Garry\"}\n",
    "sampleSet.add(1, \"Vicki\")\n",
    "print(sampleSet)"
   ]
  },
  {
   "cell_type": "code",
   "execution_count": 26,
   "id": "e50ca8b8",
   "metadata": {
    "ExecuteTime": {
     "end_time": "2022-05-30T13:42:09.418212Z",
     "start_time": "2022-05-30T13:42:09.411230Z"
    }
   },
   "outputs": [
    {
     "name": "stdout",
     "output_type": "stream",
     "text": [
      "10, 11, 12, 13, 14, "
     ]
    }
   ],
   "source": [
    "for i in range(10, 15, 1):\n",
    "  print( i, end=', ')"
   ]
  },
  {
   "cell_type": "code",
   "execution_count": 27,
   "id": "cd7b776f",
   "metadata": {
    "ExecuteTime": {
     "end_time": "2022-05-30T13:42:37.753474Z",
     "start_time": "2022-05-30T13:42:37.737515Z"
    }
   },
   "outputs": [
    {
     "ename": "TypeError",
     "evalue": "'float' object cannot be interpreted as an integer",
     "output_type": "error",
     "traceback": [
      "\u001b[1;31m---------------------------------------------------------------------------\u001b[0m",
      "\u001b[1;31mTypeError\u001b[0m                                 Traceback (most recent call last)",
      "\u001b[1;32m~\\AppData\\Local\\Temp/ipykernel_22112/3307161731.py\u001b[0m in \u001b[0;36m<module>\u001b[1;34m\u001b[0m\n\u001b[1;32m----> 1\u001b[1;33m \u001b[1;32mfor\u001b[0m \u001b[0mx\u001b[0m \u001b[1;32min\u001b[0m \u001b[0mrange\u001b[0m\u001b[1;33m(\u001b[0m\u001b[1;36m0.5\u001b[0m\u001b[1;33m,\u001b[0m \u001b[1;36m5.5\u001b[0m\u001b[1;33m,\u001b[0m \u001b[1;36m0.5\u001b[0m\u001b[1;33m)\u001b[0m\u001b[1;33m:\u001b[0m\u001b[1;33m\u001b[0m\u001b[1;33m\u001b[0m\u001b[0m\n\u001b[0m\u001b[0;32m      2\u001b[0m   \u001b[0mprint\u001b[0m\u001b[1;33m(\u001b[0m\u001b[0mx\u001b[0m\u001b[1;33m)\u001b[0m\u001b[1;33m\u001b[0m\u001b[1;33m\u001b[0m\u001b[0m\n",
      "\u001b[1;31mTypeError\u001b[0m: 'float' object cannot be interpreted as an integer"
     ]
    }
   ],
   "source": [
    "for x in range(0.5, 5.5, 0.5):\n",
    "  print(x)"
   ]
  },
  {
   "cell_type": "code",
   "execution_count": 30,
   "id": "494b7e5e",
   "metadata": {
    "ExecuteTime": {
     "end_time": "2022-05-30T13:47:25.635015Z",
     "start_time": "2022-05-30T13:47:25.630028Z"
    }
   },
   "outputs": [
    {
     "name": "stdout",
     "output_type": "stream",
     "text": [
      "<class 'dict'>\n"
     ]
    }
   ],
   "source": [
    "print(type({}))"
   ]
  },
  {
   "cell_type": "code",
   "execution_count": 32,
   "id": "b054c4b7",
   "metadata": {
    "ExecuteTime": {
     "end_time": "2022-05-30T13:48:17.551123Z",
     "start_time": "2022-05-30T13:48:17.533174Z"
    }
   },
   "outputs": [
    {
     "data": {
      "text/plain": [
       "\"Ault'Kelly\""
      ]
     },
     "execution_count": 32,
     "metadata": {},
     "output_type": "execute_result"
    }
   ],
   "source": [
    "str1 = 'Ault\\'Kelly'\n",
    "str1"
   ]
  },
  {
   "cell_type": "code",
   "execution_count": 33,
   "id": "6beecfbb",
   "metadata": {
    "ExecuteTime": {
     "end_time": "2022-05-30T13:51:00.725896Z",
     "start_time": "2022-05-30T13:51:00.714900Z"
    }
   },
   "outputs": [
    {
     "ename": "NameError",
     "evalue": "name 'x' is not defined",
     "output_type": "error",
     "traceback": [
      "\u001b[1;31m---------------------------------------------------------------------------\u001b[0m",
      "\u001b[1;31mNameError\u001b[0m                                 Traceback (most recent call last)",
      "\u001b[1;32m~\\AppData\\Local\\Temp/ipykernel_22112/871179635.py\u001b[0m in \u001b[0;36m<module>\u001b[1;34m\u001b[0m\n\u001b[0;32m      3\u001b[0m     \u001b[1;32mreturn\u001b[0m \u001b[0mx\u001b[0m\u001b[1;33m\u001b[0m\u001b[1;33m\u001b[0m\u001b[0m\n\u001b[0;32m      4\u001b[0m \u001b[0mfunc1\u001b[0m\u001b[1;33m(\u001b[0m\u001b[1;33m)\u001b[0m\u001b[1;33m\u001b[0m\u001b[1;33m\u001b[0m\u001b[0m\n\u001b[1;32m----> 5\u001b[1;33m \u001b[0mprint\u001b[0m\u001b[1;33m(\u001b[0m\u001b[0mx\u001b[0m\u001b[1;33m)\u001b[0m\u001b[1;33m\u001b[0m\u001b[1;33m\u001b[0m\u001b[0m\n\u001b[0m\u001b[0;32m      6\u001b[0m \u001b[1;33m\u001b[0m\u001b[0m\n",
      "\u001b[1;31mNameError\u001b[0m: name 'x' is not defined"
     ]
    }
   ],
   "source": [
    "def func1():\n",
    "    x = 50\n",
    "    return x\n",
    "func1()\n",
    "print(x)\n",
    " "
   ]
  },
  {
   "cell_type": "code",
   "execution_count": 34,
   "id": "570e6317",
   "metadata": {
    "ExecuteTime": {
     "end_time": "2022-05-30T13:52:40.742197Z",
     "start_time": "2022-05-30T13:52:40.738205Z"
    }
   },
   "outputs": [
    {
     "name": "stdout",
     "output_type": "stream",
     "text": [
      "<class 'int'>\n"
     ]
    }
   ],
   "source": [
    "print(type(0xFF))"
   ]
  },
  {
   "cell_type": "code",
   "execution_count": 35,
   "id": "bd0f762f",
   "metadata": {
    "ExecuteTime": {
     "end_time": "2022-05-30T13:54:10.956670Z",
     "start_time": "2022-05-30T13:54:10.950686Z"
    }
   },
   "outputs": [
    {
     "name": "stdout",
     "output_type": "stream",
     "text": [
      "False True True True\n"
     ]
    }
   ],
   "source": [
    "print(bool(0), bool(3.14159), bool(-3), bool(1.0+1j))"
   ]
  },
  {
   "cell_type": "code",
   "execution_count": 36,
   "id": "6b9549ef",
   "metadata": {
    "ExecuteTime": {
     "end_time": "2022-05-30T13:55:10.909690Z",
     "start_time": "2022-05-30T13:55:10.894732Z"
    }
   },
   "outputs": [
    {
     "ename": "UnboundLocalError",
     "evalue": "local variable 'x' referenced before assignment",
     "output_type": "error",
     "traceback": [
      "\u001b[1;31m---------------------------------------------------------------------------\u001b[0m",
      "\u001b[1;31mUnboundLocalError\u001b[0m                         Traceback (most recent call last)",
      "\u001b[1;32m~\\AppData\\Local\\Temp/ipykernel_22112/3886905919.py\u001b[0m in \u001b[0;36m<module>\u001b[1;34m\u001b[0m\n\u001b[0;32m      4\u001b[0m     \u001b[0mprint\u001b[0m\u001b[1;33m(\u001b[0m\u001b[0mx\u001b[0m\u001b[1;33m)\u001b[0m\u001b[1;33m\u001b[0m\u001b[1;33m\u001b[0m\u001b[0m\n\u001b[0;32m      5\u001b[0m \u001b[1;33m\u001b[0m\u001b[0m\n\u001b[1;32m----> 6\u001b[1;33m \u001b[0mmyfunc\u001b[0m\u001b[1;33m(\u001b[0m\u001b[1;33m)\u001b[0m\u001b[1;33m\u001b[0m\u001b[1;33m\u001b[0m\u001b[0m\n\u001b[0m\u001b[0;32m      7\u001b[0m \u001b[0mprint\u001b[0m\u001b[1;33m(\u001b[0m\u001b[0mx\u001b[0m\u001b[1;33m)\u001b[0m\u001b[1;33m\u001b[0m\u001b[1;33m\u001b[0m\u001b[0m\n",
      "\u001b[1;32m~\\AppData\\Local\\Temp/ipykernel_22112/3886905919.py\u001b[0m in \u001b[0;36mmyfunc\u001b[1;34m()\u001b[0m\n\u001b[0;32m      1\u001b[0m \u001b[0mx\u001b[0m \u001b[1;33m=\u001b[0m \u001b[1;36m75\u001b[0m\u001b[1;33m\u001b[0m\u001b[1;33m\u001b[0m\u001b[0m\n\u001b[0;32m      2\u001b[0m \u001b[1;32mdef\u001b[0m \u001b[0mmyfunc\u001b[0m\u001b[1;33m(\u001b[0m\u001b[1;33m)\u001b[0m\u001b[1;33m:\u001b[0m\u001b[1;33m\u001b[0m\u001b[1;33m\u001b[0m\u001b[0m\n\u001b[1;32m----> 3\u001b[1;33m     \u001b[0mx\u001b[0m \u001b[1;33m=\u001b[0m \u001b[0mx\u001b[0m \u001b[1;33m+\u001b[0m \u001b[1;36m1\u001b[0m\u001b[1;33m\u001b[0m\u001b[1;33m\u001b[0m\u001b[0m\n\u001b[0m\u001b[0;32m      4\u001b[0m     \u001b[0mprint\u001b[0m\u001b[1;33m(\u001b[0m\u001b[0mx\u001b[0m\u001b[1;33m)\u001b[0m\u001b[1;33m\u001b[0m\u001b[1;33m\u001b[0m\u001b[0m\n\u001b[0;32m      5\u001b[0m \u001b[1;33m\u001b[0m\u001b[0m\n",
      "\u001b[1;31mUnboundLocalError\u001b[0m: local variable 'x' referenced before assignment"
     ]
    }
   ],
   "source": [
    "x = 75\n",
    "def myfunc():\n",
    "    x = x + 1\n",
    "    print(x)\n",
    "\n",
    "myfunc()\n",
    "print(x)"
   ]
  },
  {
   "cell_type": "code",
   "execution_count": null,
   "id": "c1ec29b4",
   "metadata": {},
   "outputs": [],
   "source": []
  }
 ],
 "metadata": {
  "kernelspec": {
   "display_name": "Python 3 (ipykernel)",
   "language": "python",
   "name": "python3"
  },
  "language_info": {
   "codemirror_mode": {
    "name": "ipython",
    "version": 3
   },
   "file_extension": ".py",
   "mimetype": "text/x-python",
   "name": "python",
   "nbconvert_exporter": "python",
   "pygments_lexer": "ipython3",
   "version": "3.9.7"
  },
  "toc": {
   "base_numbering": 1,
   "nav_menu": {},
   "number_sections": true,
   "sideBar": true,
   "skip_h1_title": false,
   "title_cell": "Table of Contents",
   "title_sidebar": "Contents",
   "toc_cell": false,
   "toc_position": {},
   "toc_section_display": true,
   "toc_window_display": false
  },
  "varInspector": {
   "cols": {
    "lenName": 16,
    "lenType": 16,
    "lenVar": 40
   },
   "kernels_config": {
    "python": {
     "delete_cmd_postfix": "",
     "delete_cmd_prefix": "del ",
     "library": "var_list.py",
     "varRefreshCmd": "print(var_dic_list())"
    },
    "r": {
     "delete_cmd_postfix": ") ",
     "delete_cmd_prefix": "rm(",
     "library": "var_list.r",
     "varRefreshCmd": "cat(var_dic_list()) "
    }
   },
   "types_to_exclude": [
    "module",
    "function",
    "builtin_function_or_method",
    "instance",
    "_Feature"
   ],
   "window_display": false
  }
 },
 "nbformat": 4,
 "nbformat_minor": 5
}
