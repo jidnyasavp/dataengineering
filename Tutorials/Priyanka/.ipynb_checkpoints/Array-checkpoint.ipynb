{
 "cells": [
  {
   "cell_type": "code",
   "execution_count": 10,
   "id": "06b86ce6",
   "metadata": {},
   "outputs": [
    {
     "name": "stdout",
     "output_type": "stream",
     "text": [
      "Enter the length of array4\n",
      "Enter the next value44\n",
      "Enter the next value4\n",
      "Enter the next value44\n",
      "Enter the next value45\n",
      "array('i', [44, 4, 44, 45])\n",
      "Enter the value for search44\n",
      "0\n",
      "0\n"
     ]
    }
   ],
   "source": [
    "from array import *\n",
    "arr = array('i',[])\n",
    "n = int(input(\"Enter the length of array\"))\n",
    "\n",
    "for i in range(n):\n",
    "    x = int(input(\"Enter the next value\"))\n",
    "    arr.append(x)\n",
    "    \n",
    "print(arr) \n",
    "\n",
    "val = int(input(\"Enter the value for search\"))\n",
    "\n",
    "k= 0\n",
    "for e in arr:\n",
    "    if e==val:\n",
    "        print(k)\n",
    "        break\n",
    "    k+=1   \n",
    "    \n",
    "print(arr.index(val))\n",
    "    \n",
    "    "
   ]
  },
  {
   "cell_type": "code",
   "execution_count": null,
   "id": "29e064e9",
   "metadata": {},
   "outputs": [],
   "source": []
  }
 ],
 "metadata": {
  "kernelspec": {
   "display_name": "Python 3 (ipykernel)",
   "language": "python",
   "name": "python3"
  },
  "language_info": {
   "codemirror_mode": {
    "name": "ipython",
    "version": 3
   },
   "file_extension": ".py",
   "mimetype": "text/x-python",
   "name": "python",
   "nbconvert_exporter": "python",
   "pygments_lexer": "ipython3",
   "version": "3.9.7"
  }
 },
 "nbformat": 4,
 "nbformat_minor": 5
}
