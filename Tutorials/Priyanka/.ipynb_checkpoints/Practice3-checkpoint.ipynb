{
 "cells": [
  {
   "cell_type": "code",
   "execution_count": null,
   "id": "406083f5",
   "metadata": {},
   "outputs": [],
   "source": [
    "reversed(l)"
   ]
  },
  {
   "cell_type": "code",
   "execution_count": null,
   "id": "421a27bc",
   "metadata": {},
   "outputs": [],
   "source": [
    "bp_columns = bp_data[[\"Column name 1\", \"Column name 2\", \"Column name 3\"]]"
   ]
  },
  {
   "cell_type": "code",
   "execution_count": 5,
   "id": "47212289",
   "metadata": {
    "ExecuteTime": {
     "end_time": "2022-04-16T11:34:02.807046Z",
     "start_time": "2022-04-16T11:34:02.802599Z"
    }
   },
   "outputs": [],
   "source": [
    "list_tst = [1,2,3,4,5]"
   ]
  },
  {
   "cell_type": "code",
   "execution_count": 2,
   "id": "e24f78ba",
   "metadata": {
    "ExecuteTime": {
     "end_time": "2022-04-16T11:33:56.921082Z",
     "start_time": "2022-04-16T11:33:56.903098Z"
    }
   },
   "outputs": [
    {
     "data": {
      "text/plain": [
       "list"
      ]
     },
     "execution_count": 2,
     "metadata": {},
     "output_type": "execute_result"
    }
   ],
   "source": [
    "type(list_tst)"
   ]
  },
  {
   "cell_type": "code",
   "execution_count": 7,
   "id": "cb5a9a1a",
   "metadata": {
    "ExecuteTime": {
     "end_time": "2022-04-16T11:34:45.578544Z",
     "start_time": "2022-04-16T11:34:45.571597Z"
    }
   },
   "outputs": [],
   "source": [
    "list_tst.reverse()"
   ]
  },
  {
   "cell_type": "code",
   "execution_count": 9,
   "id": "dd812ba2",
   "metadata": {
    "ExecuteTime": {
     "end_time": "2022-04-16T11:34:48.199955Z",
     "start_time": "2022-04-16T11:34:48.191968Z"
    }
   },
   "outputs": [
    {
     "data": {
      "text/plain": [
       "[5, 4, 3, 2, 1]"
      ]
     },
     "execution_count": 9,
     "metadata": {},
     "output_type": "execute_result"
    }
   ],
   "source": [
    "list_tst"
   ]
  },
  {
   "cell_type": "code",
   "execution_count": 24,
   "id": "ed5a6b4d",
   "metadata": {
    "ExecuteTime": {
     "end_time": "2022-04-16T12:09:39.534415Z",
     "start_time": "2022-04-16T12:09:36.966965Z"
    }
   },
   "outputs": [
    {
     "name": "stdout",
     "output_type": "stream",
     "text": [
      "Table of 67\n",
      "67 x 1 = 67\n",
      "67 x 2 = 134\n",
      "67 x 3 = 201\n",
      "67 x 4 = 268\n",
      "67 x 5 = 335\n",
      "67 x 6 = 402\n",
      "67 x 7 = 469\n",
      "67 x 8 = 536\n",
      "67 x 9 = 603\n",
      "67 x 10 = 670\n"
     ]
    }
   ],
   "source": [
    "a = int(input(\"Table of \"))\n",
    "for i in range(1,11):\n",
    "    print(f'{a} x {i} = {a*i}')"
   ]
  },
  {
   "cell_type": "code",
   "execution_count": 28,
   "id": "8ad41723",
   "metadata": {
    "ExecuteTime": {
     "end_time": "2022-04-16T12:12:50.663555Z",
     "start_time": "2022-04-16T12:12:50.656410Z"
    }
   },
   "outputs": [
    {
     "data": {
      "text/plain": [
       "'er'"
      ]
     },
     "execution_count": 28,
     "metadata": {},
     "output_type": "execute_result"
    }
   ],
   "source": [
    "name = \"Perry\"\n",
    "name[1:]\n",
    "name[1:3]"
   ]
  },
  {
   "cell_type": "code",
   "execution_count": null,
   "id": "221652d7",
   "metadata": {
    "ExecuteTime": {
     "start_time": "2022-04-16T12:16:04.899Z"
    }
   },
   "outputs": [],
   "source": []
  },
  {
   "cell_type": "code",
   "execution_count": null,
   "id": "150d0efe",
   "metadata": {},
   "outputs": [],
   "source": [
    "!pip install jupyter_contrib_nbextensions"
   ]
  },
  {
   "cell_type": "code",
   "execution_count": null,
   "id": "8baaabea",
   "metadata": {},
   "outputs": [],
   "source": [
    "!jupyter contrib nbextension install --user"
   ]
  },
  {
   "cell_type": "code",
   "execution_count": null,
   "id": "7813f83f",
   "metadata": {
    "ExecuteTime": {
     "end_time": "2022-04-17T10:10:09.866821Z",
     "start_time": "2022-04-17T10:10:09.858720Z"
    }
   },
   "outputs": [],
   "source": []
  },
  {
   "cell_type": "code",
   "execution_count": 19,
   "id": "a5e3eb70",
   "metadata": {
    "ExecuteTime": {
     "end_time": "2022-04-17T10:21:27.399836Z",
     "start_time": "2022-04-17T10:21:25.893436Z"
    }
   },
   "outputs": [
    {
     "name": "stdout",
     "output_type": "stream",
     "text": [
      "Enter a number 4\n",
      "The factorial of 4 is 24\n"
     ]
    }
   ],
   "source": [
    "n = int(input(\"Enter a number \"))\n",
    "f = 1\n",
    "for i in range(1,n+1):\n",
    "    f = f*i\n",
    "print(\"The factorial of\",n,\"is\",f)"
   ]
  },
  {
   "cell_type": "code",
   "execution_count": 28,
   "id": "eec84e1c",
   "metadata": {
    "ExecuteTime": {
     "end_time": "2022-04-19T06:21:09.197500Z",
     "start_time": "2022-04-19T06:21:09.189339Z"
    }
   },
   "outputs": [
    {
     "name": "stdout",
     "output_type": "stream",
     "text": [
      "2\n"
     ]
    }
   ],
   "source": [
    "temp = 48\n",
    "res = 0\n",
    "if (temp>0):\n",
    "    res +=1\n",
    "    if (temp<100):\n",
    "        res+=1\n",
    "print(res)\n",
    "    "
   ]
  },
  {
   "cell_type": "code",
   "execution_count": 31,
   "id": "c8c5ba57",
   "metadata": {
    "ExecuteTime": {
     "end_time": "2022-04-19T06:23:50.865238Z",
     "start_time": "2022-04-19T06:23:50.858167Z"
    }
   },
   "outputs": [
    {
     "name": "stdout",
     "output_type": "stream",
     "text": [
      "5\n"
     ]
    }
   ],
   "source": [
    "x = 2\n",
    "if(x>3):\n",
    "    x +=1\n",
    "if(x<8):\n",
    "    x +=4\n",
    "x-=1\n",
    "print(x)"
   ]
  },
  {
   "cell_type": "code",
   "execution_count": null,
   "id": "841ebd64",
   "metadata": {
    "ExecuteTime": {
     "end_time": "2022-04-17T10:00:55.986223Z",
     "start_time": "2022-04-17T10:00:55.979254Z"
    }
   },
   "outputs": [],
   "source": []
  },
  {
   "cell_type": "code",
   "execution_count": null,
   "id": "f4a5d529",
   "metadata": {
    "ExecuteTime": {
     "end_time": "2022-04-17T10:05:18.453798Z",
     "start_time": "2022-04-17T10:05:17.185368Z"
    }
   },
   "outputs": [],
   "source": []
  },
  {
   "cell_type": "code",
   "execution_count": null,
   "id": "fcbabb55",
   "metadata": {},
   "outputs": [],
   "source": []
  }
 ],
 "metadata": {
  "kernelspec": {
   "display_name": "Python 3 (ipykernel)",
   "language": "python",
   "name": "python3"
  },
  "language_info": {
   "codemirror_mode": {
    "name": "ipython",
    "version": 3
   },
   "file_extension": ".py",
   "mimetype": "text/x-python",
   "name": "python",
   "nbconvert_exporter": "python",
   "pygments_lexer": "ipython3",
   "version": "3.9.7"
  },
  "toc": {
   "base_numbering": 1,
   "nav_menu": {},
   "number_sections": true,
   "sideBar": true,
   "skip_h1_title": false,
   "title_cell": "Table of Contents",
   "title_sidebar": "Contents",
   "toc_cell": false,
   "toc_position": {},
   "toc_section_display": true,
   "toc_window_display": false
  },
  "varInspector": {
   "cols": {
    "lenName": 16,
    "lenType": 16,
    "lenVar": 40
   },
   "kernels_config": {
    "python": {
     "delete_cmd_postfix": "",
     "delete_cmd_prefix": "del ",
     "library": "var_list.py",
     "varRefreshCmd": "print(var_dic_list())"
    },
    "r": {
     "delete_cmd_postfix": ") ",
     "delete_cmd_prefix": "rm(",
     "library": "var_list.r",
     "varRefreshCmd": "cat(var_dic_list()) "
    }
   },
   "types_to_exclude": [
    "module",
    "function",
    "builtin_function_or_method",
    "instance",
    "_Feature"
   ],
   "window_display": false
  }
 },
 "nbformat": 4,
 "nbformat_minor": 5
}
