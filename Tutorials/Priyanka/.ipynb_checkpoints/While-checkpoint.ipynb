{
 "cells": [
  {
   "cell_type": "code",
   "execution_count": null,
   "id": "f6827ac0",
   "metadata": {},
   "outputs": [],
   "source": [
    "num = 1 \n",
    "while num<=100:\n",
    "    print(num)\n",
    "    num=num+1"
   ]
  },
  {
   "cell_type": "code",
   "execution_count": null,
   "id": "537ed086",
   "metadata": {},
   "outputs": [],
   "source": [
    "a = 1\n",
    "while a<5:\n",
    "    print(a)\n",
    "    a=a+1"
   ]
  },
  {
   "cell_type": "code",
   "execution_count": 4,
   "id": "161a60d2",
   "metadata": {},
   "outputs": [
    {
     "name": "stdout",
     "output_type": "stream",
     "text": [
      "1\n",
      "2\n",
      "3\n",
      "4\n",
      "5\n",
      "6\n"
     ]
    }
   ],
   "source": [
    "i = 1\n",
    "while i <=6:\n",
    "  print(i)\n",
    "  i += 1"
   ]
  },
  {
   "cell_type": "code",
   "execution_count": null,
   "id": "fc082443",
   "metadata": {},
   "outputs": [],
   "source": [
    "for i in range(1,51):\n",
    "    print(i)"
   ]
  },
  {
   "cell_type": "code",
   "execution_count": 2,
   "id": "75e686bd",
   "metadata": {},
   "outputs": [
    {
     "name": "stdout",
     "output_type": "stream",
     "text": [
      "4\n",
      "4\n",
      "16\n"
     ]
    }
   ],
   "source": [
    "x = int (input())\n",
    "y = int (input())\n",
    "z = x * y\n",
    "print(z)"
   ]
  },
  {
   "cell_type": "code",
   "execution_count": 12,
   "id": "d2ce080a",
   "metadata": {},
   "outputs": [
    {
     "name": "stdout",
     "output_type": "stream",
     "text": [
      "Perry Rocks Rocks Rocks Rocks \n",
      "Perry Rocks Rocks Rocks Rocks \n",
      "Perry Rocks Rocks Rocks Rocks \n",
      "Perry Rocks Rocks Rocks Rocks \n",
      "Perry Rocks Rocks Rocks Rocks \n"
     ]
    }
   ],
   "source": [
    "i = 1\n",
    "\n",
    "while i<=5:\n",
    "    print(\"Perry \",end=\"\")\n",
    "    j = 1\n",
    "    while j<=4:\n",
    "        print(\"Rocks \",end=\"\")\n",
    "        j=j+1\n",
    "\n",
    "    i=i+1\n",
    "    print()"
   ]
  },
  {
   "cell_type": "code",
   "execution_count": 11,
   "id": "bec8524f",
   "metadata": {},
   "outputs": [
    {
     "name": "stdout",
     "output_type": "stream",
     "text": [
      "# # # # # \n",
      "# # # # # \n",
      "# # # # # \n",
      "# # # # # \n"
     ]
    }
   ],
   "source": [
    "i = 1\n",
    "while i<=4:\n",
    "    print(\"# \",end=\"\")\n",
    "    j = 1\n",
    "    while j<=4:\n",
    "        print(\"# \",end=\"\")\n",
    "        j = j+1\n",
    "    \n",
    "    i = i + 1\n",
    "    print()\n",
    "    \n",
    "    "
   ]
  },
  {
   "cell_type": "code",
   "execution_count": 5,
   "id": "0cf8d185",
   "metadata": {},
   "outputs": [
    {
     "name": "stdout",
     "output_type": "stream",
     "text": [
      "# # # # \n",
      "# # # # \n",
      "# # # # \n",
      "# # # # \n"
     ]
    }
   ],
   "source": [
    "for x in range(4):\n",
    "    for y in range(4):\n",
    "        print(\"# \",end=\"\")\n",
    "    print()        \n",
    "     "
   ]
  },
  {
   "cell_type": "code",
   "execution_count": 8,
   "id": "cff8720c",
   "metadata": {},
   "outputs": [
    {
     "name": "stdout",
     "output_type": "stream",
     "text": [
      "# \n",
      "# # \n",
      "# # # \n",
      "# # # # \n"
     ]
    }
   ],
   "source": [
    "for x in range(4):\n",
    "    for y in range(x+1):\n",
    "        print(\"# \",end=\"\")\n",
    "    print()       "
   ]
  },
  {
   "cell_type": "code",
   "execution_count": 11,
   "id": "4ba0483f",
   "metadata": {},
   "outputs": [
    {
     "name": "stdout",
     "output_type": "stream",
     "text": [
      "# # # # \n",
      "# # # \n",
      "# # \n",
      "# \n"
     ]
    }
   ],
   "source": [
    "for x in range(4):\n",
    "    for y in range(4-x):\n",
    "        print(\"# \",end=\"\")\n",
    "    print()       "
   ]
  },
  {
   "cell_type": "code",
   "execution_count": 26,
   "id": "8b7c227a",
   "metadata": {},
   "outputs": [
    {
     "name": "stdout",
     "output_type": "stream",
     "text": [
      "not found\n"
     ]
    }
   ],
   "source": [
    "nums = [11,28,14,69]\n",
    "for nums in nums:\n",
    "    if nums%5==0:\n",
    "        print(nums)\n",
    "        break\n",
    "else:\n",
    "    print(\"not found\")"
   ]
  },
  {
   "cell_type": "code",
   "execution_count": 27,
   "id": "f529d559",
   "metadata": {},
   "outputs": [
    {
     "name": "stdout",
     "output_type": "stream",
     "text": [
      "enter any number5\n",
      "Prime number\n"
     ]
    }
   ],
   "source": [
    "num = int(input(\"enter any number\"))\n",
    "for i in range(2,num):\n",
    "    if num % i ==0:\n",
    "        print(\"Not prime number\")\n",
    "else:\n",
    "    print(\"Prime number\")"
   ]
  },
  {
   "cell_type": "code",
   "execution_count": null,
   "id": "e65d78c0",
   "metadata": {},
   "outputs": [],
   "source": []
  }
 ],
 "metadata": {
  "kernelspec": {
   "display_name": "Python 3 (ipykernel)",
   "language": "python",
   "name": "python3"
  },
  "language_info": {
   "codemirror_mode": {
    "name": "ipython",
    "version": 3
   },
   "file_extension": ".py",
   "mimetype": "text/x-python",
   "name": "python",
   "nbconvert_exporter": "python",
   "pygments_lexer": "ipython3",
   "version": "3.9.7"
  }
 },
 "nbformat": 4,
 "nbformat_minor": 5
}
