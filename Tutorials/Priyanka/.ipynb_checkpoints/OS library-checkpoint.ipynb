{
 "cells": [
  {
   "cell_type": "code",
   "execution_count": 1,
   "id": "2d11a37f",
   "metadata": {
    "ExecuteTime": {
     "end_time": "2022-06-06T06:17:51.246097Z",
     "start_time": "2022-06-06T06:17:51.241055Z"
    }
   },
   "outputs": [],
   "source": [
    "import os "
   ]
  },
  {
   "cell_type": "code",
   "execution_count": 2,
   "id": "deac0997",
   "metadata": {
    "ExecuteTime": {
     "end_time": "2022-06-06T06:18:02.469782Z",
     "start_time": "2022-06-06T06:18:02.421285Z"
    }
   },
   "outputs": [
    {
     "data": {
      "text/plain": [
       "'C:\\\\Python_Projects\\\\Tutorials'"
      ]
     },
     "execution_count": 2,
     "metadata": {},
     "output_type": "execute_result"
    }
   ],
   "source": [
    "os.getcwd()"
   ]
  },
  {
   "cell_type": "code",
   "execution_count": 3,
   "id": "73197b32",
   "metadata": {
    "ExecuteTime": {
     "end_time": "2022-06-06T06:18:17.749127Z",
     "start_time": "2022-06-06T06:18:17.737131Z"
    }
   },
   "outputs": [
    {
     "data": {
      "text/plain": [
       "['.ipynb_checkpoints',\n",
       " 'Array.ipynb',\n",
       " 'basic codes .ipynb',\n",
       " 'Booleans.ipynb',\n",
       " 'Comments.ipynb',\n",
       " 'Datatypes.ipynb',\n",
       " 'environment.csv',\n",
       " 'friends.csv',\n",
       " 'friends1.csv',\n",
       " 'helloworld.py',\n",
       " 'IfElse.ipynb',\n",
       " 'Indentation.ipynb',\n",
       " 'list.ipynb',\n",
       " 'nba.csv',\n",
       " 'Numpy pract.ipynb',\n",
       " 'Operators.ipynb',\n",
       " 'OS library.ipynb',\n",
       " 'Panda pract.ipynb',\n",
       " 'Patterns.ipynb',\n",
       " 'Practice1.ipynb',\n",
       " 'Practice2.ipynb',\n",
       " 'Practice3.ipynb',\n",
       " 'Practicee.ipynb',\n",
       " 'sample.csv',\n",
       " 'Strings.ipynb',\n",
       " 'tuples.ipynb',\n",
       " 'TupleSet.ipynb',\n",
       " 'Untitled.ipynb',\n",
       " 'Untitled1.ipynb',\n",
       " 'Untitled2.ipynb',\n",
       " 'Untitled3.ipynb',\n",
       " 'Variable.ipynb',\n",
       " 'While.ipynb']"
      ]
     },
     "execution_count": 3,
     "metadata": {},
     "output_type": "execute_result"
    }
   ],
   "source": [
    "os.listdir()"
   ]
  },
  {
   "cell_type": "code",
   "execution_count": 4,
   "id": "055b9ca7",
   "metadata": {
    "ExecuteTime": {
     "end_time": "2022-06-06T06:19:21.140119Z",
     "start_time": "2022-06-06T06:19:21.133573Z"
    }
   },
   "outputs": [],
   "source": [
    "os.chdir('C:\\\\Python_Projects')"
   ]
  },
  {
   "cell_type": "code",
   "execution_count": 5,
   "id": "cb98698f",
   "metadata": {
    "ExecuteTime": {
     "end_time": "2022-06-06T06:19:29.306705Z",
     "start_time": "2022-06-06T06:19:29.299630Z"
    }
   },
   "outputs": [
    {
     "data": {
      "text/plain": [
       "'C:\\\\Python_Projects'"
      ]
     },
     "execution_count": 5,
     "metadata": {},
     "output_type": "execute_result"
    }
   ],
   "source": [
    "os.getcwd()"
   ]
  },
  {
   "cell_type": "code",
   "execution_count": 7,
   "id": "19f43aa6",
   "metadata": {
    "ExecuteTime": {
     "end_time": "2022-06-06T06:23:24.298010Z",
     "start_time": "2022-06-06T06:23:24.290461Z"
    }
   },
   "outputs": [
    {
     "name": "stdout",
     "output_type": "stream",
     "text": [
      "['Tutorials']\n"
     ]
    }
   ],
   "source": [
    "print(os.listdir())"
   ]
  },
  {
   "cell_type": "code",
   "execution_count": null,
   "id": "0b4e8ca2",
   "metadata": {
    "collapsed": true
   },
   "outputs": [],
   "source": []
  }
 ],
 "metadata": {
  "kernelspec": {
   "display_name": "Python 3 (ipykernel)",
   "language": "python",
   "name": "python3"
  },
  "language_info": {
   "codemirror_mode": {
    "name": "ipython",
    "version": 3
   },
   "file_extension": ".py",
   "mimetype": "text/x-python",
   "name": "python",
   "nbconvert_exporter": "python",
   "pygments_lexer": "ipython3",
   "version": "3.9.7"
  },
  "toc": {
   "base_numbering": 1,
   "nav_menu": {},
   "number_sections": true,
   "sideBar": true,
   "skip_h1_title": false,
   "title_cell": "Table of Contents",
   "title_sidebar": "Contents",
   "toc_cell": false,
   "toc_position": {},
   "toc_section_display": true,
   "toc_window_display": false
  },
  "varInspector": {
   "cols": {
    "lenName": 16,
    "lenType": 16,
    "lenVar": 40
   },
   "kernels_config": {
    "python": {
     "delete_cmd_postfix": "",
     "delete_cmd_prefix": "del ",
     "library": "var_list.py",
     "varRefreshCmd": "print(var_dic_list())"
    },
    "r": {
     "delete_cmd_postfix": ") ",
     "delete_cmd_prefix": "rm(",
     "library": "var_list.r",
     "varRefreshCmd": "cat(var_dic_list()) "
    }
   },
   "types_to_exclude": [
    "module",
    "function",
    "builtin_function_or_method",
    "instance",
    "_Feature"
   ],
   "window_display": false
  }
 },
 "nbformat": 4,
 "nbformat_minor": 5
}
