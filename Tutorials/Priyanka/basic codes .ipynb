{
 "cells": [
  {
   "cell_type": "code",
   "execution_count": 24,
   "id": "1d917895",
   "metadata": {
    "ExecuteTime": {
     "end_time": "2022-04-19T08:41:01.770018Z",
     "start_time": "2022-04-19T08:40:59.341325Z"
    }
   },
   "outputs": [
    {
     "name": "stdout",
     "output_type": "stream",
     "text": [
      "Enter the number : 5\n",
      "Positive number\n"
     ]
    }
   ],
   "source": [
    "# code to check given number is positive or negative\n",
    "x = float(input(\"Enter the number : \"))\n",
    "if x>0:\n",
    "    print(\"Positive number\")\n",
    "elif x==0:\n",
    "    print(\"It is zero\")\n",
    "else:\n",
    "    print(\"Negative number\")\n",
    "    "
   ]
  },
  {
   "cell_type": "code",
   "execution_count": 31,
   "id": "4306d5b8",
   "metadata": {
    "ExecuteTime": {
     "end_time": "2022-04-19T09:01:45.260455Z",
     "start_time": "2022-04-19T09:01:41.710845Z"
    }
   },
   "outputs": [
    {
     "name": "stdout",
     "output_type": "stream",
     "text": [
      "Enter 1st number : 5\n",
      "Enter 2nd number : 7\n",
      "Enter 3rd number : 8\n",
      "The largest number is  8.0\n"
     ]
    }
   ],
   "source": [
    "# code to find the greatest number from them\n",
    "a = float(input(\"Enter 1st number : \"))\n",
    "b = float(input(\"Enter 2nd number : \"))\n",
    "c = float(input(\"Enter 3rd number : \"))\n",
    "if a>=b and a>=c:\n",
    "    largest_num = a\n",
    "elif b>=a and b>=c:\n",
    "    largest_num = b\n",
    "else:\n",
    "    largest_num = c\n",
    "    print(\"The largest number is \",largest_num)"
   ]
  },
  {
   "cell_type": "code",
   "execution_count": 5,
   "id": "bd2b0104",
   "metadata": {
    "ExecuteTime": {
     "end_time": "2022-04-22T17:42:58.102302Z",
     "start_time": "2022-04-22T17:42:58.094463Z"
    },
    "code_folding": []
   },
   "outputs": [
    {
     "name": "stdout",
     "output_type": "stream",
     "text": [
      "1\n",
      "2\n",
      "4\n",
      "7\n",
      "8\n",
      "11\n",
      "13\n",
      "14\n",
      "16\n",
      "17\n",
      "19\n",
      "22\n",
      "23\n",
      "26\n",
      "28\n",
      "29\n",
      "31\n",
      "32\n",
      "34\n",
      "37\n",
      "38\n",
      "41\n",
      "43\n",
      "44\n",
      "46\n",
      "47\n",
      "49\n"
     ]
    }
   ],
   "source": [
    "#print all numbers from 1 to 100 except numbers divisible by 3 and 5\n",
    "for i in range(1,51):\n",
    "    if i%3!=0 and i%5!=0:\n",
    "        print(i)\n",
    "        "
   ]
  },
  {
   "cell_type": "code",
   "execution_count": 14,
   "id": "f8eae8d1",
   "metadata": {
    "ExecuteTime": {
     "end_time": "2022-04-22T17:38:07.778808Z",
     "start_time": "2022-04-22T17:38:07.767879Z"
    }
   },
   "outputs": [
    {
     "name": "stdout",
     "output_type": "stream",
     "text": [
      "1\n",
      "4\n",
      "9\n",
      "16\n",
      "25\n",
      "36\n",
      "49\n"
     ]
    }
   ],
   "source": [
    "#print all perfect square number from 1 to 50\n",
    "for i in range(1,8):\n",
    "    print(i**2)"
   ]
  },
  {
   "cell_type": "code",
   "execution_count": 10,
   "id": "00a6f24c",
   "metadata": {
    "ExecuteTime": {
     "end_time": "2022-04-22T17:37:11.740187Z",
     "start_time": "2022-04-22T17:37:11.730588Z"
    }
   },
   "outputs": [
    {
     "name": "stdout",
     "output_type": "stream",
     "text": [
      "2\n",
      "4\n",
      "6\n",
      "8\n",
      "10\n",
      "12\n",
      "14\n",
      "16\n",
      "18\n",
      "20\n",
      "22\n",
      "24\n",
      "26\n",
      "28\n",
      "30\n",
      "32\n",
      "34\n",
      "36\n",
      "38\n",
      "40\n",
      "42\n",
      "44\n",
      "46\n",
      "48\n",
      "50\n"
     ]
    }
   ],
   "source": [
    "#print all even numbers from 1 to 50\n",
    "for i in range(1,51):\n",
    "    if i%2!=0:\n",
    "        pass\n",
    "    else:\n",
    "        print(i)\n",
    "    "
   ]
  },
  {
   "cell_type": "code",
   "execution_count": 21,
   "id": "cdb12b62",
   "metadata": {
    "ExecuteTime": {
     "end_time": "2022-04-22T18:05:10.732705Z",
     "start_time": "2022-04-22T18:05:10.721129Z"
    }
   },
   "outputs": [
    {
     "name": "stdout",
     "output_type": "stream",
     "text": [
      " *  *  *  * \n",
      " *  *  *  * \n",
      " *  *  *  * \n",
      " *  *  *  * \n"
     ]
    }
   ],
   "source": [
    "#printing pattern\n",
    "for j in range(4):\n",
    "    for i in range(4):\n",
    "        print(\" * \",end= \"\")\n",
    "    print()    "
   ]
  },
  {
   "cell_type": "code",
   "execution_count": 24,
   "id": "de91ccc3",
   "metadata": {
    "ExecuteTime": {
     "end_time": "2022-04-22T18:05:46.174420Z",
     "start_time": "2022-04-22T18:05:46.164748Z"
    }
   },
   "outputs": [
    {
     "name": "stdout",
     "output_type": "stream",
     "text": [
      " * \n",
      " *  * \n",
      " *  *  * \n",
      " *  *  *  * \n"
     ]
    }
   ],
   "source": [
    "for j in range(1,5):\n",
    "    for i in range(j):\n",
    "         print(\" * \",end= \"\")\n",
    "    print()"
   ]
  },
  {
   "cell_type": "code",
   "execution_count": 23,
   "id": "c75dc9db",
   "metadata": {
    "ExecuteTime": {
     "end_time": "2022-04-22T18:05:25.627525Z",
     "start_time": "2022-04-22T18:05:25.616196Z"
    }
   },
   "outputs": [
    {
     "name": "stdout",
     "output_type": "stream",
     "text": [
      " *  *  *  * \n",
      " *  *  * \n",
      " *  * \n",
      " * \n"
     ]
    }
   ],
   "source": [
    "for j in range(1,5):\n",
    "    for i in range(5-j):\n",
    "         print(\" * \",end= \"\")\n",
    "    print()"
   ]
  },
  {
   "cell_type": "code",
   "execution_count": 54,
   "id": "8c285a1e",
   "metadata": {
    "ExecuteTime": {
     "end_time": "2022-05-18T09:44:36.196051Z",
     "start_time": "2022-05-18T09:44:36.185564Z"
    }
   },
   "outputs": [
    {
     "name": "stdout",
     "output_type": "stream",
     "text": [
      "1234\n",
      "123\n",
      "12\n",
      "1\n"
     ]
    }
   ],
   "source": [
    "for i in range(4):\n",
    "    for j in range(4-i):\n",
    "        print(j+1,end=\"\")\n",
    "    print()"
   ]
  },
  {
   "cell_type": "code",
   "execution_count": 1,
   "id": "bdb541c7",
   "metadata": {
    "ExecuteTime": {
     "end_time": "2022-05-17T13:05:15.486466Z",
     "start_time": "2022-05-17T13:05:12.096234Z"
    }
   },
   "outputs": [
    {
     "name": "stdout",
     "output_type": "stream",
     "text": [
      "Enter value : 64\n",
      "8\n"
     ]
    }
   ],
   "source": [
    "#printing square root of a number\n",
    "a = int(input(\"Enter value : \"))\n",
    "print(int(a**0.5))"
   ]
  },
  {
   "cell_type": "code",
   "execution_count": null,
   "id": "6ed3ec5d",
   "metadata": {
    "ExecuteTime": {
     "end_time": "2022-04-22T18:02:32.139606Z",
     "start_time": "2022-04-22T18:02:32.130632Z"
    }
   },
   "outputs": [],
   "source": [
    "#checking entered number is even or odd\n",
    "a = int(input(\"Enter a number: \"))\n",
    "if a%2==0:\n",
    "    print(\"even number\")\n",
    "else:\n",
    "    print(\"odd number\")\n",
    "    \n",
    "        "
   ]
  },
  {
   "cell_type": "code",
   "execution_count": 11,
   "id": "31ceea89",
   "metadata": {
    "ExecuteTime": {
     "end_time": "2022-05-17T13:30:29.890721Z",
     "start_time": "2022-05-17T13:30:29.884496Z"
    }
   },
   "outputs": [
    {
     "name": "stdout",
     "output_type": "stream",
     "text": [
      "# \n",
      "# \n",
      "# \n",
      "# \n"
     ]
    }
   ],
   "source": [
    "for i in range(4):\n",
    "    #for j in range(4):\n",
    "    print(\"# \",end=\"\")\n",
    "    print()    "
   ]
  },
  {
   "cell_type": "code",
   "execution_count": 8,
   "id": "07e55457",
   "metadata": {
    "ExecuteTime": {
     "end_time": "2022-05-17T13:38:49.146792Z",
     "start_time": "2022-05-17T13:38:49.130254Z"
    }
   },
   "outputs": [
    {
     "name": "stdout",
     "output_type": "stream",
     "text": [
      "* * * * * \n",
      "* * * * * \n",
      "* * * * * \n",
      "* * * * * \n"
     ]
    }
   ],
   "source": [
    "i = 1\n",
    "while i<=4:\n",
    "    print(\"* \",end=\"\")\n",
    "    j = 1\n",
    "    while j<=4:\n",
    "        print(\"* \",end=\"\")\n",
    "        j = j+1\n",
    "    i = i+1\n",
    "    print()"
   ]
  },
  {
   "cell_type": "code",
   "execution_count": 52,
   "id": "2c18bf81",
   "metadata": {
    "ExecuteTime": {
     "end_time": "2022-05-18T09:28:04.492171Z",
     "start_time": "2022-05-18T09:28:04.482815Z"
    }
   },
   "outputs": [
    {
     "name": "stdout",
     "output_type": "stream",
     "text": [
      "0\n",
      "1\n",
      "1\n",
      "2\n",
      "3\n",
      "5\n",
      "8\n",
      "13\n",
      "21\n",
      "34\n"
     ]
    }
   ],
   "source": [
    "#printing fibonacci sequence\n",
    "def fib(n):\n",
    "    a = 0 \n",
    "    b = 1\n",
    "    print(a)\n",
    "    print(b)\n",
    "    for i in range (2,n):\n",
    "        c = a+b\n",
    "        a = b\n",
    "        b = c\n",
    "        print(c)\n",
    "fib(10)        "
   ]
  },
  {
   "cell_type": "code",
   "execution_count": null,
   "id": "0f51aa21",
   "metadata": {},
   "outputs": [],
   "source": []
  }
 ],
 "metadata": {
  "kernelspec": {
   "display_name": "Python 3 (ipykernel)",
   "language": "python",
   "name": "python3"
  },
  "language_info": {
   "codemirror_mode": {
    "name": "ipython",
    "version": 3
   },
   "file_extension": ".py",
   "mimetype": "text/x-python",
   "name": "python",
   "nbconvert_exporter": "python",
   "pygments_lexer": "ipython3",
   "version": "3.9.7"
  },
  "toc": {
   "base_numbering": 1,
   "nav_menu": {},
   "number_sections": true,
   "sideBar": true,
   "skip_h1_title": false,
   "title_cell": "Table of Contents",
   "title_sidebar": "Contents",
   "toc_cell": false,
   "toc_position": {},
   "toc_section_display": true,
   "toc_window_display": false
  },
  "varInspector": {
   "cols": {
    "lenName": 16,
    "lenType": 16,
    "lenVar": 40
   },
   "kernels_config": {
    "python": {
     "delete_cmd_postfix": "",
     "delete_cmd_prefix": "del ",
     "library": "var_list.py",
     "varRefreshCmd": "print(var_dic_list())"
    },
    "r": {
     "delete_cmd_postfix": ") ",
     "delete_cmd_prefix": "rm(",
     "library": "var_list.r",
     "varRefreshCmd": "cat(var_dic_list()) "
    }
   },
   "types_to_exclude": [
    "module",
    "function",
    "builtin_function_or_method",
    "instance",
    "_Feature"
   ],
   "window_display": false
  }
 },
 "nbformat": 4,
 "nbformat_minor": 5
}
