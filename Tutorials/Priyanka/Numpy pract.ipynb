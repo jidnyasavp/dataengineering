{
 "cells": [
  {
   "cell_type": "code",
   "execution_count": 42,
   "id": "87697284",
   "metadata": {
    "ExecuteTime": {
     "end_time": "2022-05-23T13:56:20.388771Z",
     "start_time": "2022-05-23T13:56:20.379110Z"
    }
   },
   "outputs": [
    {
     "data": {
      "text/plain": [
       "'C:\\\\Python_Projects\\\\Tutorials'"
      ]
     },
     "execution_count": 42,
     "metadata": {},
     "output_type": "execute_result"
    }
   ],
   "source": [
    "import os\n",
    "path = os.getcwd()\n",
    "path "
   ]
  },
  {
   "cell_type": "code",
   "execution_count": 43,
   "id": "9902b2e2",
   "metadata": {
    "ExecuteTime": {
     "end_time": "2022-05-23T13:57:13.229912Z",
     "start_time": "2022-05-23T13:57:13.224438Z"
    }
   },
   "outputs": [],
   "source": [
    "newpath = 'C:\\\\Python_Projects\\\\'"
   ]
  },
  {
   "cell_type": "code",
   "execution_count": 1,
   "id": "e72cad89",
   "metadata": {
    "ExecuteTime": {
     "end_time": "2022-06-01T13:06:40.060563Z",
     "start_time": "2022-06-01T13:06:39.552447Z"
    }
   },
   "outputs": [
    {
     "ename": "NameError",
     "evalue": "name 'os' is not defined",
     "output_type": "error",
     "traceback": [
      "\u001b[1;31m---------------------------------------------------------------------------\u001b[0m",
      "\u001b[1;31mNameError\u001b[0m                                 Traceback (most recent call last)",
      "\u001b[1;32m~\\AppData\\Local\\Temp/ipykernel_19692/3153216711.py\u001b[0m in \u001b[0;36m<module>\u001b[1;34m\u001b[0m\n\u001b[1;32m----> 1\u001b[1;33m \u001b[0mos\u001b[0m\u001b[1;33m.\u001b[0m\u001b[0mmkdir\u001b[0m\u001b[1;33m(\u001b[0m\u001b[0mnewpath\u001b[0m \u001b[1;33m+\u001b[0m \u001b[1;34m\"\\\\Priyanka\"\u001b[0m\u001b[1;33m)\u001b[0m\u001b[1;33m\u001b[0m\u001b[1;33m\u001b[0m\u001b[0m\n\u001b[0m",
      "\u001b[1;31mNameError\u001b[0m: name 'os' is not defined"
     ]
    }
   ],
   "source": [
    "os.mkdir(newpath + \"\\\\Priyanka\")"
   ]
  },
  {
   "cell_type": "code",
   "execution_count": 6,
   "id": "89310884",
   "metadata": {
    "ExecuteTime": {
     "end_time": "2022-05-23T08:28:54.541487Z",
     "start_time": "2022-05-23T08:28:54.535455Z"
    }
   },
   "outputs": [],
   "source": [
    "from numpy import *\n"
   ]
  },
  {
   "cell_type": "code",
   "execution_count": 7,
   "id": "246c6ca3",
   "metadata": {
    "ExecuteTime": {
     "end_time": "2022-05-23T08:29:03.351509Z",
     "start_time": "2022-05-23T08:29:03.343858Z"
    }
   },
   "outputs": [],
   "source": [
    "arr = linspace(1,5,3)"
   ]
  },
  {
   "cell_type": "code",
   "execution_count": 8,
   "id": "4a2c9345",
   "metadata": {
    "ExecuteTime": {
     "end_time": "2022-05-23T08:29:09.933608Z",
     "start_time": "2022-05-23T08:29:09.917646Z"
    }
   },
   "outputs": [
    {
     "data": {
      "text/plain": [
       "array([1., 3., 5.])"
      ]
     },
     "execution_count": 8,
     "metadata": {},
     "output_type": "execute_result"
    }
   ],
   "source": [
    "arr"
   ]
  },
  {
   "cell_type": "code",
   "execution_count": 9,
   "id": "5a91f0cb",
   "metadata": {
    "ExecuteTime": {
     "end_time": "2022-05-23T08:29:40.220526Z",
     "start_time": "2022-05-23T08:29:40.215026Z"
    }
   },
   "outputs": [],
   "source": [
    "arr=logspace(1,10,8)"
   ]
  },
  {
   "cell_type": "code",
   "execution_count": 10,
   "id": "6bacab03",
   "metadata": {
    "ExecuteTime": {
     "end_time": "2022-05-23T08:29:44.515312Z",
     "start_time": "2022-05-23T08:29:44.507831Z"
    }
   },
   "outputs": [
    {
     "data": {
      "text/plain": [
       "array([1.00000000e+01, 1.93069773e+02, 3.72759372e+03, 7.19685673e+04,\n",
       "       1.38949549e+06, 2.68269580e+07, 5.17947468e+08, 1.00000000e+10])"
      ]
     },
     "execution_count": 10,
     "metadata": {},
     "output_type": "execute_result"
    }
   ],
   "source": [
    "arr"
   ]
  },
  {
   "cell_type": "code",
   "execution_count": 11,
   "id": "8f0becf8",
   "metadata": {
    "ExecuteTime": {
     "end_time": "2022-05-23T08:30:01.987282Z",
     "start_time": "2022-05-23T08:30:01.981340Z"
    }
   },
   "outputs": [],
   "source": [
    "arr=arange(1,15,2)"
   ]
  },
  {
   "cell_type": "code",
   "execution_count": 12,
   "id": "0a15fe79",
   "metadata": {
    "ExecuteTime": {
     "end_time": "2022-05-23T08:30:06.042890Z",
     "start_time": "2022-05-23T08:30:06.035581Z"
    }
   },
   "outputs": [
    {
     "data": {
      "text/plain": [
       "array([ 1,  3,  5,  7,  9, 11, 13])"
      ]
     },
     "execution_count": 12,
     "metadata": {},
     "output_type": "execute_result"
    }
   ],
   "source": [
    "arr"
   ]
  },
  {
   "cell_type": "code",
   "execution_count": 13,
   "id": "633be8ae",
   "metadata": {
    "ExecuteTime": {
     "end_time": "2022-05-23T08:30:25.416024Z",
     "start_time": "2022-05-23T08:30:25.409042Z"
    }
   },
   "outputs": [],
   "source": [
    "arr = array([1,2,3,4])"
   ]
  },
  {
   "cell_type": "code",
   "execution_count": 14,
   "id": "c45c752f",
   "metadata": {
    "ExecuteTime": {
     "end_time": "2022-05-23T08:30:32.454142Z",
     "start_time": "2022-05-23T08:30:32.446898Z"
    }
   },
   "outputs": [
    {
     "data": {
      "text/plain": [
       "array([1, 2, 3, 4])"
      ]
     },
     "execution_count": 14,
     "metadata": {},
     "output_type": "execute_result"
    }
   ],
   "source": [
    "arr"
   ]
  },
  {
   "cell_type": "code",
   "execution_count": 15,
   "id": "292a2fb4",
   "metadata": {
    "ExecuteTime": {
     "end_time": "2022-05-23T08:30:45.527265Z",
     "start_time": "2022-05-23T08:30:45.522490Z"
    }
   },
   "outputs": [],
   "source": [
    "arr = ones(5)"
   ]
  },
  {
   "cell_type": "code",
   "execution_count": 16,
   "id": "5f97f739",
   "metadata": {
    "ExecuteTime": {
     "end_time": "2022-05-23T08:30:52.331888Z",
     "start_time": "2022-05-23T08:30:52.323929Z"
    }
   },
   "outputs": [
    {
     "data": {
      "text/plain": [
       "array([1., 1., 1., 1., 1.])"
      ]
     },
     "execution_count": 16,
     "metadata": {},
     "output_type": "execute_result"
    }
   ],
   "source": [
    "arr"
   ]
  },
  {
   "cell_type": "code",
   "execution_count": 17,
   "id": "560d1e65",
   "metadata": {
    "ExecuteTime": {
     "end_time": "2022-05-23T08:31:05.355351Z",
     "start_time": "2022-05-23T08:31:05.349398Z"
    }
   },
   "outputs": [],
   "source": [
    "arr = zeros(5)"
   ]
  },
  {
   "cell_type": "code",
   "execution_count": 18,
   "id": "3fc14ca5",
   "metadata": {
    "ExecuteTime": {
     "end_time": "2022-05-23T08:31:08.820894Z",
     "start_time": "2022-05-23T08:31:08.813213Z"
    }
   },
   "outputs": [
    {
     "data": {
      "text/plain": [
       "array([0., 0., 0., 0., 0.])"
      ]
     },
     "execution_count": 18,
     "metadata": {},
     "output_type": "execute_result"
    }
   ],
   "source": [
    "arr"
   ]
  },
  {
   "cell_type": "code",
   "execution_count": 19,
   "id": "32755064",
   "metadata": {
    "ExecuteTime": {
     "end_time": "2022-05-23T08:31:36.996826Z",
     "start_time": "2022-05-23T08:31:36.992865Z"
    }
   },
   "outputs": [],
   "source": [
    "arr = array([1,2,3,4])\n",
    "arr = arr + 5"
   ]
  },
  {
   "cell_type": "code",
   "execution_count": 20,
   "id": "631d68a7",
   "metadata": {
    "ExecuteTime": {
     "end_time": "2022-05-23T08:31:43.036765Z",
     "start_time": "2022-05-23T08:31:43.029216Z"
    }
   },
   "outputs": [
    {
     "data": {
      "text/plain": [
       "array([6, 7, 8, 9])"
      ]
     },
     "execution_count": 20,
     "metadata": {},
     "output_type": "execute_result"
    }
   ],
   "source": [
    "arr"
   ]
  },
  {
   "cell_type": "code",
   "execution_count": 21,
   "id": "7c7eff25",
   "metadata": {
    "ExecuteTime": {
     "end_time": "2022-05-23T09:38:12.959335Z",
     "start_time": "2022-05-23T09:38:12.950274Z"
    }
   },
   "outputs": [
    {
     "name": "stdout",
     "output_type": "stream",
     "text": [
      "[ 0.84147098  0.90929743  0.14112001 -0.7568025 ]\n"
     ]
    }
   ],
   "source": [
    "arr = array([1,2,3,4])\n",
    "print(sin(arr))"
   ]
  },
  {
   "cell_type": "code",
   "execution_count": 22,
   "id": "207fa9cb",
   "metadata": {
    "ExecuteTime": {
     "end_time": "2022-05-23T09:38:52.842598Z",
     "start_time": "2022-05-23T09:38:52.836647Z"
    }
   },
   "outputs": [
    {
     "name": "stdout",
     "output_type": "stream",
     "text": [
      "[1.         1.41421356 1.73205081 2.        ]\n"
     ]
    }
   ],
   "source": [
    "print(sqrt(arr))"
   ]
  },
  {
   "cell_type": "code",
   "execution_count": 27,
   "id": "130fbb47",
   "metadata": {
    "ExecuteTime": {
     "end_time": "2022-05-23T09:43:59.997613Z",
     "start_time": "2022-05-23T09:43:59.991628Z"
    }
   },
   "outputs": [
    {
     "name": "stdout",
     "output_type": "stream",
     "text": [
      "[ 1  5  4  6  9 11  7 10]\n"
     ]
    }
   ],
   "source": [
    "arr1 = array([1,5,4,6])\n",
    "arr2 = array([9,11,7,10])\n",
    "print(concatenate([arr1,arr2]))"
   ]
  },
  {
   "cell_type": "code",
   "execution_count": 29,
   "id": "e625ee21",
   "metadata": {
    "ExecuteTime": {
     "end_time": "2022-05-23T09:47:54.250741Z",
     "start_time": "2022-05-23T09:47:54.243764Z"
    }
   },
   "outputs": [
    {
     "name": "stdout",
     "output_type": "stream",
     "text": [
      "[1 5 4 6]\n",
      "[1 5 4 6]\n",
      "2388204269712\n",
      "2388204269712\n"
     ]
    }
   ],
   "source": [
    "arr1 = array([1,5,4,6])\n",
    "arr2 = arr1\n",
    "print(arr1)\n",
    "print(arr2)\n",
    "print(id(arr1))\n",
    "print(id(arr2))"
   ]
  },
  {
   "cell_type": "code",
   "execution_count": 30,
   "id": "27160873",
   "metadata": {
    "ExecuteTime": {
     "end_time": "2022-05-23T09:48:07.328918Z",
     "start_time": "2022-05-23T09:48:07.316950Z"
    }
   },
   "outputs": [
    {
     "name": "stdout",
     "output_type": "stream",
     "text": [
      "[1 5 4 6]\n",
      "[1 5 4 6]\n",
      "2388222671824\n",
      "2388213879216\n"
     ]
    }
   ],
   "source": [
    "arr1 = array([1,5,4,6])\n",
    "arr2 = arr1.view()\n",
    "print(arr1)\n",
    "print(arr2)\n",
    "print(id(arr1))\n",
    "print(id(arr2))"
   ]
  },
  {
   "cell_type": "code",
   "execution_count": 31,
   "id": "4f4a91be",
   "metadata": {
    "ExecuteTime": {
     "end_time": "2022-05-23T09:50:29.930034Z",
     "start_time": "2022-05-23T09:50:29.922552Z"
    }
   },
   "outputs": [
    {
     "name": "stdout",
     "output_type": "stream",
     "text": [
      "[ 1 88  4  6]\n",
      "[ 1 88  4  6]\n",
      "2388222670672\n",
      "2388222569424\n"
     ]
    }
   ],
   "source": [
    "#shallow copy\n",
    "arr1 = array([1,5,4,6])\n",
    "arr2 = arr1.view()\n",
    "arr1[1]=88\n",
    "print(arr1)\n",
    "print(arr2)\n",
    "print(id(arr1))\n",
    "print(id(arr2))"
   ]
  },
  {
   "cell_type": "code",
   "execution_count": 32,
   "id": "9eecdfdf",
   "metadata": {
    "ExecuteTime": {
     "end_time": "2022-05-23T09:51:07.036208Z",
     "start_time": "2022-05-23T09:51:07.027711Z"
    }
   },
   "outputs": [
    {
     "name": "stdout",
     "output_type": "stream",
     "text": [
      "[ 1 88  4  6]\n",
      "[1 5 4 6]\n",
      "2388207336496\n",
      "2388207334672\n"
     ]
    }
   ],
   "source": [
    "#deep copy\n",
    "arr1 = array([1,5,4,6])\n",
    "arr2 = arr1.copy()\n",
    "arr1[1]=88\n",
    "print(arr1)\n",
    "print(arr2)\n",
    "print(id(arr1))\n",
    "print(id(arr2))"
   ]
  },
  {
   "cell_type": "code",
   "execution_count": 35,
   "id": "288a414f",
   "metadata": {
    "ExecuteTime": {
     "end_time": "2022-05-23T09:58:05.539843Z",
     "start_time": "2022-05-23T09:58:05.531433Z"
    }
   },
   "outputs": [
    {
     "name": "stdout",
     "output_type": "stream",
     "text": [
      "[ 3  8 11 13  6]\n"
     ]
    }
   ],
   "source": [
    "arr1 = array([2, 6, 8, 9, 1])\n",
    "arr2 = array([1, 2, 3, 4, 5])\n",
    "list1 = [ ] \n",
    "e = 0\n",
    "for num1 in arr1:\n",
    "      list1.append(arr2[e] + num1)\n",
    "      e+=1\n",
    "\n",
    "print(array(list1))"
   ]
  },
  {
   "cell_type": "code",
   "execution_count": 51,
   "id": "af8c40e2",
   "metadata": {
    "ExecuteTime": {
     "end_time": "2022-05-23T14:08:34.602465Z",
     "start_time": "2022-05-23T14:08:34.596510Z"
    }
   },
   "outputs": [],
   "source": [
    "Students = [\"Ishu1\",\"Priyu2\",\"Jids3\",\"Bhakti4\", \"Aastha5\"]\n",
    "absent_Student = [\"Jids3\", \"Aastha5\"]"
   ]
  },
  {
   "cell_type": "code",
   "execution_count": 52,
   "id": "63903a1b",
   "metadata": {
    "ExecuteTime": {
     "end_time": "2022-05-23T14:09:25.697112Z",
     "start_time": "2022-05-23T14:09:25.687784Z"
    }
   },
   "outputs": [
    {
     "name": "stdout",
     "output_type": "stream",
     "text": [
      "C:\\Python_Projects\\Tutorials\\Ishu1\n",
      "C:\\Python_Projects\\Tutorials\\Priyu2\n",
      "C:\\Python_Projects\\Tutorials\\Bhakti4\n"
     ]
    }
   ],
   "source": [
    "import os\n",
    "path = os.getcwd()\n",
    "path\n",
    "for student in Students:\n",
    "    new_path = path + f\"\\\\{student}\"\n",
    "    if student not in absent_Student:\n",
    "        print(new_path)\n",
    "        os.mkdir(new_path)"
   ]
  },
  {
   "cell_type": "code",
   "execution_count": null,
   "id": "229775ac",
   "metadata": {},
   "outputs": [],
   "source": []
  }
 ],
 "metadata": {
  "kernelspec": {
   "display_name": "Python 3 (ipykernel)",
   "language": "python",
   "name": "python3"
  },
  "language_info": {
   "codemirror_mode": {
    "name": "ipython",
    "version": 3
   },
   "file_extension": ".py",
   "mimetype": "text/x-python",
   "name": "python",
   "nbconvert_exporter": "python",
   "pygments_lexer": "ipython3",
   "version": "3.9.7"
  },
  "toc": {
   "base_numbering": 1,
   "nav_menu": {},
   "number_sections": true,
   "sideBar": true,
   "skip_h1_title": false,
   "title_cell": "Table of Contents",
   "title_sidebar": "Contents",
   "toc_cell": false,
   "toc_position": {},
   "toc_section_display": true,
   "toc_window_display": false
  },
  "varInspector": {
   "cols": {
    "lenName": 16,
    "lenType": 16,
    "lenVar": 40
   },
   "kernels_config": {
    "python": {
     "delete_cmd_postfix": "",
     "delete_cmd_prefix": "del ",
     "library": "var_list.py",
     "varRefreshCmd": "print(var_dic_list())"
    },
    "r": {
     "delete_cmd_postfix": ") ",
     "delete_cmd_prefix": "rm(",
     "library": "var_list.r",
     "varRefreshCmd": "cat(var_dic_list()) "
    }
   },
   "types_to_exclude": [
    "module",
    "function",
    "builtin_function_or_method",
    "instance",
    "_Feature"
   ],
   "window_display": false
  }
 },
 "nbformat": 4,
 "nbformat_minor": 5
}
