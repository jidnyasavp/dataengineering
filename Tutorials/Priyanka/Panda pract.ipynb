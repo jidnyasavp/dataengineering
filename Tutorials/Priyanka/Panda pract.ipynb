{
 "cells": [
  {
   "cell_type": "code",
   "execution_count": 4,
   "id": "73919ce6",
   "metadata": {
    "ExecuteTime": {
     "end_time": "2022-05-21T06:42:53.114903Z",
     "start_time": "2022-05-21T06:42:53.110795Z"
    }
   },
   "outputs": [],
   "source": [
    "import pandas as pd"
   ]
  },
  {
   "cell_type": "code",
   "execution_count": 1,
   "id": "34a3a494",
   "metadata": {
    "ExecuteTime": {
     "end_time": "2022-05-21T06:40:28.035654Z",
     "start_time": "2022-05-21T06:40:28.021127Z"
    }
   },
   "outputs": [],
   "source": [
    "dict1 = {\n",
    "    \"name\":['perry','harry','sunny','vicky'],\n",
    "    \"age\":[55,54,21,45],\n",
    "    \"place\":['nagpur','pune','mumbai','delhi']\n",
    "}"
   ]
  },
  {
   "cell_type": "code",
   "execution_count": 5,
   "id": "aaec2732",
   "metadata": {
    "ExecuteTime": {
     "end_time": "2022-05-21T06:42:57.369993Z",
     "start_time": "2022-05-21T06:42:57.363980Z"
    }
   },
   "outputs": [],
   "source": [
    "df = pd.DataFrame(dict1)"
   ]
  },
  {
   "cell_type": "code",
   "execution_count": 6,
   "id": "99952241",
   "metadata": {
    "ExecuteTime": {
     "end_time": "2022-05-21T06:43:02.590328Z",
     "start_time": "2022-05-21T06:43:02.530895Z"
    }
   },
   "outputs": [
    {
     "data": {
      "text/html": [
       "<div>\n",
       "<style scoped>\n",
       "    .dataframe tbody tr th:only-of-type {\n",
       "        vertical-align: middle;\n",
       "    }\n",
       "\n",
       "    .dataframe tbody tr th {\n",
       "        vertical-align: top;\n",
       "    }\n",
       "\n",
       "    .dataframe thead th {\n",
       "        text-align: right;\n",
       "    }\n",
       "</style>\n",
       "<table border=\"1\" class=\"dataframe\">\n",
       "  <thead>\n",
       "    <tr style=\"text-align: right;\">\n",
       "      <th></th>\n",
       "      <th>name</th>\n",
       "      <th>age</th>\n",
       "      <th>place</th>\n",
       "    </tr>\n",
       "  </thead>\n",
       "  <tbody>\n",
       "    <tr>\n",
       "      <th>0</th>\n",
       "      <td>perry</td>\n",
       "      <td>55</td>\n",
       "      <td>nagpur</td>\n",
       "    </tr>\n",
       "    <tr>\n",
       "      <th>1</th>\n",
       "      <td>harry</td>\n",
       "      <td>54</td>\n",
       "      <td>pune</td>\n",
       "    </tr>\n",
       "    <tr>\n",
       "      <th>2</th>\n",
       "      <td>sunny</td>\n",
       "      <td>21</td>\n",
       "      <td>mumbai</td>\n",
       "    </tr>\n",
       "    <tr>\n",
       "      <th>3</th>\n",
       "      <td>vicky</td>\n",
       "      <td>45</td>\n",
       "      <td>delhi</td>\n",
       "    </tr>\n",
       "  </tbody>\n",
       "</table>\n",
       "</div>"
      ],
      "text/plain": [
       "    name  age   place\n",
       "0  perry   55  nagpur\n",
       "1  harry   54    pune\n",
       "2  sunny   21  mumbai\n",
       "3  vicky   45   delhi"
      ]
     },
     "execution_count": 6,
     "metadata": {},
     "output_type": "execute_result"
    }
   ],
   "source": [
    "df"
   ]
  },
  {
   "cell_type": "code",
   "execution_count": 7,
   "id": "d4855d80",
   "metadata": {
    "ExecuteTime": {
     "end_time": "2022-05-21T06:43:25.373634Z",
     "start_time": "2022-05-21T06:43:25.362133Z"
    }
   },
   "outputs": [
    {
     "data": {
      "text/html": [
       "<div>\n",
       "<style scoped>\n",
       "    .dataframe tbody tr th:only-of-type {\n",
       "        vertical-align: middle;\n",
       "    }\n",
       "\n",
       "    .dataframe tbody tr th {\n",
       "        vertical-align: top;\n",
       "    }\n",
       "\n",
       "    .dataframe thead th {\n",
       "        text-align: right;\n",
       "    }\n",
       "</style>\n",
       "<table border=\"1\" class=\"dataframe\">\n",
       "  <thead>\n",
       "    <tr style=\"text-align: right;\">\n",
       "      <th></th>\n",
       "      <th>name</th>\n",
       "      <th>age</th>\n",
       "      <th>place</th>\n",
       "    </tr>\n",
       "  </thead>\n",
       "  <tbody>\n",
       "    <tr>\n",
       "      <th>0</th>\n",
       "      <td>perry</td>\n",
       "      <td>55</td>\n",
       "      <td>nagpur</td>\n",
       "    </tr>\n",
       "    <tr>\n",
       "      <th>1</th>\n",
       "      <td>harry</td>\n",
       "      <td>54</td>\n",
       "      <td>pune</td>\n",
       "    </tr>\n",
       "  </tbody>\n",
       "</table>\n",
       "</div>"
      ],
      "text/plain": [
       "    name  age   place\n",
       "0  perry   55  nagpur\n",
       "1  harry   54    pune"
      ]
     },
     "execution_count": 7,
     "metadata": {},
     "output_type": "execute_result"
    }
   ],
   "source": [
    "df.head(2)"
   ]
  },
  {
   "cell_type": "code",
   "execution_count": 9,
   "id": "07c8f1cc",
   "metadata": {
    "ExecuteTime": {
     "end_time": "2022-05-21T06:43:39.285942Z",
     "start_time": "2022-05-21T06:43:39.272767Z"
    }
   },
   "outputs": [
    {
     "data": {
      "text/html": [
       "<div>\n",
       "<style scoped>\n",
       "    .dataframe tbody tr th:only-of-type {\n",
       "        vertical-align: middle;\n",
       "    }\n",
       "\n",
       "    .dataframe tbody tr th {\n",
       "        vertical-align: top;\n",
       "    }\n",
       "\n",
       "    .dataframe thead th {\n",
       "        text-align: right;\n",
       "    }\n",
       "</style>\n",
       "<table border=\"1\" class=\"dataframe\">\n",
       "  <thead>\n",
       "    <tr style=\"text-align: right;\">\n",
       "      <th></th>\n",
       "      <th>name</th>\n",
       "      <th>age</th>\n",
       "      <th>place</th>\n",
       "    </tr>\n",
       "  </thead>\n",
       "  <tbody>\n",
       "    <tr>\n",
       "      <th>3</th>\n",
       "      <td>vicky</td>\n",
       "      <td>45</td>\n",
       "      <td>delhi</td>\n",
       "    </tr>\n",
       "  </tbody>\n",
       "</table>\n",
       "</div>"
      ],
      "text/plain": [
       "    name  age  place\n",
       "3  vicky   45  delhi"
      ]
     },
     "execution_count": 9,
     "metadata": {},
     "output_type": "execute_result"
    }
   ],
   "source": [
    "df.tail(1)"
   ]
  },
  {
   "cell_type": "code",
   "execution_count": 10,
   "id": "52391f15",
   "metadata": {
    "ExecuteTime": {
     "end_time": "2022-05-21T06:45:43.081740Z",
     "start_time": "2022-05-21T06:45:43.067778Z"
    }
   },
   "outputs": [
    {
     "data": {
      "text/html": [
       "<div>\n",
       "<style scoped>\n",
       "    .dataframe tbody tr th:only-of-type {\n",
       "        vertical-align: middle;\n",
       "    }\n",
       "\n",
       "    .dataframe tbody tr th {\n",
       "        vertical-align: top;\n",
       "    }\n",
       "\n",
       "    .dataframe thead th {\n",
       "        text-align: right;\n",
       "    }\n",
       "</style>\n",
       "<table border=\"1\" class=\"dataframe\">\n",
       "  <thead>\n",
       "    <tr style=\"text-align: right;\">\n",
       "      <th></th>\n",
       "      <th>name</th>\n",
       "      <th>age</th>\n",
       "      <th>place</th>\n",
       "    </tr>\n",
       "  </thead>\n",
       "  <tbody>\n",
       "    <tr>\n",
       "      <th>0</th>\n",
       "      <td>perry</td>\n",
       "      <td>55</td>\n",
       "      <td>nagpur</td>\n",
       "    </tr>\n",
       "    <tr>\n",
       "      <th>1</th>\n",
       "      <td>harry</td>\n",
       "      <td>54</td>\n",
       "      <td>pune</td>\n",
       "    </tr>\n",
       "    <tr>\n",
       "      <th>2</th>\n",
       "      <td>sunny</td>\n",
       "      <td>21</td>\n",
       "      <td>mumbai</td>\n",
       "    </tr>\n",
       "    <tr>\n",
       "      <th>3</th>\n",
       "      <td>vicky</td>\n",
       "      <td>45</td>\n",
       "      <td>delhi</td>\n",
       "    </tr>\n",
       "  </tbody>\n",
       "</table>\n",
       "</div>"
      ],
      "text/plain": [
       "    name  age   place\n",
       "0  perry   55  nagpur\n",
       "1  harry   54    pune\n",
       "2  sunny   21  mumbai\n",
       "3  vicky   45   delhi"
      ]
     },
     "execution_count": 10,
     "metadata": {},
     "output_type": "execute_result"
    }
   ],
   "source": [
    "df"
   ]
  },
  {
   "cell_type": "code",
   "execution_count": 11,
   "id": "612ca7f9",
   "metadata": {
    "ExecuteTime": {
     "end_time": "2022-05-21T06:46:58.562909Z",
     "start_time": "2022-05-21T06:46:58.513553Z"
    }
   },
   "outputs": [],
   "source": [
    "df.to_csv('friends.csv')"
   ]
  },
  {
   "cell_type": "code",
   "execution_count": 12,
   "id": "474ff1db",
   "metadata": {
    "ExecuteTime": {
     "end_time": "2022-05-21T06:50:06.964765Z",
     "start_time": "2022-05-21T06:50:06.956632Z"
    }
   },
   "outputs": [],
   "source": [
    "df.to_csv('friends1.csv', index=False)"
   ]
  },
  {
   "cell_type": "code",
   "execution_count": 13,
   "id": "1b10daee",
   "metadata": {
    "ExecuteTime": {
     "end_time": "2022-05-21T06:51:31.068526Z",
     "start_time": "2022-05-21T06:51:31.047398Z"
    }
   },
   "outputs": [
    {
     "data": {
      "text/html": [
       "<div>\n",
       "<style scoped>\n",
       "    .dataframe tbody tr th:only-of-type {\n",
       "        vertical-align: middle;\n",
       "    }\n",
       "\n",
       "    .dataframe tbody tr th {\n",
       "        vertical-align: top;\n",
       "    }\n",
       "\n",
       "    .dataframe thead th {\n",
       "        text-align: right;\n",
       "    }\n",
       "</style>\n",
       "<table border=\"1\" class=\"dataframe\">\n",
       "  <thead>\n",
       "    <tr style=\"text-align: right;\">\n",
       "      <th></th>\n",
       "      <th>age</th>\n",
       "    </tr>\n",
       "  </thead>\n",
       "  <tbody>\n",
       "    <tr>\n",
       "      <th>count</th>\n",
       "      <td>4.000000</td>\n",
       "    </tr>\n",
       "    <tr>\n",
       "      <th>mean</th>\n",
       "      <td>43.750000</td>\n",
       "    </tr>\n",
       "    <tr>\n",
       "      <th>std</th>\n",
       "      <td>15.819292</td>\n",
       "    </tr>\n",
       "    <tr>\n",
       "      <th>min</th>\n",
       "      <td>21.000000</td>\n",
       "    </tr>\n",
       "    <tr>\n",
       "      <th>25%</th>\n",
       "      <td>39.000000</td>\n",
       "    </tr>\n",
       "    <tr>\n",
       "      <th>50%</th>\n",
       "      <td>49.500000</td>\n",
       "    </tr>\n",
       "    <tr>\n",
       "      <th>75%</th>\n",
       "      <td>54.250000</td>\n",
       "    </tr>\n",
       "    <tr>\n",
       "      <th>max</th>\n",
       "      <td>55.000000</td>\n",
       "    </tr>\n",
       "  </tbody>\n",
       "</table>\n",
       "</div>"
      ],
      "text/plain": [
       "             age\n",
       "count   4.000000\n",
       "mean   43.750000\n",
       "std    15.819292\n",
       "min    21.000000\n",
       "25%    39.000000\n",
       "50%    49.500000\n",
       "75%    54.250000\n",
       "max    55.000000"
      ]
     },
     "execution_count": 13,
     "metadata": {},
     "output_type": "execute_result"
    }
   ],
   "source": [
    "df.describe()"
   ]
  },
  {
   "cell_type": "code",
   "execution_count": 14,
   "id": "444c2f23",
   "metadata": {
    "ExecuteTime": {
     "end_time": "2022-05-21T06:53:57.408833Z",
     "start_time": "2022-05-21T06:53:57.392167Z"
    }
   },
   "outputs": [],
   "source": [
    "perry = pd.read_csv('friends1.csv')"
   ]
  },
  {
   "cell_type": "code",
   "execution_count": 15,
   "id": "d7c01a07",
   "metadata": {
    "ExecuteTime": {
     "end_time": "2022-05-21T06:54:01.107748Z",
     "start_time": "2022-05-21T06:54:01.093789Z"
    }
   },
   "outputs": [
    {
     "data": {
      "text/html": [
       "<div>\n",
       "<style scoped>\n",
       "    .dataframe tbody tr th:only-of-type {\n",
       "        vertical-align: middle;\n",
       "    }\n",
       "\n",
       "    .dataframe tbody tr th {\n",
       "        vertical-align: top;\n",
       "    }\n",
       "\n",
       "    .dataframe thead th {\n",
       "        text-align: right;\n",
       "    }\n",
       "</style>\n",
       "<table border=\"1\" class=\"dataframe\">\n",
       "  <thead>\n",
       "    <tr style=\"text-align: right;\">\n",
       "      <th></th>\n",
       "      <th>name</th>\n",
       "      <th>age</th>\n",
       "      <th>place</th>\n",
       "    </tr>\n",
       "  </thead>\n",
       "  <tbody>\n",
       "    <tr>\n",
       "      <th>0</th>\n",
       "      <td>perry</td>\n",
       "      <td>55</td>\n",
       "      <td>nagpur</td>\n",
       "    </tr>\n",
       "    <tr>\n",
       "      <th>1</th>\n",
       "      <td>harry</td>\n",
       "      <td>54</td>\n",
       "      <td>pune</td>\n",
       "    </tr>\n",
       "    <tr>\n",
       "      <th>2</th>\n",
       "      <td>sunny</td>\n",
       "      <td>21</td>\n",
       "      <td>mumbai</td>\n",
       "    </tr>\n",
       "    <tr>\n",
       "      <th>3</th>\n",
       "      <td>vicky</td>\n",
       "      <td>45</td>\n",
       "      <td>delhi</td>\n",
       "    </tr>\n",
       "  </tbody>\n",
       "</table>\n",
       "</div>"
      ],
      "text/plain": [
       "    name  age   place\n",
       "0  perry   55  nagpur\n",
       "1  harry   54    pune\n",
       "2  sunny   21  mumbai\n",
       "3  vicky   45   delhi"
      ]
     },
     "execution_count": 15,
     "metadata": {},
     "output_type": "execute_result"
    }
   ],
   "source": [
    "perry"
   ]
  },
  {
   "cell_type": "code",
   "execution_count": 16,
   "id": "c9720185",
   "metadata": {
    "ExecuteTime": {
     "end_time": "2022-05-21T06:56:58.535686Z",
     "start_time": "2022-05-21T06:56:58.530667Z"
    }
   },
   "outputs": [],
   "source": [
    "perry.index = ['A','B','C','D']"
   ]
  },
  {
   "cell_type": "code",
   "execution_count": 18,
   "id": "b324e994",
   "metadata": {
    "ExecuteTime": {
     "end_time": "2022-05-21T06:57:11.104612Z",
     "start_time": "2022-05-21T06:57:11.089984Z"
    }
   },
   "outputs": [
    {
     "data": {
      "text/html": [
       "<div>\n",
       "<style scoped>\n",
       "    .dataframe tbody tr th:only-of-type {\n",
       "        vertical-align: middle;\n",
       "    }\n",
       "\n",
       "    .dataframe tbody tr th {\n",
       "        vertical-align: top;\n",
       "    }\n",
       "\n",
       "    .dataframe thead th {\n",
       "        text-align: right;\n",
       "    }\n",
       "</style>\n",
       "<table border=\"1\" class=\"dataframe\">\n",
       "  <thead>\n",
       "    <tr style=\"text-align: right;\">\n",
       "      <th></th>\n",
       "      <th>name</th>\n",
       "      <th>age</th>\n",
       "      <th>place</th>\n",
       "    </tr>\n",
       "  </thead>\n",
       "  <tbody>\n",
       "    <tr>\n",
       "      <th>A</th>\n",
       "      <td>perry</td>\n",
       "      <td>55</td>\n",
       "      <td>nagpur</td>\n",
       "    </tr>\n",
       "    <tr>\n",
       "      <th>B</th>\n",
       "      <td>harry</td>\n",
       "      <td>54</td>\n",
       "      <td>pune</td>\n",
       "    </tr>\n",
       "    <tr>\n",
       "      <th>C</th>\n",
       "      <td>sunny</td>\n",
       "      <td>21</td>\n",
       "      <td>mumbai</td>\n",
       "    </tr>\n",
       "    <tr>\n",
       "      <th>D</th>\n",
       "      <td>vicky</td>\n",
       "      <td>45</td>\n",
       "      <td>delhi</td>\n",
       "    </tr>\n",
       "  </tbody>\n",
       "</table>\n",
       "</div>"
      ],
      "text/plain": [
       "    name  age   place\n",
       "A  perry   55  nagpur\n",
       "B  harry   54    pune\n",
       "C  sunny   21  mumbai\n",
       "D  vicky   45   delhi"
      ]
     },
     "execution_count": 18,
     "metadata": {},
     "output_type": "execute_result"
    }
   ],
   "source": [
    "perry"
   ]
  },
  {
   "cell_type": "code",
   "execution_count": 21,
   "id": "9728fc00",
   "metadata": {
    "ExecuteTime": {
     "end_time": "2022-05-21T06:59:31.553487Z",
     "start_time": "2022-05-21T06:59:31.547090Z"
    }
   },
   "outputs": [
    {
     "name": "stderr",
     "output_type": "stream",
     "text": [
      "C:\\Users\\Priyanka\\AppData\\Local\\Temp/ipykernel_18036/4184415627.py:1: SettingWithCopyWarning: \n",
      "A value is trying to be set on a copy of a slice from a DataFrame\n",
      "\n",
      "See the caveats in the documentation: https://pandas.pydata.org/pandas-docs/stable/user_guide/indexing.html#returning-a-view-versus-a-copy\n",
      "  perry['age']['C']=98\n"
     ]
    }
   ],
   "source": [
    "perry['age']['C']=98"
   ]
  },
  {
   "cell_type": "code",
   "execution_count": 22,
   "id": "eb9fe1ea",
   "metadata": {
    "ExecuteTime": {
     "end_time": "2022-05-21T06:59:34.017549Z",
     "start_time": "2022-05-21T06:59:34.005585Z"
    }
   },
   "outputs": [
    {
     "data": {
      "text/html": [
       "<div>\n",
       "<style scoped>\n",
       "    .dataframe tbody tr th:only-of-type {\n",
       "        vertical-align: middle;\n",
       "    }\n",
       "\n",
       "    .dataframe tbody tr th {\n",
       "        vertical-align: top;\n",
       "    }\n",
       "\n",
       "    .dataframe thead th {\n",
       "        text-align: right;\n",
       "    }\n",
       "</style>\n",
       "<table border=\"1\" class=\"dataframe\">\n",
       "  <thead>\n",
       "    <tr style=\"text-align: right;\">\n",
       "      <th></th>\n",
       "      <th>name</th>\n",
       "      <th>age</th>\n",
       "      <th>place</th>\n",
       "    </tr>\n",
       "  </thead>\n",
       "  <tbody>\n",
       "    <tr>\n",
       "      <th>A</th>\n",
       "      <td>perry</td>\n",
       "      <td>55</td>\n",
       "      <td>nagpur</td>\n",
       "    </tr>\n",
       "    <tr>\n",
       "      <th>B</th>\n",
       "      <td>harry</td>\n",
       "      <td>54</td>\n",
       "      <td>pune</td>\n",
       "    </tr>\n",
       "    <tr>\n",
       "      <th>C</th>\n",
       "      <td>sunny</td>\n",
       "      <td>98</td>\n",
       "      <td>mumbai</td>\n",
       "    </tr>\n",
       "    <tr>\n",
       "      <th>D</th>\n",
       "      <td>vicky</td>\n",
       "      <td>45</td>\n",
       "      <td>delhi</td>\n",
       "    </tr>\n",
       "  </tbody>\n",
       "</table>\n",
       "</div>"
      ],
      "text/plain": [
       "    name  age   place\n",
       "A  perry   55  nagpur\n",
       "B  harry   54    pune\n",
       "C  sunny   98  mumbai\n",
       "D  vicky   45   delhi"
      ]
     },
     "execution_count": 22,
     "metadata": {},
     "output_type": "execute_result"
    }
   ],
   "source": [
    "perry"
   ]
  },
  {
   "cell_type": "code",
   "execution_count": 26,
   "id": "f211a31c",
   "metadata": {
    "ExecuteTime": {
     "end_time": "2022-05-21T07:24:02.550840Z",
     "start_time": "2022-05-21T07:24:02.545660Z"
    }
   },
   "outputs": [],
   "source": [
    "ser = pd.Series(np.random.rand(10))"
   ]
  },
  {
   "cell_type": "code",
   "execution_count": 28,
   "id": "87023b77",
   "metadata": {
    "ExecuteTime": {
     "end_time": "2022-05-21T07:24:25.249843Z",
     "start_time": "2022-05-21T07:24:25.241751Z"
    }
   },
   "outputs": [
    {
     "data": {
      "text/plain": [
       "pandas.core.series.Series"
      ]
     },
     "execution_count": 28,
     "metadata": {},
     "output_type": "execute_result"
    }
   ],
   "source": [
    "type(ser)"
   ]
  },
  {
   "cell_type": "code",
   "execution_count": 33,
   "id": "9c49eb3a",
   "metadata": {
    "ExecuteTime": {
     "end_time": "2022-05-21T07:27:53.117200Z",
     "start_time": "2022-05-21T07:27:53.110249Z"
    }
   },
   "outputs": [],
   "source": [
    "newdf = pd.DataFrame(np.random.rand(10,3), index=np.arange(10))"
   ]
  },
  {
   "cell_type": "code",
   "execution_count": 35,
   "id": "2cbb78ba",
   "metadata": {
    "ExecuteTime": {
     "end_time": "2022-05-21T07:28:13.402777Z",
     "start_time": "2022-05-21T07:28:13.395667Z"
    }
   },
   "outputs": [
    {
     "data": {
      "text/plain": [
       "pandas.core.frame.DataFrame"
      ]
     },
     "execution_count": 35,
     "metadata": {},
     "output_type": "execute_result"
    }
   ],
   "source": [
    "type(newdf)"
   ]
  },
  {
   "cell_type": "code",
   "execution_count": 36,
   "id": "94e99751",
   "metadata": {
    "ExecuteTime": {
     "end_time": "2022-05-21T07:28:47.289256Z",
     "start_time": "2022-05-21T07:28:47.254213Z"
    }
   },
   "outputs": [
    {
     "data": {
      "text/html": [
       "<div>\n",
       "<style scoped>\n",
       "    .dataframe tbody tr th:only-of-type {\n",
       "        vertical-align: middle;\n",
       "    }\n",
       "\n",
       "    .dataframe tbody tr th {\n",
       "        vertical-align: top;\n",
       "    }\n",
       "\n",
       "    .dataframe thead th {\n",
       "        text-align: right;\n",
       "    }\n",
       "</style>\n",
       "<table border=\"1\" class=\"dataframe\">\n",
       "  <thead>\n",
       "    <tr style=\"text-align: right;\">\n",
       "      <th></th>\n",
       "      <th>0</th>\n",
       "      <th>1</th>\n",
       "      <th>2</th>\n",
       "    </tr>\n",
       "  </thead>\n",
       "  <tbody>\n",
       "    <tr>\n",
       "      <th>count</th>\n",
       "      <td>10.000000</td>\n",
       "      <td>10.000000</td>\n",
       "      <td>10.000000</td>\n",
       "    </tr>\n",
       "    <tr>\n",
       "      <th>mean</th>\n",
       "      <td>0.521811</td>\n",
       "      <td>0.399960</td>\n",
       "      <td>0.408587</td>\n",
       "    </tr>\n",
       "    <tr>\n",
       "      <th>std</th>\n",
       "      <td>0.348821</td>\n",
       "      <td>0.288909</td>\n",
       "      <td>0.324179</td>\n",
       "    </tr>\n",
       "    <tr>\n",
       "      <th>min</th>\n",
       "      <td>0.074595</td>\n",
       "      <td>0.110928</td>\n",
       "      <td>0.026641</td>\n",
       "    </tr>\n",
       "    <tr>\n",
       "      <th>25%</th>\n",
       "      <td>0.208481</td>\n",
       "      <td>0.176307</td>\n",
       "      <td>0.146263</td>\n",
       "    </tr>\n",
       "    <tr>\n",
       "      <th>50%</th>\n",
       "      <td>0.526644</td>\n",
       "      <td>0.307990</td>\n",
       "      <td>0.287451</td>\n",
       "    </tr>\n",
       "    <tr>\n",
       "      <th>75%</th>\n",
       "      <td>0.790273</td>\n",
       "      <td>0.555371</td>\n",
       "      <td>0.689134</td>\n",
       "    </tr>\n",
       "    <tr>\n",
       "      <th>max</th>\n",
       "      <td>0.995874</td>\n",
       "      <td>0.997144</td>\n",
       "      <td>0.978617</td>\n",
       "    </tr>\n",
       "  </tbody>\n",
       "</table>\n",
       "</div>"
      ],
      "text/plain": [
       "               0          1          2\n",
       "count  10.000000  10.000000  10.000000\n",
       "mean    0.521811   0.399960   0.408587\n",
       "std     0.348821   0.288909   0.324179\n",
       "min     0.074595   0.110928   0.026641\n",
       "25%     0.208481   0.176307   0.146263\n",
       "50%     0.526644   0.307990   0.287451\n",
       "75%     0.790273   0.555371   0.689134\n",
       "max     0.995874   0.997144   0.978617"
      ]
     },
     "execution_count": 36,
     "metadata": {},
     "output_type": "execute_result"
    }
   ],
   "source": [
    "newdf.describe()"
   ]
  },
  {
   "cell_type": "code",
   "execution_count": 38,
   "id": "63723a67",
   "metadata": {
    "ExecuteTime": {
     "end_time": "2022-05-21T07:31:03.888794Z",
     "start_time": "2022-05-21T07:31:03.877831Z"
    }
   },
   "outputs": [
    {
     "data": {
      "text/plain": [
       "0    float64\n",
       "1    float64\n",
       "2    float64\n",
       "dtype: object"
      ]
     },
     "execution_count": 38,
     "metadata": {},
     "output_type": "execute_result"
    }
   ],
   "source": [
    "newdf.dtypes"
   ]
  },
  {
   "cell_type": "code",
   "execution_count": 40,
   "id": "c4a9cab6",
   "metadata": {
    "ExecuteTime": {
     "end_time": "2022-05-21T07:32:17.716452Z",
     "start_time": "2022-05-21T07:32:17.708476Z"
    }
   },
   "outputs": [],
   "source": [
    "newdf[0][0]='priyanka'"
   ]
  },
  {
   "cell_type": "code",
   "execution_count": 41,
   "id": "c9607334",
   "metadata": {
    "ExecuteTime": {
     "end_time": "2022-05-21T07:32:33.531369Z",
     "start_time": "2022-05-21T07:32:33.519397Z"
    }
   },
   "outputs": [
    {
     "data": {
      "text/html": [
       "<div>\n",
       "<style scoped>\n",
       "    .dataframe tbody tr th:only-of-type {\n",
       "        vertical-align: middle;\n",
       "    }\n",
       "\n",
       "    .dataframe tbody tr th {\n",
       "        vertical-align: top;\n",
       "    }\n",
       "\n",
       "    .dataframe thead th {\n",
       "        text-align: right;\n",
       "    }\n",
       "</style>\n",
       "<table border=\"1\" class=\"dataframe\">\n",
       "  <thead>\n",
       "    <tr style=\"text-align: right;\">\n",
       "      <th></th>\n",
       "      <th>0</th>\n",
       "      <th>1</th>\n",
       "      <th>2</th>\n",
       "    </tr>\n",
       "  </thead>\n",
       "  <tbody>\n",
       "    <tr>\n",
       "      <th>0</th>\n",
       "      <td>priyanka</td>\n",
       "      <td>0.161386</td>\n",
       "      <td>0.026641</td>\n",
       "    </tr>\n",
       "    <tr>\n",
       "      <th>1</th>\n",
       "      <td>0.415576</td>\n",
       "      <td>0.110928</td>\n",
       "      <td>0.120852</td>\n",
       "    </tr>\n",
       "    <tr>\n",
       "      <th>2</th>\n",
       "      <td>0.968767</td>\n",
       "      <td>0.717549</td>\n",
       "      <td>0.266273</td>\n",
       "    </tr>\n",
       "  </tbody>\n",
       "</table>\n",
       "</div>"
      ],
      "text/plain": [
       "          0         1         2\n",
       "0  priyanka  0.161386  0.026641\n",
       "1  0.415576  0.110928  0.120852\n",
       "2  0.968767  0.717549  0.266273"
      ]
     },
     "execution_count": 41,
     "metadata": {},
     "output_type": "execute_result"
    }
   ],
   "source": [
    "newdf.head(3)"
   ]
  },
  {
   "cell_type": "code",
   "execution_count": 42,
   "id": "d7feefa3",
   "metadata": {
    "ExecuteTime": {
     "end_time": "2022-05-21T07:32:46.583980Z",
     "start_time": "2022-05-21T07:32:46.575040Z"
    }
   },
   "outputs": [
    {
     "data": {
      "text/plain": [
       "0     object\n",
       "1    float64\n",
       "2    float64\n",
       "dtype: object"
      ]
     },
     "execution_count": 42,
     "metadata": {},
     "output_type": "execute_result"
    }
   ],
   "source": [
    "newdf.dtypes"
   ]
  },
  {
   "cell_type": "code",
   "execution_count": 43,
   "id": "cde66ee3",
   "metadata": {
    "ExecuteTime": {
     "end_time": "2022-05-21T07:37:15.114244Z",
     "start_time": "2022-05-21T07:37:15.108983Z"
    }
   },
   "outputs": [],
   "source": [
    "newdf[0][0]=0.3"
   ]
  },
  {
   "cell_type": "code",
   "execution_count": 44,
   "id": "e6bdc3ee",
   "metadata": {
    "ExecuteTime": {
     "end_time": "2022-05-21T07:37:26.336504Z",
     "start_time": "2022-05-21T07:37:26.321205Z"
    }
   },
   "outputs": [
    {
     "data": {
      "text/html": [
       "<div>\n",
       "<style scoped>\n",
       "    .dataframe tbody tr th:only-of-type {\n",
       "        vertical-align: middle;\n",
       "    }\n",
       "\n",
       "    .dataframe tbody tr th {\n",
       "        vertical-align: top;\n",
       "    }\n",
       "\n",
       "    .dataframe thead th {\n",
       "        text-align: right;\n",
       "    }\n",
       "</style>\n",
       "<table border=\"1\" class=\"dataframe\">\n",
       "  <thead>\n",
       "    <tr style=\"text-align: right;\">\n",
       "      <th></th>\n",
       "      <th>0</th>\n",
       "      <th>1</th>\n",
       "      <th>2</th>\n",
       "    </tr>\n",
       "  </thead>\n",
       "  <tbody>\n",
       "    <tr>\n",
       "      <th>0</th>\n",
       "      <td>0.3</td>\n",
       "      <td>0.161386</td>\n",
       "      <td>0.026641</td>\n",
       "    </tr>\n",
       "    <tr>\n",
       "      <th>1</th>\n",
       "      <td>0.415576</td>\n",
       "      <td>0.110928</td>\n",
       "      <td>0.120852</td>\n",
       "    </tr>\n",
       "    <tr>\n",
       "      <th>2</th>\n",
       "      <td>0.968767</td>\n",
       "      <td>0.717549</td>\n",
       "      <td>0.266273</td>\n",
       "    </tr>\n",
       "    <tr>\n",
       "      <th>3</th>\n",
       "      <td>0.173506</td>\n",
       "      <td>0.307372</td>\n",
       "      <td>0.978617</td>\n",
       "    </tr>\n",
       "    <tr>\n",
       "      <th>4</th>\n",
       "      <td>0.696248</td>\n",
       "      <td>0.446157</td>\n",
       "      <td>0.627093</td>\n",
       "    </tr>\n",
       "  </tbody>\n",
       "</table>\n",
       "</div>"
      ],
      "text/plain": [
       "          0         1         2\n",
       "0       0.3  0.161386  0.026641\n",
       "1  0.415576  0.110928  0.120852\n",
       "2  0.968767  0.717549  0.266273\n",
       "3  0.173506  0.307372  0.978617\n",
       "4  0.696248  0.446157  0.627093"
      ]
     },
     "execution_count": 44,
     "metadata": {},
     "output_type": "execute_result"
    }
   ],
   "source": [
    "newdf.head()"
   ]
  },
  {
   "cell_type": "code",
   "execution_count": 47,
   "id": "0b4ce731",
   "metadata": {
    "ExecuteTime": {
     "end_time": "2022-05-21T07:38:28.067535Z",
     "start_time": "2022-05-21T07:38:28.053094Z"
    }
   },
   "outputs": [
    {
     "data": {
      "text/plain": [
       "RangeIndex(start=0, stop=3, step=1)"
      ]
     },
     "execution_count": 47,
     "metadata": {},
     "output_type": "execute_result"
    }
   ],
   "source": [
    "newdf.columns"
   ]
  },
  {
   "cell_type": "code",
   "execution_count": 48,
   "id": "bb433f26",
   "metadata": {
    "ExecuteTime": {
     "end_time": "2022-05-21T07:38:48.000647Z",
     "start_time": "2022-05-21T07:38:47.991731Z"
    }
   },
   "outputs": [
    {
     "data": {
      "text/plain": [
       "array([[0.3, 0.16138586107180153, 0.02664059154047671],\n",
       "       [0.4155764705643483, 0.11092800978266715, 0.12085195686085459],\n",
       "       [0.9687674950992147, 0.7175493569006512, 0.26627311214724303],\n",
       "       [0.17350649050642974, 0.30737195330972156, 0.9786173931276312],\n",
       "       [0.696247553700481, 0.44615683636056946, 0.6270928481835254],\n",
       "       [0.9958740687341854, 0.17327478217430015, 0.7244001491066493],\n",
       "       [0.07459502083341008, 0.3086074629844574, 0.30862907211229496],\n",
       "       [0.8216145969918387, 0.5917751092131174, 0.19280432660460345],\n",
       "       [0.12081291157559948, 0.9971440135937366, 0.13074925147686522],\n",
       "       [0.637712040007483, 0.18540179133560375, 0.7098147080042791]],\n",
       "      dtype=object)"
      ]
     },
     "execution_count": 48,
     "metadata": {},
     "output_type": "execute_result"
    }
   ],
   "source": [
    "newdf.to_numpy()"
   ]
  },
  {
   "cell_type": "code",
   "execution_count": 49,
   "id": "67f6fdb2",
   "metadata": {
    "ExecuteTime": {
     "end_time": "2022-05-21T07:39:25.817518Z",
     "start_time": "2022-05-21T07:39:25.794272Z"
    }
   },
   "outputs": [
    {
     "data": {
      "text/html": [
       "<div>\n",
       "<style scoped>\n",
       "    .dataframe tbody tr th:only-of-type {\n",
       "        vertical-align: middle;\n",
       "    }\n",
       "\n",
       "    .dataframe tbody tr th {\n",
       "        vertical-align: top;\n",
       "    }\n",
       "\n",
       "    .dataframe thead th {\n",
       "        text-align: right;\n",
       "    }\n",
       "</style>\n",
       "<table border=\"1\" class=\"dataframe\">\n",
       "  <thead>\n",
       "    <tr style=\"text-align: right;\">\n",
       "      <th></th>\n",
       "      <th>0</th>\n",
       "      <th>1</th>\n",
       "      <th>2</th>\n",
       "      <th>3</th>\n",
       "      <th>4</th>\n",
       "      <th>5</th>\n",
       "      <th>6</th>\n",
       "      <th>7</th>\n",
       "      <th>8</th>\n",
       "      <th>9</th>\n",
       "    </tr>\n",
       "  </thead>\n",
       "  <tbody>\n",
       "    <tr>\n",
       "      <th>0</th>\n",
       "      <td>0.3</td>\n",
       "      <td>0.415576</td>\n",
       "      <td>0.968767</td>\n",
       "      <td>0.173506</td>\n",
       "      <td>0.696248</td>\n",
       "      <td>0.995874</td>\n",
       "      <td>0.074595</td>\n",
       "      <td>0.821615</td>\n",
       "      <td>0.120813</td>\n",
       "      <td>0.637712</td>\n",
       "    </tr>\n",
       "    <tr>\n",
       "      <th>1</th>\n",
       "      <td>0.161386</td>\n",
       "      <td>0.110928</td>\n",
       "      <td>0.717549</td>\n",
       "      <td>0.307372</td>\n",
       "      <td>0.446157</td>\n",
       "      <td>0.173275</td>\n",
       "      <td>0.308607</td>\n",
       "      <td>0.591775</td>\n",
       "      <td>0.997144</td>\n",
       "      <td>0.185402</td>\n",
       "    </tr>\n",
       "    <tr>\n",
       "      <th>2</th>\n",
       "      <td>0.026641</td>\n",
       "      <td>0.120852</td>\n",
       "      <td>0.266273</td>\n",
       "      <td>0.978617</td>\n",
       "      <td>0.627093</td>\n",
       "      <td>0.7244</td>\n",
       "      <td>0.308629</td>\n",
       "      <td>0.192804</td>\n",
       "      <td>0.130749</td>\n",
       "      <td>0.709815</td>\n",
       "    </tr>\n",
       "  </tbody>\n",
       "</table>\n",
       "</div>"
      ],
      "text/plain": [
       "          0         1         2         3         4         5         6  \\\n",
       "0       0.3  0.415576  0.968767  0.173506  0.696248  0.995874  0.074595   \n",
       "1  0.161386  0.110928  0.717549  0.307372  0.446157  0.173275  0.308607   \n",
       "2  0.026641  0.120852  0.266273  0.978617  0.627093    0.7244  0.308629   \n",
       "\n",
       "          7         8         9  \n",
       "0  0.821615  0.120813  0.637712  \n",
       "1  0.591775  0.997144  0.185402  \n",
       "2  0.192804  0.130749  0.709815  "
      ]
     },
     "execution_count": 49,
     "metadata": {},
     "output_type": "execute_result"
    }
   ],
   "source": [
    "newdf.T"
   ]
  },
  {
   "cell_type": "code",
   "execution_count": 50,
   "id": "7c1a4b34",
   "metadata": {
    "ExecuteTime": {
     "end_time": "2022-05-21T07:42:26.688659Z",
     "start_time": "2022-05-21T07:42:26.674210Z"
    }
   },
   "outputs": [
    {
     "data": {
      "text/html": [
       "<div>\n",
       "<style scoped>\n",
       "    .dataframe tbody tr th:only-of-type {\n",
       "        vertical-align: middle;\n",
       "    }\n",
       "\n",
       "    .dataframe tbody tr th {\n",
       "        vertical-align: top;\n",
       "    }\n",
       "\n",
       "    .dataframe thead th {\n",
       "        text-align: right;\n",
       "    }\n",
       "</style>\n",
       "<table border=\"1\" class=\"dataframe\">\n",
       "  <thead>\n",
       "    <tr style=\"text-align: right;\">\n",
       "      <th></th>\n",
       "      <th>0</th>\n",
       "      <th>1</th>\n",
       "      <th>2</th>\n",
       "    </tr>\n",
       "  </thead>\n",
       "  <tbody>\n",
       "    <tr>\n",
       "      <th>9</th>\n",
       "      <td>0.637712</td>\n",
       "      <td>0.185402</td>\n",
       "      <td>0.709815</td>\n",
       "    </tr>\n",
       "    <tr>\n",
       "      <th>8</th>\n",
       "      <td>0.120813</td>\n",
       "      <td>0.997144</td>\n",
       "      <td>0.130749</td>\n",
       "    </tr>\n",
       "    <tr>\n",
       "      <th>7</th>\n",
       "      <td>0.821615</td>\n",
       "      <td>0.591775</td>\n",
       "      <td>0.192804</td>\n",
       "    </tr>\n",
       "    <tr>\n",
       "      <th>6</th>\n",
       "      <td>0.074595</td>\n",
       "      <td>0.308607</td>\n",
       "      <td>0.308629</td>\n",
       "    </tr>\n",
       "    <tr>\n",
       "      <th>5</th>\n",
       "      <td>0.995874</td>\n",
       "      <td>0.173275</td>\n",
       "      <td>0.724400</td>\n",
       "    </tr>\n",
       "    <tr>\n",
       "      <th>4</th>\n",
       "      <td>0.696248</td>\n",
       "      <td>0.446157</td>\n",
       "      <td>0.627093</td>\n",
       "    </tr>\n",
       "    <tr>\n",
       "      <th>3</th>\n",
       "      <td>0.173506</td>\n",
       "      <td>0.307372</td>\n",
       "      <td>0.978617</td>\n",
       "    </tr>\n",
       "    <tr>\n",
       "      <th>2</th>\n",
       "      <td>0.968767</td>\n",
       "      <td>0.717549</td>\n",
       "      <td>0.266273</td>\n",
       "    </tr>\n",
       "    <tr>\n",
       "      <th>1</th>\n",
       "      <td>0.415576</td>\n",
       "      <td>0.110928</td>\n",
       "      <td>0.120852</td>\n",
       "    </tr>\n",
       "    <tr>\n",
       "      <th>0</th>\n",
       "      <td>0.3</td>\n",
       "      <td>0.161386</td>\n",
       "      <td>0.026641</td>\n",
       "    </tr>\n",
       "  </tbody>\n",
       "</table>\n",
       "</div>"
      ],
      "text/plain": [
       "          0         1         2\n",
       "9  0.637712  0.185402  0.709815\n",
       "8  0.120813  0.997144  0.130749\n",
       "7  0.821615  0.591775  0.192804\n",
       "6  0.074595  0.308607  0.308629\n",
       "5  0.995874  0.173275  0.724400\n",
       "4  0.696248  0.446157  0.627093\n",
       "3  0.173506  0.307372  0.978617\n",
       "2  0.968767  0.717549  0.266273\n",
       "1  0.415576  0.110928  0.120852\n",
       "0       0.3  0.161386  0.026641"
      ]
     },
     "execution_count": 50,
     "metadata": {},
     "output_type": "execute_result"
    }
   ],
   "source": [
    "newdf.sort_index(axis=0, ascending= False)"
   ]
  },
  {
   "cell_type": "code",
   "execution_count": 51,
   "id": "dac80016",
   "metadata": {
    "ExecuteTime": {
     "end_time": "2022-05-21T07:47:23.011090Z",
     "start_time": "2022-05-21T07:47:23.003733Z"
    }
   },
   "outputs": [],
   "source": [
    "newdf2 = newdf.copy()"
   ]
  },
  {
   "cell_type": "code",
   "execution_count": 53,
   "id": "c4cb531a",
   "metadata": {
    "ExecuteTime": {
     "end_time": "2022-05-21T07:47:37.769860Z",
     "start_time": "2022-05-21T07:47:37.751531Z"
    }
   },
   "outputs": [
    {
     "data": {
      "text/html": [
       "<div>\n",
       "<style scoped>\n",
       "    .dataframe tbody tr th:only-of-type {\n",
       "        vertical-align: middle;\n",
       "    }\n",
       "\n",
       "    .dataframe tbody tr th {\n",
       "        vertical-align: top;\n",
       "    }\n",
       "\n",
       "    .dataframe thead th {\n",
       "        text-align: right;\n",
       "    }\n",
       "</style>\n",
       "<table border=\"1\" class=\"dataframe\">\n",
       "  <thead>\n",
       "    <tr style=\"text-align: right;\">\n",
       "      <th></th>\n",
       "      <th>0</th>\n",
       "      <th>1</th>\n",
       "      <th>2</th>\n",
       "    </tr>\n",
       "  </thead>\n",
       "  <tbody>\n",
       "    <tr>\n",
       "      <th>0</th>\n",
       "      <td>0.3</td>\n",
       "      <td>0.161386</td>\n",
       "      <td>0.026641</td>\n",
       "    </tr>\n",
       "    <tr>\n",
       "      <th>1</th>\n",
       "      <td>0.415576</td>\n",
       "      <td>0.110928</td>\n",
       "      <td>0.120852</td>\n",
       "    </tr>\n",
       "    <tr>\n",
       "      <th>2</th>\n",
       "      <td>0.968767</td>\n",
       "      <td>0.717549</td>\n",
       "      <td>0.266273</td>\n",
       "    </tr>\n",
       "    <tr>\n",
       "      <th>3</th>\n",
       "      <td>0.173506</td>\n",
       "      <td>0.307372</td>\n",
       "      <td>0.978617</td>\n",
       "    </tr>\n",
       "    <tr>\n",
       "      <th>4</th>\n",
       "      <td>0.696248</td>\n",
       "      <td>0.446157</td>\n",
       "      <td>0.627093</td>\n",
       "    </tr>\n",
       "    <tr>\n",
       "      <th>5</th>\n",
       "      <td>0.995874</td>\n",
       "      <td>0.173275</td>\n",
       "      <td>0.724400</td>\n",
       "    </tr>\n",
       "    <tr>\n",
       "      <th>6</th>\n",
       "      <td>0.074595</td>\n",
       "      <td>0.308607</td>\n",
       "      <td>0.308629</td>\n",
       "    </tr>\n",
       "    <tr>\n",
       "      <th>7</th>\n",
       "      <td>0.821615</td>\n",
       "      <td>0.591775</td>\n",
       "      <td>0.192804</td>\n",
       "    </tr>\n",
       "    <tr>\n",
       "      <th>8</th>\n",
       "      <td>0.120813</td>\n",
       "      <td>0.997144</td>\n",
       "      <td>0.130749</td>\n",
       "    </tr>\n",
       "    <tr>\n",
       "      <th>9</th>\n",
       "      <td>0.637712</td>\n",
       "      <td>0.185402</td>\n",
       "      <td>0.709815</td>\n",
       "    </tr>\n",
       "  </tbody>\n",
       "</table>\n",
       "</div>"
      ],
      "text/plain": [
       "          0         1         2\n",
       "0       0.3  0.161386  0.026641\n",
       "1  0.415576  0.110928  0.120852\n",
       "2  0.968767  0.717549  0.266273\n",
       "3  0.173506  0.307372  0.978617\n",
       "4  0.696248  0.446157  0.627093\n",
       "5  0.995874  0.173275  0.724400\n",
       "6  0.074595  0.308607  0.308629\n",
       "7  0.821615  0.591775  0.192804\n",
       "8  0.120813  0.997144  0.130749\n",
       "9  0.637712  0.185402  0.709815"
      ]
     },
     "execution_count": 53,
     "metadata": {},
     "output_type": "execute_result"
    }
   ],
   "source": [
    "newdf2"
   ]
  },
  {
   "cell_type": "code",
   "execution_count": 54,
   "id": "b9b7a14c",
   "metadata": {
    "ExecuteTime": {
     "end_time": "2022-05-21T08:51:56.616895Z",
     "start_time": "2022-05-21T08:51:56.609914Z"
    }
   },
   "outputs": [],
   "source": [
    "newdf.loc[0,0]=55"
   ]
  },
  {
   "cell_type": "code",
   "execution_count": 56,
   "id": "446368f4",
   "metadata": {
    "ExecuteTime": {
     "end_time": "2022-05-21T08:52:09.693082Z",
     "start_time": "2022-05-21T08:52:09.681115Z"
    }
   },
   "outputs": [
    {
     "data": {
      "text/html": [
       "<div>\n",
       "<style scoped>\n",
       "    .dataframe tbody tr th:only-of-type {\n",
       "        vertical-align: middle;\n",
       "    }\n",
       "\n",
       "    .dataframe tbody tr th {\n",
       "        vertical-align: top;\n",
       "    }\n",
       "\n",
       "    .dataframe thead th {\n",
       "        text-align: right;\n",
       "    }\n",
       "</style>\n",
       "<table border=\"1\" class=\"dataframe\">\n",
       "  <thead>\n",
       "    <tr style=\"text-align: right;\">\n",
       "      <th></th>\n",
       "      <th>0</th>\n",
       "      <th>1</th>\n",
       "      <th>2</th>\n",
       "    </tr>\n",
       "  </thead>\n",
       "  <tbody>\n",
       "    <tr>\n",
       "      <th>0</th>\n",
       "      <td>55</td>\n",
       "      <td>0.161386</td>\n",
       "      <td>0.026641</td>\n",
       "    </tr>\n",
       "    <tr>\n",
       "      <th>1</th>\n",
       "      <td>0.415576</td>\n",
       "      <td>0.110928</td>\n",
       "      <td>0.120852</td>\n",
       "    </tr>\n",
       "  </tbody>\n",
       "</table>\n",
       "</div>"
      ],
      "text/plain": [
       "          0         1         2\n",
       "0        55  0.161386  0.026641\n",
       "1  0.415576  0.110928  0.120852"
      ]
     },
     "execution_count": 56,
     "metadata": {},
     "output_type": "execute_result"
    }
   ],
   "source": [
    "newdf.head(2)"
   ]
  },
  {
   "cell_type": "code",
   "execution_count": 57,
   "id": "94451cc0",
   "metadata": {
    "ExecuteTime": {
     "end_time": "2022-05-21T08:53:01.188269Z",
     "start_time": "2022-05-21T08:53:01.181316Z"
    }
   },
   "outputs": [],
   "source": [
    "newdf.columns = ['a','b','c']"
   ]
  },
  {
   "cell_type": "code",
   "execution_count": 58,
   "id": "800d2ccb",
   "metadata": {
    "ExecuteTime": {
     "end_time": "2022-05-21T08:53:05.575803Z",
     "start_time": "2022-05-21T08:53:05.560428Z"
    }
   },
   "outputs": [
    {
     "data": {
      "text/html": [
       "<div>\n",
       "<style scoped>\n",
       "    .dataframe tbody tr th:only-of-type {\n",
       "        vertical-align: middle;\n",
       "    }\n",
       "\n",
       "    .dataframe tbody tr th {\n",
       "        vertical-align: top;\n",
       "    }\n",
       "\n",
       "    .dataframe thead th {\n",
       "        text-align: right;\n",
       "    }\n",
       "</style>\n",
       "<table border=\"1\" class=\"dataframe\">\n",
       "  <thead>\n",
       "    <tr style=\"text-align: right;\">\n",
       "      <th></th>\n",
       "      <th>a</th>\n",
       "      <th>b</th>\n",
       "      <th>c</th>\n",
       "    </tr>\n",
       "  </thead>\n",
       "  <tbody>\n",
       "    <tr>\n",
       "      <th>0</th>\n",
       "      <td>55</td>\n",
       "      <td>0.161386</td>\n",
       "      <td>0.026641</td>\n",
       "    </tr>\n",
       "    <tr>\n",
       "      <th>1</th>\n",
       "      <td>0.415576</td>\n",
       "      <td>0.110928</td>\n",
       "      <td>0.120852</td>\n",
       "    </tr>\n",
       "    <tr>\n",
       "      <th>2</th>\n",
       "      <td>0.968767</td>\n",
       "      <td>0.717549</td>\n",
       "      <td>0.266273</td>\n",
       "    </tr>\n",
       "    <tr>\n",
       "      <th>3</th>\n",
       "      <td>0.173506</td>\n",
       "      <td>0.307372</td>\n",
       "      <td>0.978617</td>\n",
       "    </tr>\n",
       "    <tr>\n",
       "      <th>4</th>\n",
       "      <td>0.696248</td>\n",
       "      <td>0.446157</td>\n",
       "      <td>0.627093</td>\n",
       "    </tr>\n",
       "    <tr>\n",
       "      <th>5</th>\n",
       "      <td>0.995874</td>\n",
       "      <td>0.173275</td>\n",
       "      <td>0.724400</td>\n",
       "    </tr>\n",
       "    <tr>\n",
       "      <th>6</th>\n",
       "      <td>0.074595</td>\n",
       "      <td>0.308607</td>\n",
       "      <td>0.308629</td>\n",
       "    </tr>\n",
       "    <tr>\n",
       "      <th>7</th>\n",
       "      <td>0.821615</td>\n",
       "      <td>0.591775</td>\n",
       "      <td>0.192804</td>\n",
       "    </tr>\n",
       "    <tr>\n",
       "      <th>8</th>\n",
       "      <td>0.120813</td>\n",
       "      <td>0.997144</td>\n",
       "      <td>0.130749</td>\n",
       "    </tr>\n",
       "    <tr>\n",
       "      <th>9</th>\n",
       "      <td>0.637712</td>\n",
       "      <td>0.185402</td>\n",
       "      <td>0.709815</td>\n",
       "    </tr>\n",
       "  </tbody>\n",
       "</table>\n",
       "</div>"
      ],
      "text/plain": [
       "          a         b         c\n",
       "0        55  0.161386  0.026641\n",
       "1  0.415576  0.110928  0.120852\n",
       "2  0.968767  0.717549  0.266273\n",
       "3  0.173506  0.307372  0.978617\n",
       "4  0.696248  0.446157  0.627093\n",
       "5  0.995874  0.173275  0.724400\n",
       "6  0.074595  0.308607  0.308629\n",
       "7  0.821615  0.591775  0.192804\n",
       "8  0.120813  0.997144  0.130749\n",
       "9  0.637712  0.185402  0.709815"
      ]
     },
     "execution_count": 58,
     "metadata": {},
     "output_type": "execute_result"
    }
   ],
   "source": [
    "newdf"
   ]
  },
  {
   "cell_type": "code",
   "execution_count": 61,
   "id": "13ee4be2",
   "metadata": {
    "ExecuteTime": {
     "end_time": "2022-05-21T08:56:26.790624Z",
     "start_time": "2022-05-21T08:56:26.773252Z"
    }
   },
   "outputs": [
    {
     "data": {
      "text/html": [
       "<div>\n",
       "<style scoped>\n",
       "    .dataframe tbody tr th:only-of-type {\n",
       "        vertical-align: middle;\n",
       "    }\n",
       "\n",
       "    .dataframe tbody tr th {\n",
       "        vertical-align: top;\n",
       "    }\n",
       "\n",
       "    .dataframe thead th {\n",
       "        text-align: right;\n",
       "    }\n",
       "</style>\n",
       "<table border=\"1\" class=\"dataframe\">\n",
       "  <thead>\n",
       "    <tr style=\"text-align: right;\">\n",
       "      <th></th>\n",
       "      <th>a</th>\n",
       "      <th>b</th>\n",
       "    </tr>\n",
       "  </thead>\n",
       "  <tbody>\n",
       "    <tr>\n",
       "      <th>0</th>\n",
       "      <td>55</td>\n",
       "      <td>0.161386</td>\n",
       "    </tr>\n",
       "    <tr>\n",
       "      <th>1</th>\n",
       "      <td>0.415576</td>\n",
       "      <td>0.110928</td>\n",
       "    </tr>\n",
       "    <tr>\n",
       "      <th>2</th>\n",
       "      <td>0.968767</td>\n",
       "      <td>0.717549</td>\n",
       "    </tr>\n",
       "    <tr>\n",
       "      <th>3</th>\n",
       "      <td>0.173506</td>\n",
       "      <td>0.307372</td>\n",
       "    </tr>\n",
       "    <tr>\n",
       "      <th>4</th>\n",
       "      <td>0.696248</td>\n",
       "      <td>0.446157</td>\n",
       "    </tr>\n",
       "    <tr>\n",
       "      <th>5</th>\n",
       "      <td>0.995874</td>\n",
       "      <td>0.173275</td>\n",
       "    </tr>\n",
       "    <tr>\n",
       "      <th>6</th>\n",
       "      <td>0.074595</td>\n",
       "      <td>0.308607</td>\n",
       "    </tr>\n",
       "    <tr>\n",
       "      <th>7</th>\n",
       "      <td>0.821615</td>\n",
       "      <td>0.591775</td>\n",
       "    </tr>\n",
       "    <tr>\n",
       "      <th>8</th>\n",
       "      <td>0.120813</td>\n",
       "      <td>0.997144</td>\n",
       "    </tr>\n",
       "    <tr>\n",
       "      <th>9</th>\n",
       "      <td>0.637712</td>\n",
       "      <td>0.185402</td>\n",
       "    </tr>\n",
       "  </tbody>\n",
       "</table>\n",
       "</div>"
      ],
      "text/plain": [
       "          a         b\n",
       "0        55  0.161386\n",
       "1  0.415576  0.110928\n",
       "2  0.968767  0.717549\n",
       "3  0.173506  0.307372\n",
       "4  0.696248  0.446157\n",
       "5  0.995874  0.173275\n",
       "6  0.074595  0.308607\n",
       "7  0.821615  0.591775\n",
       "8  0.120813  0.997144\n",
       "9  0.637712  0.185402"
      ]
     },
     "execution_count": 61,
     "metadata": {},
     "output_type": "execute_result"
    }
   ],
   "source": [
    "newdf.drop('c',axis=1)"
   ]
  },
  {
   "cell_type": "code",
   "execution_count": 63,
   "id": "1707514c",
   "metadata": {
    "ExecuteTime": {
     "end_time": "2022-05-21T08:58:43.418224Z",
     "start_time": "2022-05-21T08:58:43.402266Z"
    }
   },
   "outputs": [
    {
     "data": {
      "text/html": [
       "<div>\n",
       "<style scoped>\n",
       "    .dataframe tbody tr th:only-of-type {\n",
       "        vertical-align: middle;\n",
       "    }\n",
       "\n",
       "    .dataframe tbody tr th {\n",
       "        vertical-align: top;\n",
       "    }\n",
       "\n",
       "    .dataframe thead th {\n",
       "        text-align: right;\n",
       "    }\n",
       "</style>\n",
       "<table border=\"1\" class=\"dataframe\">\n",
       "  <thead>\n",
       "    <tr style=\"text-align: right;\">\n",
       "      <th></th>\n",
       "      <th>a</th>\n",
       "      <th>b</th>\n",
       "    </tr>\n",
       "  </thead>\n",
       "  <tbody>\n",
       "    <tr>\n",
       "      <th>1</th>\n",
       "      <td>0.415576</td>\n",
       "      <td>0.110928</td>\n",
       "    </tr>\n",
       "    <tr>\n",
       "      <th>2</th>\n",
       "      <td>0.968767</td>\n",
       "      <td>0.717549</td>\n",
       "    </tr>\n",
       "  </tbody>\n",
       "</table>\n",
       "</div>"
      ],
      "text/plain": [
       "          a         b\n",
       "1  0.415576  0.110928\n",
       "2  0.968767  0.717549"
      ]
     },
     "execution_count": 63,
     "metadata": {},
     "output_type": "execute_result"
    }
   ],
   "source": [
    "newdf.loc[[1,2],['a','b']]"
   ]
  },
  {
   "cell_type": "code",
   "execution_count": 84,
   "id": "f3efc42e",
   "metadata": {
    "ExecuteTime": {
     "end_time": "2022-05-21T09:11:44.005477Z",
     "start_time": "2022-05-21T09:11:43.996234Z"
    }
   },
   "outputs": [
    {
     "name": "stdout",
     "output_type": "stream",
     "text": [
      "a    0.415576\n",
      "b    0.110928\n",
      "c    0.120852\n",
      "Name: 1, dtype: object\n"
     ]
    }
   ],
   "source": [
    "first = newdf.loc[1]\n",
    "print(first)"
   ]
  },
  {
   "cell_type": "code",
   "execution_count": 79,
   "id": "aee7d22b",
   "metadata": {
    "ExecuteTime": {
     "end_time": "2022-05-21T09:09:51.552806Z",
     "start_time": "2022-05-21T09:09:51.543219Z"
    }
   },
   "outputs": [
    {
     "data": {
      "text/html": [
       "<div>\n",
       "<style scoped>\n",
       "    .dataframe tbody tr th:only-of-type {\n",
       "        vertical-align: middle;\n",
       "    }\n",
       "\n",
       "    .dataframe tbody tr th {\n",
       "        vertical-align: top;\n",
       "    }\n",
       "\n",
       "    .dataframe thead th {\n",
       "        text-align: right;\n",
       "    }\n",
       "</style>\n",
       "<table border=\"1\" class=\"dataframe\">\n",
       "  <thead>\n",
       "    <tr style=\"text-align: right;\">\n",
       "      <th></th>\n",
       "      <th>a</th>\n",
       "      <th>b</th>\n",
       "      <th>c</th>\n",
       "    </tr>\n",
       "  </thead>\n",
       "  <tbody>\n",
       "    <tr>\n",
       "      <th>3</th>\n",
       "      <td>0.173506</td>\n",
       "      <td>0.307372</td>\n",
       "      <td>0.978617</td>\n",
       "    </tr>\n",
       "    <tr>\n",
       "      <th>6</th>\n",
       "      <td>0.074595</td>\n",
       "      <td>0.308607</td>\n",
       "      <td>0.308629</td>\n",
       "    </tr>\n",
       "    <tr>\n",
       "      <th>8</th>\n",
       "      <td>0.120813</td>\n",
       "      <td>0.997144</td>\n",
       "      <td>0.130749</td>\n",
       "    </tr>\n",
       "  </tbody>\n",
       "</table>\n",
       "</div>"
      ],
      "text/plain": [
       "          a         b         c\n",
       "3  0.173506  0.307372  0.978617\n",
       "6  0.074595  0.308607  0.308629\n",
       "8  0.120813  0.997144  0.130749"
      ]
     },
     "execution_count": 79,
     "metadata": {},
     "output_type": "execute_result"
    }
   ],
   "source": [
    "newdf.loc[(newdf[\"a\"]<0.3)&(newdf[\"b\"]>0.1)]"
   ]
  },
  {
   "cell_type": "code",
   "execution_count": 89,
   "id": "fd662c58",
   "metadata": {
    "ExecuteTime": {
     "end_time": "2022-05-21T09:15:23.002426Z",
     "start_time": "2022-05-21T09:15:22.993801Z"
    }
   },
   "outputs": [
    {
     "data": {
      "text/plain": [
       "0.16138586107180153"
      ]
     },
     "execution_count": 89,
     "metadata": {},
     "output_type": "execute_result"
    }
   ],
   "source": [
    "newdf.iloc[0,1]"
   ]
  },
  {
   "cell_type": "code",
   "execution_count": 90,
   "id": "7ad28d76",
   "metadata": {
    "ExecuteTime": {
     "end_time": "2022-05-21T09:19:01.873008Z",
     "start_time": "2022-05-21T09:19:01.857488Z"
    }
   },
   "outputs": [
    {
     "data": {
      "text/html": [
       "<div>\n",
       "<style scoped>\n",
       "    .dataframe tbody tr th:only-of-type {\n",
       "        vertical-align: middle;\n",
       "    }\n",
       "\n",
       "    .dataframe tbody tr th {\n",
       "        vertical-align: top;\n",
       "    }\n",
       "\n",
       "    .dataframe thead th {\n",
       "        text-align: right;\n",
       "    }\n",
       "</style>\n",
       "<table border=\"1\" class=\"dataframe\">\n",
       "  <thead>\n",
       "    <tr style=\"text-align: right;\">\n",
       "      <th></th>\n",
       "      <th>b</th>\n",
       "      <th>c</th>\n",
       "    </tr>\n",
       "  </thead>\n",
       "  <tbody>\n",
       "    <tr>\n",
       "      <th>0</th>\n",
       "      <td>0.161386</td>\n",
       "      <td>0.026641</td>\n",
       "    </tr>\n",
       "    <tr>\n",
       "      <th>4</th>\n",
       "      <td>0.446157</td>\n",
       "      <td>0.627093</td>\n",
       "    </tr>\n",
       "  </tbody>\n",
       "</table>\n",
       "</div>"
      ],
      "text/plain": [
       "          b         c\n",
       "0  0.161386  0.026641\n",
       "4  0.446157  0.627093"
      ]
     },
     "execution_count": 90,
     "metadata": {},
     "output_type": "execute_result"
    }
   ],
   "source": [
    "newdf.iloc[[0,4],[1,2]]"
   ]
  },
  {
   "cell_type": "code",
   "execution_count": 93,
   "id": "472e3e01",
   "metadata": {
    "ExecuteTime": {
     "end_time": "2022-05-21T09:21:02.920536Z",
     "start_time": "2022-05-21T09:21:02.903580Z"
    }
   },
   "outputs": [
    {
     "data": {
      "text/html": [
       "<div>\n",
       "<style scoped>\n",
       "    .dataframe tbody tr th:only-of-type {\n",
       "        vertical-align: middle;\n",
       "    }\n",
       "\n",
       "    .dataframe tbody tr th {\n",
       "        vertical-align: top;\n",
       "    }\n",
       "\n",
       "    .dataframe thead th {\n",
       "        text-align: right;\n",
       "    }\n",
       "</style>\n",
       "<table border=\"1\" class=\"dataframe\">\n",
       "  <thead>\n",
       "    <tr style=\"text-align: right;\">\n",
       "      <th></th>\n",
       "      <th>a</th>\n",
       "      <th>b</th>\n",
       "      <th>c</th>\n",
       "    </tr>\n",
       "  </thead>\n",
       "  <tbody>\n",
       "    <tr>\n",
       "      <th>0</th>\n",
       "      <td>55</td>\n",
       "      <td>0.161386</td>\n",
       "      <td>0.026641</td>\n",
       "    </tr>\n",
       "    <tr>\n",
       "      <th>2</th>\n",
       "      <td>0.968767</td>\n",
       "      <td>0.717549</td>\n",
       "      <td>0.266273</td>\n",
       "    </tr>\n",
       "    <tr>\n",
       "      <th>3</th>\n",
       "      <td>0.173506</td>\n",
       "      <td>0.307372</td>\n",
       "      <td>0.978617</td>\n",
       "    </tr>\n",
       "    <tr>\n",
       "      <th>4</th>\n",
       "      <td>0.696248</td>\n",
       "      <td>0.446157</td>\n",
       "      <td>0.627093</td>\n",
       "    </tr>\n",
       "    <tr>\n",
       "      <th>5</th>\n",
       "      <td>0.995874</td>\n",
       "      <td>0.173275</td>\n",
       "      <td>0.724400</td>\n",
       "    </tr>\n",
       "    <tr>\n",
       "      <th>6</th>\n",
       "      <td>0.074595</td>\n",
       "      <td>0.308607</td>\n",
       "      <td>0.308629</td>\n",
       "    </tr>\n",
       "    <tr>\n",
       "      <th>7</th>\n",
       "      <td>0.821615</td>\n",
       "      <td>0.591775</td>\n",
       "      <td>0.192804</td>\n",
       "    </tr>\n",
       "    <tr>\n",
       "      <th>8</th>\n",
       "      <td>0.120813</td>\n",
       "      <td>0.997144</td>\n",
       "      <td>0.130749</td>\n",
       "    </tr>\n",
       "    <tr>\n",
       "      <th>9</th>\n",
       "      <td>0.637712</td>\n",
       "      <td>0.185402</td>\n",
       "      <td>0.709815</td>\n",
       "    </tr>\n",
       "  </tbody>\n",
       "</table>\n",
       "</div>"
      ],
      "text/plain": [
       "          a         b         c\n",
       "0        55  0.161386  0.026641\n",
       "2  0.968767  0.717549  0.266273\n",
       "3  0.173506  0.307372  0.978617\n",
       "4  0.696248  0.446157  0.627093\n",
       "5  0.995874  0.173275  0.724400\n",
       "6  0.074595  0.308607  0.308629\n",
       "7  0.821615  0.591775  0.192804\n",
       "8  0.120813  0.997144  0.130749\n",
       "9  0.637712  0.185402  0.709815"
      ]
     },
     "execution_count": 93,
     "metadata": {},
     "output_type": "execute_result"
    }
   ],
   "source": [
    "newdf.drop([1])"
   ]
  },
  {
   "cell_type": "code",
   "execution_count": 98,
   "id": "208118ce",
   "metadata": {
    "ExecuteTime": {
     "end_time": "2022-05-21T09:35:53.944617Z",
     "start_time": "2022-05-21T09:35:53.927440Z"
    }
   },
   "outputs": [
    {
     "data": {
      "text/html": [
       "<div>\n",
       "<style scoped>\n",
       "    .dataframe tbody tr th:only-of-type {\n",
       "        vertical-align: middle;\n",
       "    }\n",
       "\n",
       "    .dataframe tbody tr th {\n",
       "        vertical-align: top;\n",
       "    }\n",
       "\n",
       "    .dataframe thead th {\n",
       "        text-align: right;\n",
       "    }\n",
       "</style>\n",
       "<table border=\"1\" class=\"dataframe\">\n",
       "  <thead>\n",
       "    <tr style=\"text-align: right;\">\n",
       "      <th></th>\n",
       "      <th>a</th>\n",
       "      <th>b</th>\n",
       "      <th>c</th>\n",
       "    </tr>\n",
       "  </thead>\n",
       "  <tbody>\n",
       "    <tr>\n",
       "      <th>0</th>\n",
       "      <td>55</td>\n",
       "      <td>0.161386</td>\n",
       "      <td>0.026641</td>\n",
       "    </tr>\n",
       "    <tr>\n",
       "      <th>1</th>\n",
       "      <td>0.415576</td>\n",
       "      <td>0.110928</td>\n",
       "      <td>0.120852</td>\n",
       "    </tr>\n",
       "    <tr>\n",
       "      <th>2</th>\n",
       "      <td>0.968767</td>\n",
       "      <td>0.717549</td>\n",
       "      <td>0.266273</td>\n",
       "    </tr>\n",
       "    <tr>\n",
       "      <th>3</th>\n",
       "      <td>0.173506</td>\n",
       "      <td>0.307372</td>\n",
       "      <td>0.978617</td>\n",
       "    </tr>\n",
       "    <tr>\n",
       "      <th>4</th>\n",
       "      <td>0.696248</td>\n",
       "      <td>0.446157</td>\n",
       "      <td>0.627093</td>\n",
       "    </tr>\n",
       "    <tr>\n",
       "      <th>5</th>\n",
       "      <td>0.995874</td>\n",
       "      <td>0.173275</td>\n",
       "      <td>0.724400</td>\n",
       "    </tr>\n",
       "    <tr>\n",
       "      <th>6</th>\n",
       "      <td>0.074595</td>\n",
       "      <td>0.308607</td>\n",
       "      <td>0.308629</td>\n",
       "    </tr>\n",
       "    <tr>\n",
       "      <th>7</th>\n",
       "      <td>0.821615</td>\n",
       "      <td>0.591775</td>\n",
       "      <td>0.192804</td>\n",
       "    </tr>\n",
       "    <tr>\n",
       "      <th>8</th>\n",
       "      <td>0.120813</td>\n",
       "      <td>0.997144</td>\n",
       "      <td>0.130749</td>\n",
       "    </tr>\n",
       "    <tr>\n",
       "      <th>9</th>\n",
       "      <td>0.637712</td>\n",
       "      <td>0.185402</td>\n",
       "      <td>0.709815</td>\n",
       "    </tr>\n",
       "  </tbody>\n",
       "</table>\n",
       "</div>"
      ],
      "text/plain": [
       "          a         b         c\n",
       "0        55  0.161386  0.026641\n",
       "1  0.415576  0.110928  0.120852\n",
       "2  0.968767  0.717549  0.266273\n",
       "3  0.173506  0.307372  0.978617\n",
       "4  0.696248  0.446157  0.627093\n",
       "5  0.995874  0.173275  0.724400\n",
       "6  0.074595  0.308607  0.308629\n",
       "7  0.821615  0.591775  0.192804\n",
       "8  0.120813  0.997144  0.130749\n",
       "9  0.637712  0.185402  0.709815"
      ]
     },
     "execution_count": 98,
     "metadata": {},
     "output_type": "execute_result"
    }
   ],
   "source": [
    "newdf.reset_index(drop=True)"
   ]
  },
  {
   "cell_type": "code",
   "execution_count": 104,
   "id": "e960994a",
   "metadata": {
    "ExecuteTime": {
     "end_time": "2022-05-21T09:42:20.407910Z",
     "start_time": "2022-05-21T09:42:20.399336Z"
    }
   },
   "outputs": [],
   "source": [
    "newdf.loc[:,['b']]= None\n"
   ]
  },
  {
   "cell_type": "code",
   "execution_count": 106,
   "id": "6743f5ec",
   "metadata": {
    "ExecuteTime": {
     "end_time": "2022-05-21T09:43:49.127390Z",
     "start_time": "2022-05-21T09:43:49.110140Z"
    }
   },
   "outputs": [
    {
     "data": {
      "text/html": [
       "<div>\n",
       "<style scoped>\n",
       "    .dataframe tbody tr th:only-of-type {\n",
       "        vertical-align: middle;\n",
       "    }\n",
       "\n",
       "    .dataframe tbody tr th {\n",
       "        vertical-align: top;\n",
       "    }\n",
       "\n",
       "    .dataframe thead th {\n",
       "        text-align: right;\n",
       "    }\n",
       "</style>\n",
       "<table border=\"1\" class=\"dataframe\">\n",
       "  <thead>\n",
       "    <tr style=\"text-align: right;\">\n",
       "      <th></th>\n",
       "      <th>a</th>\n",
       "      <th>b</th>\n",
       "      <th>c</th>\n",
       "    </tr>\n",
       "  </thead>\n",
       "  <tbody>\n",
       "    <tr>\n",
       "      <th>0</th>\n",
       "      <td>False</td>\n",
       "      <td>True</td>\n",
       "      <td>False</td>\n",
       "    </tr>\n",
       "    <tr>\n",
       "      <th>1</th>\n",
       "      <td>False</td>\n",
       "      <td>True</td>\n",
       "      <td>False</td>\n",
       "    </tr>\n",
       "    <tr>\n",
       "      <th>2</th>\n",
       "      <td>False</td>\n",
       "      <td>True</td>\n",
       "      <td>False</td>\n",
       "    </tr>\n",
       "    <tr>\n",
       "      <th>3</th>\n",
       "      <td>False</td>\n",
       "      <td>True</td>\n",
       "      <td>False</td>\n",
       "    </tr>\n",
       "    <tr>\n",
       "      <th>4</th>\n",
       "      <td>False</td>\n",
       "      <td>True</td>\n",
       "      <td>False</td>\n",
       "    </tr>\n",
       "    <tr>\n",
       "      <th>5</th>\n",
       "      <td>False</td>\n",
       "      <td>True</td>\n",
       "      <td>False</td>\n",
       "    </tr>\n",
       "    <tr>\n",
       "      <th>6</th>\n",
       "      <td>False</td>\n",
       "      <td>True</td>\n",
       "      <td>False</td>\n",
       "    </tr>\n",
       "    <tr>\n",
       "      <th>7</th>\n",
       "      <td>False</td>\n",
       "      <td>True</td>\n",
       "      <td>False</td>\n",
       "    </tr>\n",
       "    <tr>\n",
       "      <th>8</th>\n",
       "      <td>False</td>\n",
       "      <td>True</td>\n",
       "      <td>False</td>\n",
       "    </tr>\n",
       "    <tr>\n",
       "      <th>9</th>\n",
       "      <td>False</td>\n",
       "      <td>True</td>\n",
       "      <td>False</td>\n",
       "    </tr>\n",
       "  </tbody>\n",
       "</table>\n",
       "</div>"
      ],
      "text/plain": [
       "       a     b      c\n",
       "0  False  True  False\n",
       "1  False  True  False\n",
       "2  False  True  False\n",
       "3  False  True  False\n",
       "4  False  True  False\n",
       "5  False  True  False\n",
       "6  False  True  False\n",
       "7  False  True  False\n",
       "8  False  True  False\n",
       "9  False  True  False"
      ]
     },
     "execution_count": 106,
     "metadata": {},
     "output_type": "execute_result"
    }
   ],
   "source": [
    "newdf.isnull()"
   ]
  },
  {
   "cell_type": "code",
   "execution_count": 107,
   "id": "59dbd339",
   "metadata": {
    "ExecuteTime": {
     "end_time": "2022-05-21T09:58:45.297758Z",
     "start_time": "2022-05-21T09:58:45.281766Z"
    }
   },
   "outputs": [
    {
     "name": "stdout",
     "output_type": "stream",
     "text": [
      "<class 'pandas.core.frame.DataFrame'>\n",
      "RangeIndex: 10 entries, 0 to 9\n",
      "Data columns (total 3 columns):\n",
      " #   Column  Non-Null Count  Dtype  \n",
      "---  ------  --------------  -----  \n",
      " 0   a       10 non-null     object \n",
      " 1   b       0 non-null      object \n",
      " 2   c       10 non-null     float64\n",
      "dtypes: float64(1), object(2)\n",
      "memory usage: 368.0+ bytes\n"
     ]
    }
   ],
   "source": [
    "newdf.info()"
   ]
  },
  {
   "cell_type": "code",
   "execution_count": 108,
   "id": "03d92580",
   "metadata": {
    "ExecuteTime": {
     "end_time": "2022-05-22T07:02:49.690296Z",
     "start_time": "2022-05-22T07:02:49.582082Z"
    }
   },
   "outputs": [],
   "source": [
    "env_df = pd.read_csv('environment.csv')"
   ]
  },
  {
   "cell_type": "code",
   "execution_count": 109,
   "id": "00f874f2",
   "metadata": {
    "ExecuteTime": {
     "end_time": "2022-05-22T07:03:01.839944Z",
     "start_time": "2022-05-22T07:03:01.762236Z"
    }
   },
   "outputs": [
    {
     "data": {
      "text/html": [
       "<div>\n",
       "<style scoped>\n",
       "    .dataframe tbody tr th:only-of-type {\n",
       "        vertical-align: middle;\n",
       "    }\n",
       "\n",
       "    .dataframe tbody tr th {\n",
       "        vertical-align: top;\n",
       "    }\n",
       "\n",
       "    .dataframe thead th {\n",
       "        text-align: right;\n",
       "    }\n",
       "</style>\n",
       "<table border=\"1\" class=\"dataframe\">\n",
       "  <thead>\n",
       "    <tr style=\"text-align: right;\">\n",
       "      <th></th>\n",
       "      <th>year</th>\n",
       "      <th>sector</th>\n",
       "      <th>class</th>\n",
       "      <th>cfn_tle1</th>\n",
       "      <th>cfn_tle2</th>\n",
       "      <th>units</th>\n",
       "      <th>magnitude</th>\n",
       "      <th>source</th>\n",
       "      <th>data_value</th>\n",
       "      <th>flag</th>\n",
       "    </tr>\n",
       "  </thead>\n",
       "  <tbody>\n",
       "    <tr>\n",
       "      <th>0</th>\n",
       "      <td>2009</td>\n",
       "      <td>Central government</td>\n",
       "      <td>Total</td>\n",
       "      <td>Environmental protection expenditure</td>\n",
       "      <td>Final consumption expenditure</td>\n",
       "      <td>Proportion</td>\n",
       "      <td>Actual</td>\n",
       "      <td>Environmental Accounts</td>\n",
       "      <td>1.2</td>\n",
       "      <td>F</td>\n",
       "    </tr>\n",
       "    <tr>\n",
       "      <th>1</th>\n",
       "      <td>2010</td>\n",
       "      <td>Central government</td>\n",
       "      <td>Total</td>\n",
       "      <td>Environmental protection expenditure</td>\n",
       "      <td>Final consumption expenditure</td>\n",
       "      <td>Proportion</td>\n",
       "      <td>Actual</td>\n",
       "      <td>Environmental Accounts</td>\n",
       "      <td>1.2</td>\n",
       "      <td>F</td>\n",
       "    </tr>\n",
       "    <tr>\n",
       "      <th>2</th>\n",
       "      <td>2011</td>\n",
       "      <td>Central government</td>\n",
       "      <td>Total</td>\n",
       "      <td>Environmental protection expenditure</td>\n",
       "      <td>Final consumption expenditure</td>\n",
       "      <td>Proportion</td>\n",
       "      <td>Actual</td>\n",
       "      <td>Environmental Accounts</td>\n",
       "      <td>1.1</td>\n",
       "      <td>F</td>\n",
       "    </tr>\n",
       "    <tr>\n",
       "      <th>3</th>\n",
       "      <td>2012</td>\n",
       "      <td>Central government</td>\n",
       "      <td>Total</td>\n",
       "      <td>Environmental protection expenditure</td>\n",
       "      <td>Final consumption expenditure</td>\n",
       "      <td>Proportion</td>\n",
       "      <td>Actual</td>\n",
       "      <td>Environmental Accounts</td>\n",
       "      <td>1.1</td>\n",
       "      <td>F</td>\n",
       "    </tr>\n",
       "    <tr>\n",
       "      <th>4</th>\n",
       "      <td>2013</td>\n",
       "      <td>Central government</td>\n",
       "      <td>Total</td>\n",
       "      <td>Environmental protection expenditure</td>\n",
       "      <td>Final consumption expenditure</td>\n",
       "      <td>Proportion</td>\n",
       "      <td>Actual</td>\n",
       "      <td>Environmental Accounts</td>\n",
       "      <td>1.2</td>\n",
       "      <td>F</td>\n",
       "    </tr>\n",
       "    <tr>\n",
       "      <th>...</th>\n",
       "      <td>...</td>\n",
       "      <td>...</td>\n",
       "      <td>...</td>\n",
       "      <td>...</td>\n",
       "      <td>...</td>\n",
       "      <td>...</td>\n",
       "      <td>...</td>\n",
       "      <td>...</td>\n",
       "      <td>...</td>\n",
       "      <td>...</td>\n",
       "    </tr>\n",
       "    <tr>\n",
       "      <th>451</th>\n",
       "      <td>2016</td>\n",
       "      <td>Local government</td>\n",
       "      <td>Wastewater</td>\n",
       "      <td>Environmental protection expenditure</td>\n",
       "      <td>Gross fixed capital formation</td>\n",
       "      <td>Dollars</td>\n",
       "      <td>Millions</td>\n",
       "      <td>Environmental Accounts</td>\n",
       "      <td>714.0</td>\n",
       "      <td>F</td>\n",
       "    </tr>\n",
       "    <tr>\n",
       "      <th>452</th>\n",
       "      <td>2017</td>\n",
       "      <td>Local government</td>\n",
       "      <td>Wastewater</td>\n",
       "      <td>Environmental protection expenditure</td>\n",
       "      <td>Gross fixed capital formation</td>\n",
       "      <td>Dollars</td>\n",
       "      <td>Millions</td>\n",
       "      <td>Environmental Accounts</td>\n",
       "      <td>700.0</td>\n",
       "      <td>F</td>\n",
       "    </tr>\n",
       "    <tr>\n",
       "      <th>453</th>\n",
       "      <td>2018</td>\n",
       "      <td>Local government</td>\n",
       "      <td>Wastewater</td>\n",
       "      <td>Environmental protection expenditure</td>\n",
       "      <td>Gross fixed capital formation</td>\n",
       "      <td>Dollars</td>\n",
       "      <td>Millions</td>\n",
       "      <td>Environmental Accounts</td>\n",
       "      <td>683.0</td>\n",
       "      <td>F</td>\n",
       "    </tr>\n",
       "    <tr>\n",
       "      <th>454</th>\n",
       "      <td>2019</td>\n",
       "      <td>Local government</td>\n",
       "      <td>Wastewater</td>\n",
       "      <td>Environmental protection expenditure</td>\n",
       "      <td>Gross fixed capital formation</td>\n",
       "      <td>Dollars</td>\n",
       "      <td>Millions</td>\n",
       "      <td>Environmental Accounts</td>\n",
       "      <td>780.0</td>\n",
       "      <td>P</td>\n",
       "    </tr>\n",
       "    <tr>\n",
       "      <th>455</th>\n",
       "      <td>2020</td>\n",
       "      <td>Local government</td>\n",
       "      <td>Wastewater</td>\n",
       "      <td>Environmental protection expenditure</td>\n",
       "      <td>Gross fixed capital formation</td>\n",
       "      <td>Dollars</td>\n",
       "      <td>Millions</td>\n",
       "      <td>Environmental Accounts</td>\n",
       "      <td>824.0</td>\n",
       "      <td>P</td>\n",
       "    </tr>\n",
       "  </tbody>\n",
       "</table>\n",
       "<p>456 rows × 10 columns</p>\n",
       "</div>"
      ],
      "text/plain": [
       "     year              sector       class  \\\n",
       "0    2009  Central government       Total   \n",
       "1    2010  Central government       Total   \n",
       "2    2011  Central government       Total   \n",
       "3    2012  Central government       Total   \n",
       "4    2013  Central government       Total   \n",
       "..    ...                 ...         ...   \n",
       "451  2016    Local government  Wastewater   \n",
       "452  2017    Local government  Wastewater   \n",
       "453  2018    Local government  Wastewater   \n",
       "454  2019    Local government  Wastewater   \n",
       "455  2020    Local government  Wastewater   \n",
       "\n",
       "                                 cfn_tle1                       cfn_tle2  \\\n",
       "0    Environmental protection expenditure  Final consumption expenditure   \n",
       "1    Environmental protection expenditure  Final consumption expenditure   \n",
       "2    Environmental protection expenditure  Final consumption expenditure   \n",
       "3    Environmental protection expenditure  Final consumption expenditure   \n",
       "4    Environmental protection expenditure  Final consumption expenditure   \n",
       "..                                    ...                            ...   \n",
       "451  Environmental protection expenditure  Gross fixed capital formation   \n",
       "452  Environmental protection expenditure  Gross fixed capital formation   \n",
       "453  Environmental protection expenditure  Gross fixed capital formation   \n",
       "454  Environmental protection expenditure  Gross fixed capital formation   \n",
       "455  Environmental protection expenditure  Gross fixed capital formation   \n",
       "\n",
       "          units magnitude                  source  data_value flag  \n",
       "0    Proportion    Actual  Environmental Accounts         1.2    F  \n",
       "1    Proportion    Actual  Environmental Accounts         1.2    F  \n",
       "2    Proportion    Actual  Environmental Accounts         1.1    F  \n",
       "3    Proportion    Actual  Environmental Accounts         1.1    F  \n",
       "4    Proportion    Actual  Environmental Accounts         1.2    F  \n",
       "..          ...       ...                     ...         ...  ...  \n",
       "451     Dollars  Millions  Environmental Accounts       714.0    F  \n",
       "452     Dollars  Millions  Environmental Accounts       700.0    F  \n",
       "453     Dollars  Millions  Environmental Accounts       683.0    F  \n",
       "454     Dollars  Millions  Environmental Accounts       780.0    P  \n",
       "455     Dollars  Millions  Environmental Accounts       824.0    P  \n",
       "\n",
       "[456 rows x 10 columns]"
      ]
     },
     "execution_count": 109,
     "metadata": {},
     "output_type": "execute_result"
    }
   ],
   "source": [
    "env_df"
   ]
  },
  {
   "cell_type": "code",
   "execution_count": 110,
   "id": "bdb82d73",
   "metadata": {
    "ExecuteTime": {
     "end_time": "2022-05-22T07:10:43.961192Z",
     "start_time": "2022-05-22T07:10:43.892542Z"
    }
   },
   "outputs": [
    {
     "data": {
      "text/html": [
       "<div>\n",
       "<style scoped>\n",
       "    .dataframe tbody tr th:only-of-type {\n",
       "        vertical-align: middle;\n",
       "    }\n",
       "\n",
       "    .dataframe tbody tr th {\n",
       "        vertical-align: top;\n",
       "    }\n",
       "\n",
       "    .dataframe thead th {\n",
       "        text-align: right;\n",
       "    }\n",
       "</style>\n",
       "<table border=\"1\" class=\"dataframe\">\n",
       "  <thead>\n",
       "    <tr style=\"text-align: right;\">\n",
       "      <th></th>\n",
       "      <th>year</th>\n",
       "      <th>data_value</th>\n",
       "    </tr>\n",
       "  </thead>\n",
       "  <tbody>\n",
       "    <tr>\n",
       "      <th>count</th>\n",
       "      <td>456.000000</td>\n",
       "      <td>456.000000</td>\n",
       "    </tr>\n",
       "    <tr>\n",
       "      <th>mean</th>\n",
       "      <td>2014.500000</td>\n",
       "      <td>3125.131140</td>\n",
       "    </tr>\n",
       "    <tr>\n",
       "      <th>std</th>\n",
       "      <td>3.455844</td>\n",
       "      <td>9895.965167</td>\n",
       "    </tr>\n",
       "    <tr>\n",
       "      <th>min</th>\n",
       "      <td>2009.000000</td>\n",
       "      <td>0.000000</td>\n",
       "    </tr>\n",
       "    <tr>\n",
       "      <th>25%</th>\n",
       "      <td>2011.750000</td>\n",
       "      <td>2.550000</td>\n",
       "    </tr>\n",
       "    <tr>\n",
       "      <th>50%</th>\n",
       "      <td>2014.500000</td>\n",
       "      <td>26.450000</td>\n",
       "    </tr>\n",
       "    <tr>\n",
       "      <th>75%</th>\n",
       "      <td>2017.250000</td>\n",
       "      <td>772.500000</td>\n",
       "    </tr>\n",
       "    <tr>\n",
       "      <th>max</th>\n",
       "      <td>2020.000000</td>\n",
       "      <td>61223.000000</td>\n",
       "    </tr>\n",
       "  </tbody>\n",
       "</table>\n",
       "</div>"
      ],
      "text/plain": [
       "              year    data_value\n",
       "count   456.000000    456.000000\n",
       "mean   2014.500000   3125.131140\n",
       "std       3.455844   9895.965167\n",
       "min    2009.000000      0.000000\n",
       "25%    2011.750000      2.550000\n",
       "50%    2014.500000     26.450000\n",
       "75%    2017.250000    772.500000\n",
       "max    2020.000000  61223.000000"
      ]
     },
     "execution_count": 110,
     "metadata": {},
     "output_type": "execute_result"
    }
   ],
   "source": [
    "env_df.describe()"
   ]
  },
  {
   "cell_type": "code",
   "execution_count": 117,
   "id": "ab0ecad2",
   "metadata": {
    "ExecuteTime": {
     "end_time": "2022-05-22T07:21:20.016223Z",
     "start_time": "2022-05-22T07:21:19.975411Z"
    }
   },
   "outputs": [
    {
     "data": {
      "text/html": [
       "<div>\n",
       "<style scoped>\n",
       "    .dataframe tbody tr th:only-of-type {\n",
       "        vertical-align: middle;\n",
       "    }\n",
       "\n",
       "    .dataframe tbody tr th {\n",
       "        vertical-align: top;\n",
       "    }\n",
       "\n",
       "    .dataframe thead th {\n",
       "        text-align: right;\n",
       "    }\n",
       "</style>\n",
       "<table border=\"1\" class=\"dataframe\">\n",
       "  <thead>\n",
       "    <tr style=\"text-align: right;\">\n",
       "      <th></th>\n",
       "      <th>year</th>\n",
       "      <th>sector</th>\n",
       "    </tr>\n",
       "  </thead>\n",
       "  <tbody>\n",
       "    <tr>\n",
       "      <th>0</th>\n",
       "      <td>2009</td>\n",
       "      <td>Central government</td>\n",
       "    </tr>\n",
       "    <tr>\n",
       "      <th>4</th>\n",
       "      <td>2013</td>\n",
       "      <td>Central government</td>\n",
       "    </tr>\n",
       "  </tbody>\n",
       "</table>\n",
       "</div>"
      ],
      "text/plain": [
       "   year              sector\n",
       "0  2009  Central government\n",
       "4  2013  Central government"
      ]
     },
     "execution_count": 117,
     "metadata": {},
     "output_type": "execute_result"
    }
   ],
   "source": [
    "env_df.loc[[0,4],['year','sector']]"
   ]
  },
  {
   "cell_type": "code",
   "execution_count": 120,
   "id": "db6b1410",
   "metadata": {
    "ExecuteTime": {
     "end_time": "2022-05-22T07:26:15.166886Z",
     "start_time": "2022-05-22T07:26:15.155377Z"
    }
   },
   "outputs": [
    {
     "data": {
      "text/html": [
       "<div>\n",
       "<style scoped>\n",
       "    .dataframe tbody tr th:only-of-type {\n",
       "        vertical-align: middle;\n",
       "    }\n",
       "\n",
       "    .dataframe tbody tr th {\n",
       "        vertical-align: top;\n",
       "    }\n",
       "\n",
       "    .dataframe thead th {\n",
       "        text-align: right;\n",
       "    }\n",
       "</style>\n",
       "<table border=\"1\" class=\"dataframe\">\n",
       "  <thead>\n",
       "    <tr style=\"text-align: right;\">\n",
       "      <th></th>\n",
       "      <th>year</th>\n",
       "    </tr>\n",
       "  </thead>\n",
       "  <tbody>\n",
       "    <tr>\n",
       "      <th>3</th>\n",
       "      <td>2012</td>\n",
       "    </tr>\n",
       "  </tbody>\n",
       "</table>\n",
       "</div>"
      ],
      "text/plain": [
       "   year\n",
       "3  2012"
      ]
     },
     "execution_count": 120,
     "metadata": {},
     "output_type": "execute_result"
    }
   ],
   "source": [
    "env_df.loc[[3],['year']]"
   ]
  },
  {
   "cell_type": "code",
   "execution_count": 121,
   "id": "84c3c21f",
   "metadata": {
    "ExecuteTime": {
     "end_time": "2022-05-22T07:26:55.867498Z",
     "start_time": "2022-05-22T07:26:55.859419Z"
    }
   },
   "outputs": [],
   "source": [
    "dict = {'First Score':[100, 90, np.nan, 95],\n",
    "        'Second Score': [30, 45, 56, np.nan],\n",
    "        'Third Score':[np.nan, 40, 80, 98]}"
   ]
  },
  {
   "cell_type": "code",
   "execution_count": 122,
   "id": "31bc5993",
   "metadata": {
    "ExecuteTime": {
     "end_time": "2022-05-22T07:27:30.461525Z",
     "start_time": "2022-05-22T07:27:30.454542Z"
    }
   },
   "outputs": [],
   "source": [
    "df = pd.DataFrame(dict)"
   ]
  },
  {
   "cell_type": "code",
   "execution_count": 123,
   "id": "2d424c19",
   "metadata": {
    "ExecuteTime": {
     "end_time": "2022-05-22T07:27:33.043384Z",
     "start_time": "2022-05-22T07:27:33.026252Z"
    }
   },
   "outputs": [
    {
     "data": {
      "text/html": [
       "<div>\n",
       "<style scoped>\n",
       "    .dataframe tbody tr th:only-of-type {\n",
       "        vertical-align: middle;\n",
       "    }\n",
       "\n",
       "    .dataframe tbody tr th {\n",
       "        vertical-align: top;\n",
       "    }\n",
       "\n",
       "    .dataframe thead th {\n",
       "        text-align: right;\n",
       "    }\n",
       "</style>\n",
       "<table border=\"1\" class=\"dataframe\">\n",
       "  <thead>\n",
       "    <tr style=\"text-align: right;\">\n",
       "      <th></th>\n",
       "      <th>First Score</th>\n",
       "      <th>Second Score</th>\n",
       "      <th>Third Score</th>\n",
       "    </tr>\n",
       "  </thead>\n",
       "  <tbody>\n",
       "    <tr>\n",
       "      <th>0</th>\n",
       "      <td>100.0</td>\n",
       "      <td>30.0</td>\n",
       "      <td>NaN</td>\n",
       "    </tr>\n",
       "    <tr>\n",
       "      <th>1</th>\n",
       "      <td>90.0</td>\n",
       "      <td>45.0</td>\n",
       "      <td>40.0</td>\n",
       "    </tr>\n",
       "    <tr>\n",
       "      <th>2</th>\n",
       "      <td>NaN</td>\n",
       "      <td>56.0</td>\n",
       "      <td>80.0</td>\n",
       "    </tr>\n",
       "    <tr>\n",
       "      <th>3</th>\n",
       "      <td>95.0</td>\n",
       "      <td>NaN</td>\n",
       "      <td>98.0</td>\n",
       "    </tr>\n",
       "  </tbody>\n",
       "</table>\n",
       "</div>"
      ],
      "text/plain": [
       "   First Score  Second Score  Third Score\n",
       "0        100.0          30.0          NaN\n",
       "1         90.0          45.0         40.0\n",
       "2          NaN          56.0         80.0\n",
       "3         95.0           NaN         98.0"
      ]
     },
     "execution_count": 123,
     "metadata": {},
     "output_type": "execute_result"
    }
   ],
   "source": [
    "df"
   ]
  },
  {
   "cell_type": "code",
   "execution_count": 124,
   "id": "5b904d17",
   "metadata": {
    "ExecuteTime": {
     "end_time": "2022-05-22T07:33:02.176507Z",
     "start_time": "2022-05-22T07:33:02.162944Z"
    }
   },
   "outputs": [
    {
     "data": {
      "text/html": [
       "<div>\n",
       "<style scoped>\n",
       "    .dataframe tbody tr th:only-of-type {\n",
       "        vertical-align: middle;\n",
       "    }\n",
       "\n",
       "    .dataframe tbody tr th {\n",
       "        vertical-align: top;\n",
       "    }\n",
       "\n",
       "    .dataframe thead th {\n",
       "        text-align: right;\n",
       "    }\n",
       "</style>\n",
       "<table border=\"1\" class=\"dataframe\">\n",
       "  <thead>\n",
       "    <tr style=\"text-align: right;\">\n",
       "      <th></th>\n",
       "      <th>First Score</th>\n",
       "      <th>Second Score</th>\n",
       "      <th>Third Score</th>\n",
       "    </tr>\n",
       "  </thead>\n",
       "  <tbody>\n",
       "    <tr>\n",
       "      <th>0</th>\n",
       "      <td>False</td>\n",
       "      <td>False</td>\n",
       "      <td>True</td>\n",
       "    </tr>\n",
       "    <tr>\n",
       "      <th>1</th>\n",
       "      <td>False</td>\n",
       "      <td>False</td>\n",
       "      <td>False</td>\n",
       "    </tr>\n",
       "    <tr>\n",
       "      <th>2</th>\n",
       "      <td>True</td>\n",
       "      <td>False</td>\n",
       "      <td>False</td>\n",
       "    </tr>\n",
       "    <tr>\n",
       "      <th>3</th>\n",
       "      <td>False</td>\n",
       "      <td>True</td>\n",
       "      <td>False</td>\n",
       "    </tr>\n",
       "  </tbody>\n",
       "</table>\n",
       "</div>"
      ],
      "text/plain": [
       "   First Score  Second Score  Third Score\n",
       "0        False         False         True\n",
       "1        False         False        False\n",
       "2         True         False        False\n",
       "3        False          True        False"
      ]
     },
     "execution_count": 124,
     "metadata": {},
     "output_type": "execute_result"
    }
   ],
   "source": [
    "df.isnull()"
   ]
  },
  {
   "cell_type": "code",
   "execution_count": 125,
   "id": "9be093e3",
   "metadata": {
    "ExecuteTime": {
     "end_time": "2022-05-22T07:36:46.567233Z",
     "start_time": "2022-05-22T07:36:46.524082Z"
    }
   },
   "outputs": [
    {
     "data": {
      "text/html": [
       "<div>\n",
       "<style scoped>\n",
       "    .dataframe tbody tr th:only-of-type {\n",
       "        vertical-align: middle;\n",
       "    }\n",
       "\n",
       "    .dataframe tbody tr th {\n",
       "        vertical-align: top;\n",
       "    }\n",
       "\n",
       "    .dataframe thead th {\n",
       "        text-align: right;\n",
       "    }\n",
       "</style>\n",
       "<table border=\"1\" class=\"dataframe\">\n",
       "  <thead>\n",
       "    <tr style=\"text-align: right;\">\n",
       "      <th></th>\n",
       "      <th>First Score</th>\n",
       "      <th>Second Score</th>\n",
       "      <th>Third Score</th>\n",
       "    </tr>\n",
       "  </thead>\n",
       "  <tbody>\n",
       "    <tr>\n",
       "      <th>0</th>\n",
       "      <td>100.0</td>\n",
       "      <td>30.0</td>\n",
       "      <td>54.0</td>\n",
       "    </tr>\n",
       "    <tr>\n",
       "      <th>1</th>\n",
       "      <td>90.0</td>\n",
       "      <td>45.0</td>\n",
       "      <td>40.0</td>\n",
       "    </tr>\n",
       "    <tr>\n",
       "      <th>2</th>\n",
       "      <td>54.0</td>\n",
       "      <td>56.0</td>\n",
       "      <td>80.0</td>\n",
       "    </tr>\n",
       "    <tr>\n",
       "      <th>3</th>\n",
       "      <td>95.0</td>\n",
       "      <td>54.0</td>\n",
       "      <td>98.0</td>\n",
       "    </tr>\n",
       "  </tbody>\n",
       "</table>\n",
       "</div>"
      ],
      "text/plain": [
       "   First Score  Second Score  Third Score\n",
       "0        100.0          30.0         54.0\n",
       "1         90.0          45.0         40.0\n",
       "2         54.0          56.0         80.0\n",
       "3         95.0          54.0         98.0"
      ]
     },
     "execution_count": 125,
     "metadata": {},
     "output_type": "execute_result"
    }
   ],
   "source": [
    "df.fillna(54)"
   ]
  },
  {
   "cell_type": "code",
   "execution_count": 126,
   "id": "c0cffdde",
   "metadata": {
    "ExecuteTime": {
     "end_time": "2022-05-22T07:37:00.343953Z",
     "start_time": "2022-05-22T07:37:00.325008Z"
    }
   },
   "outputs": [
    {
     "data": {
      "text/html": [
       "<div>\n",
       "<style scoped>\n",
       "    .dataframe tbody tr th:only-of-type {\n",
       "        vertical-align: middle;\n",
       "    }\n",
       "\n",
       "    .dataframe tbody tr th {\n",
       "        vertical-align: top;\n",
       "    }\n",
       "\n",
       "    .dataframe thead th {\n",
       "        text-align: right;\n",
       "    }\n",
       "</style>\n",
       "<table border=\"1\" class=\"dataframe\">\n",
       "  <thead>\n",
       "    <tr style=\"text-align: right;\">\n",
       "      <th></th>\n",
       "      <th>First Score</th>\n",
       "      <th>Second Score</th>\n",
       "      <th>Third Score</th>\n",
       "    </tr>\n",
       "  </thead>\n",
       "  <tbody>\n",
       "    <tr>\n",
       "      <th>1</th>\n",
       "      <td>90.0</td>\n",
       "      <td>45.0</td>\n",
       "      <td>40.0</td>\n",
       "    </tr>\n",
       "  </tbody>\n",
       "</table>\n",
       "</div>"
      ],
      "text/plain": [
       "   First Score  Second Score  Third Score\n",
       "1         90.0          45.0         40.0"
      ]
     },
     "execution_count": 126,
     "metadata": {},
     "output_type": "execute_result"
    }
   ],
   "source": [
    "df.dropna()"
   ]
  },
  {
   "cell_type": "code",
   "execution_count": 134,
   "id": "c33d258b",
   "metadata": {
    "ExecuteTime": {
     "end_time": "2022-05-22T08:13:17.124709Z",
     "start_time": "2022-05-22T08:13:17.095383Z"
    }
   },
   "outputs": [],
   "source": [
    "dict2 = {'name':[\"aparna\", \"pankaj\", \"sudhir\", \"Geeku\"],\n",
    "        'degree': [\"MBA\", \"BCA\", \"M.Tech\", \"MBA\"],\n",
    "        'score':[90, 40, 80, 98]}"
   ]
  },
  {
   "cell_type": "code",
   "execution_count": 135,
   "id": "b2c74b76",
   "metadata": {
    "ExecuteTime": {
     "end_time": "2022-05-22T08:13:50.369290Z",
     "start_time": "2022-05-22T08:13:50.357354Z"
    }
   },
   "outputs": [],
   "source": [
    "dff = pd.DataFrame(dict2)"
   ]
  },
  {
   "cell_type": "code",
   "execution_count": 136,
   "id": "61f7b996",
   "metadata": {
    "ExecuteTime": {
     "end_time": "2022-05-22T08:13:54.201860Z",
     "start_time": "2022-05-22T08:13:54.186872Z"
    }
   },
   "outputs": [
    {
     "data": {
      "text/html": [
       "<div>\n",
       "<style scoped>\n",
       "    .dataframe tbody tr th:only-of-type {\n",
       "        vertical-align: middle;\n",
       "    }\n",
       "\n",
       "    .dataframe tbody tr th {\n",
       "        vertical-align: top;\n",
       "    }\n",
       "\n",
       "    .dataframe thead th {\n",
       "        text-align: right;\n",
       "    }\n",
       "</style>\n",
       "<table border=\"1\" class=\"dataframe\">\n",
       "  <thead>\n",
       "    <tr style=\"text-align: right;\">\n",
       "      <th></th>\n",
       "      <th>name</th>\n",
       "      <th>degree</th>\n",
       "      <th>score</th>\n",
       "    </tr>\n",
       "  </thead>\n",
       "  <tbody>\n",
       "    <tr>\n",
       "      <th>0</th>\n",
       "      <td>aparna</td>\n",
       "      <td>MBA</td>\n",
       "      <td>90</td>\n",
       "    </tr>\n",
       "    <tr>\n",
       "      <th>1</th>\n",
       "      <td>pankaj</td>\n",
       "      <td>BCA</td>\n",
       "      <td>40</td>\n",
       "    </tr>\n",
       "    <tr>\n",
       "      <th>2</th>\n",
       "      <td>sudhir</td>\n",
       "      <td>M.Tech</td>\n",
       "      <td>80</td>\n",
       "    </tr>\n",
       "    <tr>\n",
       "      <th>3</th>\n",
       "      <td>Geeku</td>\n",
       "      <td>MBA</td>\n",
       "      <td>98</td>\n",
       "    </tr>\n",
       "  </tbody>\n",
       "</table>\n",
       "</div>"
      ],
      "text/plain": [
       "     name  degree  score\n",
       "0  aparna     MBA     90\n",
       "1  pankaj     BCA     40\n",
       "2  sudhir  M.Tech     80\n",
       "3   Geeku     MBA     98"
      ]
     },
     "execution_count": 136,
     "metadata": {},
     "output_type": "execute_result"
    }
   ],
   "source": [
    "dff"
   ]
  },
  {
   "cell_type": "code",
   "execution_count": 10,
   "id": "227e1bcb",
   "metadata": {
    "ExecuteTime": {
     "end_time": "2022-05-23T11:13:36.278656Z",
     "start_time": "2022-05-23T11:13:36.268684Z"
    }
   },
   "outputs": [
    {
     "name": "stdout",
     "output_type": "stream",
     "text": [
      "[1, 4, 9, 16, 25, 36, 49, 64, 81, 100, 121, 144, 169, 196, 225, 256, 289, 324, 361, 400, 441, 484, 529, 576, 625, 676, 729, 784, 841, 900, 961, 1024, 1089, 1156, 1225, 1296, 1369, 1444, 1521, 1600, 1681, 1764, 1849, 1936, 2025, 2116, 2209, 2304, 2401, 2500, 2601, 2704, 2809, 2916, 3025, 3136, 3249, 3364, 3481, 3600, 3721, 3844, 3969, 4096, 4225, 4356, 4489, 4624, 4761, 4900, 5041, 5184, 5329, 5476, 5625, 5776, 5929, 6084, 6241, 6400, 6561, 6724, 6889, 7056, 7225, 7396, 7569, 7744, 7921, 8100, 8281, 8464, 8649, 8836, 9025, 9216, 9409, 9604, 9801, 10000]\n"
     ]
    }
   ],
   "source": [
    "squares =[]\n",
    "for i in range(1,101):\n",
    "    squares.append(i**2)\n",
    "print(squares)    "
   ]
  },
  {
   "cell_type": "code",
   "execution_count": 7,
   "id": "26d1dc12",
   "metadata": {
    "ExecuteTime": {
     "end_time": "2022-05-23T11:08:39.269417Z",
     "start_time": "2022-05-23T11:08:39.261727Z"
    }
   },
   "outputs": [
    {
     "name": "stdout",
     "output_type": "stream",
     "text": [
      "[1, 4, 9, 16, 25, 36, 49, 64, 81, 100, 121, 144, 169, 196, 225, 256, 289, 324, 361, 400, 441, 484, 529, 576, 625, 676, 729, 784, 841, 900, 961, 1024, 1089, 1156, 1225, 1296, 1369, 1444, 1521, 1600, 1681, 1764, 1849, 1936, 2025, 2116, 2209, 2304, 2401, 2500, 2601, 2704, 2809, 2916, 3025, 3136, 3249, 3364, 3481, 3600, 3721, 3844, 3969, 4096, 4225, 4356, 4489, 4624, 4761, 4900, 5041, 5184, 5329, 5476, 5625, 5776, 5929, 6084, 6241, 6400, 6561, 6724, 6889, 7056, 7225, 7396, 7569, 7744, 7921, 8100, 8281, 8464, 8649, 8836, 9025, 9216, 9409, 9604, 9801, 10000]\n"
     ]
    }
   ],
   "source": [
    "squares2 = [i**2 for i in range(1,101)]\n",
    "print(squares2)"
   ]
  },
  {
   "cell_type": "code",
   "execution_count": 14,
   "id": "ac3dc152",
   "metadata": {
    "ExecuteTime": {
     "end_time": "2022-05-23T12:23:27.740497Z",
     "start_time": "2022-05-23T12:23:27.730994Z"
    }
   },
   "outputs": [
    {
     "name": "stdout",
     "output_type": "stream",
     "text": [
      "[10, 12, 20, 22]\n"
     ]
    }
   ],
   "source": [
    "cart = [5, 7, 9, 10, 12, 15, 19, 20, 22]\n",
    "cashier_3 = []\n",
    "for item in cart:\n",
    "    if item % 2 == 0:\n",
    "        cashier_3.append(item)\n",
    "print(cashier_3)"
   ]
  },
  {
   "cell_type": "code",
   "execution_count": 16,
   "id": "c381f8dd",
   "metadata": {
    "ExecuteTime": {
     "end_time": "2022-05-23T12:24:41.335873Z",
     "start_time": "2022-05-23T12:24:41.330816Z"
    }
   },
   "outputs": [],
   "source": [
    "cashier_4 = [item for item in cart if item % 2==0]"
   ]
  },
  {
   "cell_type": "code",
   "execution_count": 17,
   "id": "d828b3b3",
   "metadata": {
    "ExecuteTime": {
     "end_time": "2022-05-23T12:24:48.611207Z",
     "start_time": "2022-05-23T12:24:48.589581Z"
    }
   },
   "outputs": [
    {
     "data": {
      "text/plain": [
       "[10, 12, 20, 22]"
      ]
     },
     "execution_count": 17,
     "metadata": {},
     "output_type": "execute_result"
    }
   ],
   "source": [
    "cashier_4"
   ]
  },
  {
   "cell_type": "code",
   "execution_count": 34,
   "id": "32fca4d1",
   "metadata": {
    "ExecuteTime": {
     "end_time": "2022-05-23T13:10:56.886463Z",
     "start_time": "2022-05-23T13:10:56.878305Z"
    }
   },
   "outputs": [
    {
     "name": "stdout",
     "output_type": "stream",
     "text": [
      "[2, 6, 8, 9]\n",
      "[2, 6, 8, 9]\n"
     ]
    }
   ],
   "source": [
    "original_list1 = [2,3.75,.04,59.354,6,7.7777,8,9]\n",
    "only_ints1 = []\n",
    "for number in original_list1:\n",
    "    if type(number)==int:\n",
    "        only_ints1.append(number)\n",
    "print(only_ints1)\n",
    "\n",
    "original_list = [2,3.75,.04,59.354,6,7.7777,8,9]\n",
    "only_ints = [number for number in original_list if type(number) == int]\n",
    "print(only_ints)"
   ]
  },
  {
   "cell_type": "code",
   "execution_count": 67,
   "id": "91e47992",
   "metadata": {
    "ExecuteTime": {
     "end_time": "2022-05-23T13:27:27.879480Z",
     "start_time": "2022-05-23T13:27:27.870471Z"
    }
   },
   "outputs": [
    {
     "name": "stdout",
     "output_type": "stream",
     "text": [
      "[2, 3, 4]\n",
      "[2, 3, 4]\n"
     ]
    }
   ],
   "source": [
    "list_a = [1, 2, 3, 4]\n",
    "list_b = [2, 3, 4, 5]\n",
    "common1=[]\n",
    "for x in list_a:\n",
    "    if x in list_b:\n",
    "        common1.append(x)\n",
    "print(common1)\n",
    "\n",
    "list_a = [1, 2, 3, 4]\n",
    "list_b = [2, 3, 4, 5]\n",
    "common = [a for a in list_a if a in list_b]\n",
    "print(common)"
   ]
  },
  {
   "cell_type": "code",
   "execution_count": 69,
   "id": "b9ec5a10",
   "metadata": {
    "ExecuteTime": {
     "end_time": "2022-05-23T13:30:26.868910Z",
     "start_time": "2022-05-23T13:30:26.860129Z"
    }
   },
   "outputs": [
    {
     "name": "stdout",
     "output_type": "stream",
     "text": [
      "10\n",
      "10\n"
     ]
    }
   ],
   "source": [
    "#counting number of spaces in string\n",
    "some_string = 'dont stop when you are tired stop when you are done'\n",
    "list_spaces =[]\n",
    "for i in some_string:\n",
    "    if i == \" \":\n",
    "        list_spaces.append(i)\n",
    "print(len(list_spaces))\n",
    "\n",
    "some_string = 'dont stop when you are tired stop when you are done'\n",
    "spaces = [a for a in some_string if a == \" \"]\n",
    "print(len(spaces))"
   ]
  },
  {
   "cell_type": "code",
   "execution_count": 78,
   "id": "2f48a7ff",
   "metadata": {
    "ExecuteTime": {
     "end_time": "2022-05-23T13:39:04.345317Z",
     "start_time": "2022-05-23T13:39:04.338304Z"
    }
   },
   "outputs": [
    {
     "name": "stdout",
     "output_type": "stream",
     "text": [
      "[7, 14, 21, 28, 35, 42, 49, 56, 63, 70, 77, 84, 91, 98, 105, 112, 119, 126, 133, 140, 147, 154, 161, 168, 175, 182, 189, 196, 203, 210, 217, 224, 231, 238, 245, 252, 259, 266, 273, 280, 287, 294, 301, 308, 315, 322, 329, 336, 343, 350, 357, 364, 371, 378, 385, 392, 399, 406, 413, 420, 427, 434, 441, 448, 455, 462, 469, 476, 483, 490, 497, 504, 511, 518, 525, 532, 539, 546, 553, 560, 567, 574, 581, 588, 595, 602, 609, 616, 623, 630, 637, 644, 651, 658, 665, 672, 679, 686, 693, 700, 707, 714, 721, 728, 735, 742, 749, 756, 763, 770, 777, 784, 791, 798, 805, 812, 819, 826, 833, 840, 847, 854, 861, 868, 875, 882, 889, 896, 903, 910, 917, 924, 931, 938, 945, 952, 959, 966, 973, 980, 987, 994]\n"
     ]
    }
   ],
   "source": [
    "num_list =[]\n",
    "for i in range(1,1001):\n",
    "    if i%7==0:\n",
    "        num_list.append(i)\n",
    "print(num_list)"
   ]
  },
  {
   "cell_type": "code",
   "execution_count": 56,
   "id": "f8a756f7",
   "metadata": {
    "ExecuteTime": {
     "end_time": "2022-05-23T13:22:45.913163Z",
     "start_time": "2022-05-23T13:22:45.907200Z"
    }
   },
   "outputs": [
    {
     "name": "stdout",
     "output_type": "stream",
     "text": [
      "[7, 14, 21, 28, 35, 42, 49, 56, 63, 70, 77, 84, 91, 98, 105, 112, 119, 126, 133, 140, 147, 154, 161, 168, 175, 182, 189, 196, 203, 210, 217, 224, 231, 238, 245, 252, 259, 266, 273, 280, 287, 294, 301, 308, 315, 322, 329, 336, 343, 350, 357, 364, 371, 378, 385, 392, 399, 406, 413, 420, 427, 434, 441, 448, 455, 462, 469, 476, 483, 490, 497, 504, 511, 518, 525, 532, 539, 546, 553, 560, 567, 574, 581, 588, 595, 602, 609, 616, 623, 630, 637, 644, 651, 658, 665, 672, 679, 686, 693, 700, 707, 714, 721, 728, 735, 742, 749, 756, 763, 770, 777, 784, 791, 798, 805, 812, 819, 826, 833, 840, 847, 854, 861, 868, 875, 882, 889, 896, 903, 910, 917, 924, 931, 938, 945, 952, 959, 966, 973, 980, 987, 994]\n"
     ]
    }
   ],
   "source": [
    "num = [a for a in range(1,1001) if a%7 == 0]\n",
    "print(num)"
   ]
  },
  {
   "cell_type": "code",
   "execution_count": 81,
   "id": "f3947d4c",
   "metadata": {
    "ExecuteTime": {
     "end_time": "2022-05-23T13:41:46.470763Z",
     "start_time": "2022-05-23T13:41:44.882344Z"
    }
   },
   "outputs": [
    {
     "data": {
      "text/html": [
       "<div>\n",
       "<style scoped>\n",
       "    .dataframe tbody tr th:only-of-type {\n",
       "        vertical-align: middle;\n",
       "    }\n",
       "\n",
       "    .dataframe tbody tr th {\n",
       "        vertical-align: top;\n",
       "    }\n",
       "\n",
       "    .dataframe thead th {\n",
       "        text-align: right;\n",
       "    }\n",
       "</style>\n",
       "<table border=\"1\" class=\"dataframe\">\n",
       "  <thead>\n",
       "    <tr style=\"text-align: right;\">\n",
       "      <th></th>\n",
       "      <th>name</th>\n",
       "      <th>year</th>\n",
       "      <th>reports</th>\n",
       "    </tr>\n",
       "  </thead>\n",
       "  <tbody>\n",
       "    <tr>\n",
       "      <th>Cochice</th>\n",
       "      <td>Jason</td>\n",
       "      <td>2012</td>\n",
       "      <td>4</td>\n",
       "    </tr>\n",
       "    <tr>\n",
       "      <th>Pima</th>\n",
       "      <td>Molly</td>\n",
       "      <td>2012</td>\n",
       "      <td>24</td>\n",
       "    </tr>\n",
       "    <tr>\n",
       "      <th>Santa Cruz</th>\n",
       "      <td>Tina</td>\n",
       "      <td>2013</td>\n",
       "      <td>31</td>\n",
       "    </tr>\n",
       "    <tr>\n",
       "      <th>Maricopa</th>\n",
       "      <td>Jake</td>\n",
       "      <td>2014</td>\n",
       "      <td>2</td>\n",
       "    </tr>\n",
       "    <tr>\n",
       "      <th>Yuma</th>\n",
       "      <td>Amy</td>\n",
       "      <td>2014</td>\n",
       "      <td>3</td>\n",
       "    </tr>\n",
       "  </tbody>\n",
       "</table>\n",
       "</div>"
      ],
      "text/plain": [
       "             name  year  reports\n",
       "Cochice     Jason  2012        4\n",
       "Pima        Molly  2012       24\n",
       "Santa Cruz   Tina  2013       31\n",
       "Maricopa     Jake  2014        2\n",
       "Yuma          Amy  2014        3"
      ]
     },
     "execution_count": 81,
     "metadata": {},
     "output_type": "execute_result"
    }
   ],
   "source": [
    "import pandas as pd \n",
    "data_1 = {'name': ['Jason', 'Molly', 'Tina', 'Jake', 'Amy'], \n",
    "        'year': [2012, 2012, 2013, 2014, 2014], \n",
    "        'reports': [4, 24, 31, 2, 3]}\n",
    "df = pd.DataFrame(data_1, index = ['Cochice', 'Pima', 'Santa Cruz', 'Maricopa', 'Yuma'])\n",
    "df"
   ]
  },
  {
   "cell_type": "code",
   "execution_count": 82,
   "id": "b99e458d",
   "metadata": {
    "ExecuteTime": {
     "end_time": "2022-05-23T13:44:44.970153Z",
     "start_time": "2022-05-23T13:44:44.927864Z"
    }
   },
   "outputs": [
    {
     "data": {
      "text/html": [
       "<div>\n",
       "<style scoped>\n",
       "    .dataframe tbody tr th:only-of-type {\n",
       "        vertical-align: middle;\n",
       "    }\n",
       "\n",
       "    .dataframe tbody tr th {\n",
       "        vertical-align: top;\n",
       "    }\n",
       "\n",
       "    .dataframe thead th {\n",
       "        text-align: right;\n",
       "    }\n",
       "</style>\n",
       "<table border=\"1\" class=\"dataframe\">\n",
       "  <thead>\n",
       "    <tr style=\"text-align: right;\">\n",
       "      <th></th>\n",
       "      <th>name</th>\n",
       "      <th>year</th>\n",
       "      <th>reports</th>\n",
       "      <th>next_year</th>\n",
       "    </tr>\n",
       "  </thead>\n",
       "  <tbody>\n",
       "    <tr>\n",
       "      <th>Cochice</th>\n",
       "      <td>Jason</td>\n",
       "      <td>2012</td>\n",
       "      <td>4</td>\n",
       "      <td>2013</td>\n",
       "    </tr>\n",
       "    <tr>\n",
       "      <th>Pima</th>\n",
       "      <td>Molly</td>\n",
       "      <td>2012</td>\n",
       "      <td>24</td>\n",
       "      <td>2013</td>\n",
       "    </tr>\n",
       "    <tr>\n",
       "      <th>Santa Cruz</th>\n",
       "      <td>Tina</td>\n",
       "      <td>2013</td>\n",
       "      <td>31</td>\n",
       "      <td>2014</td>\n",
       "    </tr>\n",
       "    <tr>\n",
       "      <th>Maricopa</th>\n",
       "      <td>Jake</td>\n",
       "      <td>2014</td>\n",
       "      <td>2</td>\n",
       "      <td>2015</td>\n",
       "    </tr>\n",
       "    <tr>\n",
       "      <th>Yuma</th>\n",
       "      <td>Amy</td>\n",
       "      <td>2014</td>\n",
       "      <td>3</td>\n",
       "      <td>2015</td>\n",
       "    </tr>\n",
       "  </tbody>\n",
       "</table>\n",
       "</div>"
      ],
      "text/plain": [
       "             name  year  reports  next_year\n",
       "Cochice     Jason  2012        4       2013\n",
       "Pima        Molly  2012       24       2013\n",
       "Santa Cruz   Tina  2013       31       2014\n",
       "Maricopa     Jake  2014        2       2015\n",
       "Yuma          Amy  2014        3       2015"
      ]
     },
     "execution_count": 82,
     "metadata": {},
     "output_type": "execute_result"
    }
   ],
   "source": [
    "next_year = []\n",
    "\n",
    "for row in df['year']:\n",
    "    next_year.append(row + 1)\n",
    "\n",
    "df['next_year'] = next_year\n",
    "\n",
    "df"
   ]
  },
  {
   "cell_type": "code",
   "execution_count": 83,
   "id": "0b358d84",
   "metadata": {
    "ExecuteTime": {
     "end_time": "2022-05-23T13:46:37.972325Z",
     "start_time": "2022-05-23T13:46:37.956541Z"
    }
   },
   "outputs": [
    {
     "data": {
      "text/html": [
       "<div>\n",
       "<style scoped>\n",
       "    .dataframe tbody tr th:only-of-type {\n",
       "        vertical-align: middle;\n",
       "    }\n",
       "\n",
       "    .dataframe tbody tr th {\n",
       "        vertical-align: top;\n",
       "    }\n",
       "\n",
       "    .dataframe thead th {\n",
       "        text-align: right;\n",
       "    }\n",
       "</style>\n",
       "<table border=\"1\" class=\"dataframe\">\n",
       "  <thead>\n",
       "    <tr style=\"text-align: right;\">\n",
       "      <th></th>\n",
       "      <th>name</th>\n",
       "      <th>year</th>\n",
       "      <th>reports</th>\n",
       "      <th>next_year</th>\n",
       "      <th>previous_year</th>\n",
       "    </tr>\n",
       "  </thead>\n",
       "  <tbody>\n",
       "    <tr>\n",
       "      <th>Cochice</th>\n",
       "      <td>Jason</td>\n",
       "      <td>2012</td>\n",
       "      <td>4</td>\n",
       "      <td>2013</td>\n",
       "      <td>2011</td>\n",
       "    </tr>\n",
       "    <tr>\n",
       "      <th>Pima</th>\n",
       "      <td>Molly</td>\n",
       "      <td>2012</td>\n",
       "      <td>24</td>\n",
       "      <td>2013</td>\n",
       "      <td>2011</td>\n",
       "    </tr>\n",
       "    <tr>\n",
       "      <th>Santa Cruz</th>\n",
       "      <td>Tina</td>\n",
       "      <td>2013</td>\n",
       "      <td>31</td>\n",
       "      <td>2014</td>\n",
       "      <td>2012</td>\n",
       "    </tr>\n",
       "    <tr>\n",
       "      <th>Maricopa</th>\n",
       "      <td>Jake</td>\n",
       "      <td>2014</td>\n",
       "      <td>2</td>\n",
       "      <td>2015</td>\n",
       "      <td>2013</td>\n",
       "    </tr>\n",
       "    <tr>\n",
       "      <th>Yuma</th>\n",
       "      <td>Amy</td>\n",
       "      <td>2014</td>\n",
       "      <td>3</td>\n",
       "      <td>2015</td>\n",
       "      <td>2013</td>\n",
       "    </tr>\n",
       "  </tbody>\n",
       "</table>\n",
       "</div>"
      ],
      "text/plain": [
       "             name  year  reports  next_year  previous_year\n",
       "Cochice     Jason  2012        4       2013           2011\n",
       "Pima        Molly  2012       24       2013           2011\n",
       "Santa Cruz   Tina  2013       31       2014           2012\n",
       "Maricopa     Jake  2014        2       2015           2013\n",
       "Yuma          Amy  2014        3       2015           2013"
      ]
     },
     "execution_count": 83,
     "metadata": {},
     "output_type": "execute_result"
    }
   ],
   "source": [
    "df['previous_year'] = [row-1 for row in df['year']]\n",
    "df"
   ]
  },
  {
   "cell_type": "code",
   "execution_count": null,
   "id": "b6eff9e9",
   "metadata": {},
   "outputs": [],
   "source": []
  }
 ],
 "metadata": {
  "kernelspec": {
   "display_name": "Python 3 (ipykernel)",
   "language": "python",
   "name": "python3"
  },
  "language_info": {
   "codemirror_mode": {
    "name": "ipython",
    "version": 3
   },
   "file_extension": ".py",
   "mimetype": "text/x-python",
   "name": "python",
   "nbconvert_exporter": "python",
   "pygments_lexer": "ipython3",
   "version": "3.9.7"
  },
  "toc": {
   "base_numbering": 1,
   "nav_menu": {},
   "number_sections": true,
   "sideBar": true,
   "skip_h1_title": false,
   "title_cell": "Table of Contents",
   "title_sidebar": "Contents",
   "toc_cell": false,
   "toc_position": {},
   "toc_section_display": true,
   "toc_window_display": false
  },
  "varInspector": {
   "cols": {
    "lenName": 16,
    "lenType": 16,
    "lenVar": 40
   },
   "kernels_config": {
    "python": {
     "delete_cmd_postfix": "",
     "delete_cmd_prefix": "del ",
     "library": "var_list.py",
     "varRefreshCmd": "print(var_dic_list())"
    },
    "r": {
     "delete_cmd_postfix": ") ",
     "delete_cmd_prefix": "rm(",
     "library": "var_list.r",
     "varRefreshCmd": "cat(var_dic_list()) "
    }
   },
   "types_to_exclude": [
    "module",
    "function",
    "builtin_function_or_method",
    "instance",
    "_Feature"
   ],
   "window_display": false
  }
 },
 "nbformat": 4,
 "nbformat_minor": 5
}
