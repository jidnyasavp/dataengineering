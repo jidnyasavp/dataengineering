{
 "cells": [
  {
   "cell_type": "code",
   "execution_count": 10,
   "id": "01985911",
   "metadata": {},
   "outputs": [
    {
     "name": "stdout",
     "output_type": "stream",
     "text": [
      "Enter the length of array4\n",
      "Enter the next value44\n",
      "Enter the next value4\n",
      "Enter the next value44\n",
      "Enter the next value45\n",
      "array('i', [44, 4, 44, 45])\n",
      "Enter the value for search44\n",
      "0\n",
      "0\n"
     ]
    }
   ],
   "source": [
    "from array import *\n",
    "arr = array('i',[])\n",
    "n = int(input(\"Enter the length of array\"))\n",
    "\n",
    "for i in range(n):\n",
    "    x = int(input(\"Enter the next value\"))\n",
    "    arr.append(x)\n",
    "    \n",
    "print(arr) \n",
    "\n",
    "val = int(input(\"Enter the value for search\"))\n",
    "\n",
    "k= 0\n",
    "for e in arr:\n",
    "    if e==val:\n",
    "        print(k)\n",
    "        break\n",
    "    k+=1   \n",
    "    \n",
    "print(arr.index(val))\n",
    "    \n",
    "    "
   ]
  },
  {
   "cell_type": "code",
   "execution_count": 1,
   "id": "c9ab8809",
   "metadata": {
    "ExecuteTime": {
     "end_time": "2022-05-18T06:24:06.581358Z",
     "start_time": "2022-05-18T06:24:06.574427Z"
    }
   },
   "outputs": [
    {
     "name": "stdout",
     "output_type": "stream",
     "text": [
      "('i', [5, 9, 8, 4, 1])\n"
     ]
    }
   ],
   "source": [
    "vals = ('i',[5,9,8,4,1])\n",
    "print(vals)"
   ]
  },
  {
   "cell_type": "code",
   "execution_count": null,
   "id": "2dd3fdeb",
   "metadata": {
    "ExecuteTime": {
     "end_time": "2022-05-18T06:41:27.610090Z",
     "start_time": "2022-05-18T06:41:27.106957Z"
    }
   },
   "outputs": [],
   "source": [
    "\n",
    "    "
   ]
  },
  {
   "cell_type": "code",
   "execution_count": null,
   "id": "fffdc502",
   "metadata": {},
   "outputs": [],
   "source": []
  }
 ],
 "metadata": {
  "kernelspec": {
   "display_name": "Python 3 (ipykernel)",
   "language": "python",
   "name": "python3"
  },
  "language_info": {
   "codemirror_mode": {
    "name": "ipython",
    "version": 3
   },
   "file_extension": ".py",
   "mimetype": "text/x-python",
   "name": "python",
   "nbconvert_exporter": "python",
   "pygments_lexer": "ipython3",
   "version": "3.9.7"
  },
  "toc": {
   "base_numbering": 1,
   "nav_menu": {},
   "number_sections": true,
   "sideBar": true,
   "skip_h1_title": false,
   "title_cell": "Table of Contents",
   "title_sidebar": "Contents",
   "toc_cell": false,
   "toc_position": {},
   "toc_section_display": true,
   "toc_window_display": false
  },
  "varInspector": {
   "cols": {
    "lenName": 16,
    "lenType": 16,
    "lenVar": 40
   },
   "kernels_config": {
    "python": {
     "delete_cmd_postfix": "",
     "delete_cmd_prefix": "del ",
     "library": "var_list.py",
     "varRefreshCmd": "print(var_dic_list())"
    },
    "r": {
     "delete_cmd_postfix": ") ",
     "delete_cmd_prefix": "rm(",
     "library": "var_list.r",
     "varRefreshCmd": "cat(var_dic_list()) "
    }
   },
   "types_to_exclude": [
    "module",
    "function",
    "builtin_function_or_method",
    "instance",
    "_Feature"
   ],
   "window_display": false
  }
 },
 "nbformat": 4,
 "nbformat_minor": 5
}
